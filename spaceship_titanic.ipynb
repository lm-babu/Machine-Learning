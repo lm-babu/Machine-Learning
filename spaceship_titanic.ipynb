{
 "cells": [
  {
   "cell_type": "markdown",
   "id": "5657b464",
   "metadata": {
    "papermill": {
     "duration": 0.017713,
     "end_time": "2022-10-31T09:49:58.137607",
     "exception": false,
     "start_time": "2022-10-31T09:49:58.119894",
     "status": "completed"
    },
    "tags": []
   },
   "source": [
    "# **Spaceship Titanic**"
   ]
  },
  {
   "cell_type": "markdown",
   "id": "80986b6d",
   "metadata": {
    "papermill": {
     "duration": 0.016022,
     "end_time": "2022-10-31T09:49:58.170065",
     "exception": false,
     "start_time": "2022-10-31T09:49:58.154043",
     "status": "completed"
    },
    "tags": []
   },
   "source": [
    "**Members**\n",
    "1. Nutnaree Buaphad  (6309658232)\n",
    "1. Chanisara Tanoueng  (6309658737)\n",
    "1. Ratchanok Prakhammin  (6309658778)\n",
    "1. Krittapas Bunkrapue  (6309658869)\n",
    "1. Thananat Jiramongkonphat  (6309659016)\n",
    "1. Wattanachat Kueapara  (6309659164)"
   ]
  },
  {
   "cell_type": "markdown",
   "id": "9cb7af5d",
   "metadata": {
    "papermill": {
     "duration": 0.015688,
     "end_time": "2022-10-31T09:49:58.201918",
     "exception": false,
     "start_time": "2022-10-31T09:49:58.186230",
     "status": "completed"
    },
    "tags": []
   },
   "source": [
    "# **Import Library และ Datasets**"
   ]
  },
  {
   "cell_type": "code",
   "execution_count": 1,
   "id": "2ca6bc45",
   "metadata": {
    "execution": {
     "iopub.execute_input": "2022-10-31T09:49:58.237948Z",
     "iopub.status.busy": "2022-10-31T09:49:58.237329Z",
     "iopub.status.idle": "2022-10-31T09:49:59.817981Z",
     "shell.execute_reply": "2022-10-31T09:49:59.816560Z"
    },
    "papermill": {
     "duration": 1.603244,
     "end_time": "2022-10-31T09:49:59.821684",
     "exception": false,
     "start_time": "2022-10-31T09:49:58.218440",
     "status": "completed"
    },
    "tags": []
   },
   "outputs": [],
   "source": [
    "import numpy as np\n",
    "import pandas as pd\n",
    "from catboost import Pool, CatBoostClassifier\n",
    "\n",
    "import os\n",
    "for dirname, _, filenames in os.walk('/kaggle/input'):\n",
    "    for filename in filenames:\n",
    "        print(os.path.join(dirname, filename))"
   ]
  },
  {
   "cell_type": "code",
   "execution_count": 2,
   "id": "80890b8c",
   "metadata": {
    "execution": {
     "iopub.execute_input": "2022-10-31T09:49:59.858969Z",
     "iopub.status.busy": "2022-10-31T09:49:59.858558Z",
     "iopub.status.idle": "2022-10-31T09:49:59.938403Z",
     "shell.execute_reply": "2022-10-31T09:49:59.937298Z"
    },
    "papermill": {
     "duration": 0.101019,
     "end_time": "2022-10-31T09:49:59.941440",
     "exception": false,
     "start_time": "2022-10-31T09:49:59.840421",
     "status": "completed"
    },
    "tags": []
   },
   "outputs": [],
   "source": [
    "import matplotlib.pyplot as plt\n",
    "%matplotlib inline\n",
    "import seaborn as sns\n",
    "sns.set(style='darkgrid', font_scale=2)\n",
    "\n",
    "from sklearn.model_selection import train_test_split\n",
    "from sklearn.metrics import accuracy_score\n",
    "from sklearn.preprocessing import LabelEncoder"
   ]
  },
  {
   "cell_type": "code",
   "execution_count": 3,
   "id": "1dc891ce",
   "metadata": {
    "execution": {
     "iopub.execute_input": "2022-10-31T09:49:59.977136Z",
     "iopub.status.busy": "2022-10-31T09:49:59.976720Z",
     "iopub.status.idle": "2022-10-31T09:50:00.080290Z",
     "shell.execute_reply": "2022-10-31T09:50:00.079117Z"
    },
    "papermill": {
     "duration": 0.123787,
     "end_time": "2022-10-31T09:50:00.082666",
     "exception": false,
     "start_time": "2022-10-31T09:49:59.958879",
     "status": "completed"
    },
    "tags": []
   },
   "outputs": [
    {
     "data": {
      "text/html": [
       "<div>\n",
       "<style scoped>\n",
       "    .dataframe tbody tr th:only-of-type {\n",
       "        vertical-align: middle;\n",
       "    }\n",
       "\n",
       "    .dataframe tbody tr th {\n",
       "        vertical-align: top;\n",
       "    }\n",
       "\n",
       "    .dataframe thead th {\n",
       "        text-align: right;\n",
       "    }\n",
       "</style>\n",
       "<table border=\"1\" class=\"dataframe\">\n",
       "  <thead>\n",
       "    <tr style=\"text-align: right;\">\n",
       "      <th></th>\n",
       "      <th>PassengerId</th>\n",
       "      <th>HomePlanet</th>\n",
       "      <th>CryoSleep</th>\n",
       "      <th>Cabin</th>\n",
       "      <th>Destination</th>\n",
       "      <th>Age</th>\n",
       "      <th>VIP</th>\n",
       "      <th>RoomService</th>\n",
       "      <th>FoodCourt</th>\n",
       "      <th>ShoppingMall</th>\n",
       "      <th>Spa</th>\n",
       "      <th>VRDeck</th>\n",
       "      <th>Name</th>\n",
       "      <th>Transported</th>\n",
       "    </tr>\n",
       "  </thead>\n",
       "  <tbody>\n",
       "    <tr>\n",
       "      <th>0</th>\n",
       "      <td>0001_01</td>\n",
       "      <td>Europa</td>\n",
       "      <td>False</td>\n",
       "      <td>B/0/P</td>\n",
       "      <td>TRAPPIST-1e</td>\n",
       "      <td>39.0</td>\n",
       "      <td>False</td>\n",
       "      <td>0.0</td>\n",
       "      <td>0.0</td>\n",
       "      <td>0.0</td>\n",
       "      <td>0.0</td>\n",
       "      <td>0.0</td>\n",
       "      <td>Maham Ofracculy</td>\n",
       "      <td>False</td>\n",
       "    </tr>\n",
       "    <tr>\n",
       "      <th>1</th>\n",
       "      <td>0002_01</td>\n",
       "      <td>Earth</td>\n",
       "      <td>False</td>\n",
       "      <td>F/0/S</td>\n",
       "      <td>TRAPPIST-1e</td>\n",
       "      <td>24.0</td>\n",
       "      <td>False</td>\n",
       "      <td>109.0</td>\n",
       "      <td>9.0</td>\n",
       "      <td>25.0</td>\n",
       "      <td>549.0</td>\n",
       "      <td>44.0</td>\n",
       "      <td>Juanna Vines</td>\n",
       "      <td>True</td>\n",
       "    </tr>\n",
       "    <tr>\n",
       "      <th>2</th>\n",
       "      <td>0003_01</td>\n",
       "      <td>Europa</td>\n",
       "      <td>False</td>\n",
       "      <td>A/0/S</td>\n",
       "      <td>TRAPPIST-1e</td>\n",
       "      <td>58.0</td>\n",
       "      <td>True</td>\n",
       "      <td>43.0</td>\n",
       "      <td>3576.0</td>\n",
       "      <td>0.0</td>\n",
       "      <td>6715.0</td>\n",
       "      <td>49.0</td>\n",
       "      <td>Altark Susent</td>\n",
       "      <td>False</td>\n",
       "    </tr>\n",
       "    <tr>\n",
       "      <th>3</th>\n",
       "      <td>0003_02</td>\n",
       "      <td>Europa</td>\n",
       "      <td>False</td>\n",
       "      <td>A/0/S</td>\n",
       "      <td>TRAPPIST-1e</td>\n",
       "      <td>33.0</td>\n",
       "      <td>False</td>\n",
       "      <td>0.0</td>\n",
       "      <td>1283.0</td>\n",
       "      <td>371.0</td>\n",
       "      <td>3329.0</td>\n",
       "      <td>193.0</td>\n",
       "      <td>Solam Susent</td>\n",
       "      <td>False</td>\n",
       "    </tr>\n",
       "    <tr>\n",
       "      <th>4</th>\n",
       "      <td>0004_01</td>\n",
       "      <td>Earth</td>\n",
       "      <td>False</td>\n",
       "      <td>F/1/S</td>\n",
       "      <td>TRAPPIST-1e</td>\n",
       "      <td>16.0</td>\n",
       "      <td>False</td>\n",
       "      <td>303.0</td>\n",
       "      <td>70.0</td>\n",
       "      <td>151.0</td>\n",
       "      <td>565.0</td>\n",
       "      <td>2.0</td>\n",
       "      <td>Willy Santantines</td>\n",
       "      <td>True</td>\n",
       "    </tr>\n",
       "  </tbody>\n",
       "</table>\n",
       "</div>"
      ],
      "text/plain": [
       "  PassengerId HomePlanet CryoSleep  Cabin  Destination   Age    VIP  \\\n",
       "0     0001_01     Europa     False  B/0/P  TRAPPIST-1e  39.0  False   \n",
       "1     0002_01      Earth     False  F/0/S  TRAPPIST-1e  24.0  False   \n",
       "2     0003_01     Europa     False  A/0/S  TRAPPIST-1e  58.0   True   \n",
       "3     0003_02     Europa     False  A/0/S  TRAPPIST-1e  33.0  False   \n",
       "4     0004_01      Earth     False  F/1/S  TRAPPIST-1e  16.0  False   \n",
       "\n",
       "   RoomService  FoodCourt  ShoppingMall     Spa  VRDeck               Name  \\\n",
       "0          0.0        0.0           0.0     0.0     0.0    Maham Ofracculy   \n",
       "1        109.0        9.0          25.0   549.0    44.0       Juanna Vines   \n",
       "2         43.0     3576.0           0.0  6715.0    49.0      Altark Susent   \n",
       "3          0.0     1283.0         371.0  3329.0   193.0       Solam Susent   \n",
       "4        303.0       70.0         151.0   565.0     2.0  Willy Santantines   \n",
       "\n",
       "   Transported  \n",
       "0        False  \n",
       "1         True  \n",
       "2        False  \n",
       "3        False  \n",
       "4         True  "
      ]
     },
     "execution_count": 3,
     "metadata": {},
     "output_type": "execute_result"
    }
   ],
   "source": [
    "df_train = pd.read_csv(r\"C:\\Users\\Lokesh\\Downloads\\train.csv\")\n",
    "df_test = pd.read_csv(r\"C:\\Users\\Lokesh\\Downloads\\test.csv\")\n",
    "\n",
    "df_train.head()"
   ]
  },
  {
   "cell_type": "markdown",
   "id": "352bec41",
   "metadata": {
    "papermill": {
     "duration": 0.016362,
     "end_time": "2022-10-31T09:50:00.115648",
     "exception": false,
     "start_time": "2022-10-31T09:50:00.099286",
     "status": "completed"
    },
    "tags": []
   },
   "source": [
    "**ทำการรวม Dataset train และ test**"
   ]
  },
  {
   "cell_type": "code",
   "execution_count": 4,
   "id": "ba6cb960",
   "metadata": {
    "execution": {
     "iopub.execute_input": "2022-10-31T09:50:00.150867Z",
     "iopub.status.busy": "2022-10-31T09:50:00.150164Z",
     "iopub.status.idle": "2022-10-31T09:50:00.160194Z",
     "shell.execute_reply": "2022-10-31T09:50:00.159148Z"
    },
    "papermill": {
     "duration": 0.030232,
     "end_time": "2022-10-31T09:50:00.162423",
     "exception": false,
     "start_time": "2022-10-31T09:50:00.132191",
     "status": "completed"
    },
    "tags": []
   },
   "outputs": [],
   "source": [
    "df_train['Train'] = 'Yes'\n",
    "df_test['Train'] = 'No'"
   ]
  },
  {
   "cell_type": "code",
   "execution_count": 5,
   "id": "a3211e5c",
   "metadata": {
    "execution": {
     "iopub.execute_input": "2022-10-31T09:50:00.197926Z",
     "iopub.status.busy": "2022-10-31T09:50:00.197003Z",
     "iopub.status.idle": "2022-10-31T09:50:00.236744Z",
     "shell.execute_reply": "2022-10-31T09:50:00.235544Z"
    },
    "papermill": {
     "duration": 0.060084,
     "end_time": "2022-10-31T09:50:00.239137",
     "exception": false,
     "start_time": "2022-10-31T09:50:00.179053",
     "status": "completed"
    },
    "tags": []
   },
   "outputs": [
    {
     "data": {
      "text/html": [
       "<div>\n",
       "<style scoped>\n",
       "    .dataframe tbody tr th:only-of-type {\n",
       "        vertical-align: middle;\n",
       "    }\n",
       "\n",
       "    .dataframe tbody tr th {\n",
       "        vertical-align: top;\n",
       "    }\n",
       "\n",
       "    .dataframe thead th {\n",
       "        text-align: right;\n",
       "    }\n",
       "</style>\n",
       "<table border=\"1\" class=\"dataframe\">\n",
       "  <thead>\n",
       "    <tr style=\"text-align: right;\">\n",
       "      <th></th>\n",
       "      <th>PassengerId</th>\n",
       "      <th>HomePlanet</th>\n",
       "      <th>CryoSleep</th>\n",
       "      <th>Cabin</th>\n",
       "      <th>Destination</th>\n",
       "      <th>Age</th>\n",
       "      <th>VIP</th>\n",
       "      <th>RoomService</th>\n",
       "      <th>FoodCourt</th>\n",
       "      <th>ShoppingMall</th>\n",
       "      <th>Spa</th>\n",
       "      <th>VRDeck</th>\n",
       "      <th>Name</th>\n",
       "      <th>Transported</th>\n",
       "      <th>Train</th>\n",
       "    </tr>\n",
       "  </thead>\n",
       "  <tbody>\n",
       "    <tr>\n",
       "      <th>0</th>\n",
       "      <td>0001_01</td>\n",
       "      <td>Europa</td>\n",
       "      <td>False</td>\n",
       "      <td>B/0/P</td>\n",
       "      <td>TRAPPIST-1e</td>\n",
       "      <td>39.0</td>\n",
       "      <td>False</td>\n",
       "      <td>0.0</td>\n",
       "      <td>0.0</td>\n",
       "      <td>0.0</td>\n",
       "      <td>0.0</td>\n",
       "      <td>0.0</td>\n",
       "      <td>Maham Ofracculy</td>\n",
       "      <td>False</td>\n",
       "      <td>Yes</td>\n",
       "    </tr>\n",
       "    <tr>\n",
       "      <th>1</th>\n",
       "      <td>0002_01</td>\n",
       "      <td>Earth</td>\n",
       "      <td>False</td>\n",
       "      <td>F/0/S</td>\n",
       "      <td>TRAPPIST-1e</td>\n",
       "      <td>24.0</td>\n",
       "      <td>False</td>\n",
       "      <td>109.0</td>\n",
       "      <td>9.0</td>\n",
       "      <td>25.0</td>\n",
       "      <td>549.0</td>\n",
       "      <td>44.0</td>\n",
       "      <td>Juanna Vines</td>\n",
       "      <td>True</td>\n",
       "      <td>Yes</td>\n",
       "    </tr>\n",
       "    <tr>\n",
       "      <th>2</th>\n",
       "      <td>0003_01</td>\n",
       "      <td>Europa</td>\n",
       "      <td>False</td>\n",
       "      <td>A/0/S</td>\n",
       "      <td>TRAPPIST-1e</td>\n",
       "      <td>58.0</td>\n",
       "      <td>True</td>\n",
       "      <td>43.0</td>\n",
       "      <td>3576.0</td>\n",
       "      <td>0.0</td>\n",
       "      <td>6715.0</td>\n",
       "      <td>49.0</td>\n",
       "      <td>Altark Susent</td>\n",
       "      <td>False</td>\n",
       "      <td>Yes</td>\n",
       "    </tr>\n",
       "    <tr>\n",
       "      <th>3</th>\n",
       "      <td>0003_02</td>\n",
       "      <td>Europa</td>\n",
       "      <td>False</td>\n",
       "      <td>A/0/S</td>\n",
       "      <td>TRAPPIST-1e</td>\n",
       "      <td>33.0</td>\n",
       "      <td>False</td>\n",
       "      <td>0.0</td>\n",
       "      <td>1283.0</td>\n",
       "      <td>371.0</td>\n",
       "      <td>3329.0</td>\n",
       "      <td>193.0</td>\n",
       "      <td>Solam Susent</td>\n",
       "      <td>False</td>\n",
       "      <td>Yes</td>\n",
       "    </tr>\n",
       "    <tr>\n",
       "      <th>4</th>\n",
       "      <td>0004_01</td>\n",
       "      <td>Earth</td>\n",
       "      <td>False</td>\n",
       "      <td>F/1/S</td>\n",
       "      <td>TRAPPIST-1e</td>\n",
       "      <td>16.0</td>\n",
       "      <td>False</td>\n",
       "      <td>303.0</td>\n",
       "      <td>70.0</td>\n",
       "      <td>151.0</td>\n",
       "      <td>565.0</td>\n",
       "      <td>2.0</td>\n",
       "      <td>Willy Santantines</td>\n",
       "      <td>True</td>\n",
       "      <td>Yes</td>\n",
       "    </tr>\n",
       "    <tr>\n",
       "      <th>...</th>\n",
       "      <td>...</td>\n",
       "      <td>...</td>\n",
       "      <td>...</td>\n",
       "      <td>...</td>\n",
       "      <td>...</td>\n",
       "      <td>...</td>\n",
       "      <td>...</td>\n",
       "      <td>...</td>\n",
       "      <td>...</td>\n",
       "      <td>...</td>\n",
       "      <td>...</td>\n",
       "      <td>...</td>\n",
       "      <td>...</td>\n",
       "      <td>...</td>\n",
       "      <td>...</td>\n",
       "    </tr>\n",
       "    <tr>\n",
       "      <th>4272</th>\n",
       "      <td>9266_02</td>\n",
       "      <td>Earth</td>\n",
       "      <td>True</td>\n",
       "      <td>G/1496/S</td>\n",
       "      <td>TRAPPIST-1e</td>\n",
       "      <td>34.0</td>\n",
       "      <td>False</td>\n",
       "      <td>0.0</td>\n",
       "      <td>0.0</td>\n",
       "      <td>0.0</td>\n",
       "      <td>0.0</td>\n",
       "      <td>0.0</td>\n",
       "      <td>Jeron Peter</td>\n",
       "      <td>NaN</td>\n",
       "      <td>No</td>\n",
       "    </tr>\n",
       "    <tr>\n",
       "      <th>4273</th>\n",
       "      <td>9269_01</td>\n",
       "      <td>Earth</td>\n",
       "      <td>False</td>\n",
       "      <td>NaN</td>\n",
       "      <td>TRAPPIST-1e</td>\n",
       "      <td>42.0</td>\n",
       "      <td>False</td>\n",
       "      <td>0.0</td>\n",
       "      <td>847.0</td>\n",
       "      <td>17.0</td>\n",
       "      <td>10.0</td>\n",
       "      <td>144.0</td>\n",
       "      <td>Matty Scheron</td>\n",
       "      <td>NaN</td>\n",
       "      <td>No</td>\n",
       "    </tr>\n",
       "    <tr>\n",
       "      <th>4274</th>\n",
       "      <td>9271_01</td>\n",
       "      <td>Mars</td>\n",
       "      <td>True</td>\n",
       "      <td>D/296/P</td>\n",
       "      <td>55 Cancri e</td>\n",
       "      <td>NaN</td>\n",
       "      <td>False</td>\n",
       "      <td>0.0</td>\n",
       "      <td>0.0</td>\n",
       "      <td>0.0</td>\n",
       "      <td>0.0</td>\n",
       "      <td>0.0</td>\n",
       "      <td>Jayrin Pore</td>\n",
       "      <td>NaN</td>\n",
       "      <td>No</td>\n",
       "    </tr>\n",
       "    <tr>\n",
       "      <th>4275</th>\n",
       "      <td>9273_01</td>\n",
       "      <td>Europa</td>\n",
       "      <td>False</td>\n",
       "      <td>D/297/P</td>\n",
       "      <td>NaN</td>\n",
       "      <td>NaN</td>\n",
       "      <td>False</td>\n",
       "      <td>0.0</td>\n",
       "      <td>2680.0</td>\n",
       "      <td>0.0</td>\n",
       "      <td>0.0</td>\n",
       "      <td>523.0</td>\n",
       "      <td>Kitakan Conale</td>\n",
       "      <td>NaN</td>\n",
       "      <td>No</td>\n",
       "    </tr>\n",
       "    <tr>\n",
       "      <th>4276</th>\n",
       "      <td>9277_01</td>\n",
       "      <td>Earth</td>\n",
       "      <td>True</td>\n",
       "      <td>G/1498/S</td>\n",
       "      <td>PSO J318.5-22</td>\n",
       "      <td>43.0</td>\n",
       "      <td>False</td>\n",
       "      <td>0.0</td>\n",
       "      <td>0.0</td>\n",
       "      <td>0.0</td>\n",
       "      <td>0.0</td>\n",
       "      <td>0.0</td>\n",
       "      <td>Lilace Leonzaley</td>\n",
       "      <td>NaN</td>\n",
       "      <td>No</td>\n",
       "    </tr>\n",
       "  </tbody>\n",
       "</table>\n",
       "<p>12970 rows × 15 columns</p>\n",
       "</div>"
      ],
      "text/plain": [
       "     PassengerId HomePlanet CryoSleep     Cabin    Destination   Age    VIP  \\\n",
       "0        0001_01     Europa     False     B/0/P    TRAPPIST-1e  39.0  False   \n",
       "1        0002_01      Earth     False     F/0/S    TRAPPIST-1e  24.0  False   \n",
       "2        0003_01     Europa     False     A/0/S    TRAPPIST-1e  58.0   True   \n",
       "3        0003_02     Europa     False     A/0/S    TRAPPIST-1e  33.0  False   \n",
       "4        0004_01      Earth     False     F/1/S    TRAPPIST-1e  16.0  False   \n",
       "...          ...        ...       ...       ...            ...   ...    ...   \n",
       "4272     9266_02      Earth      True  G/1496/S    TRAPPIST-1e  34.0  False   \n",
       "4273     9269_01      Earth     False       NaN    TRAPPIST-1e  42.0  False   \n",
       "4274     9271_01       Mars      True   D/296/P    55 Cancri e   NaN  False   \n",
       "4275     9273_01     Europa     False   D/297/P            NaN   NaN  False   \n",
       "4276     9277_01      Earth      True  G/1498/S  PSO J318.5-22  43.0  False   \n",
       "\n",
       "      RoomService  FoodCourt  ShoppingMall     Spa  VRDeck               Name  \\\n",
       "0             0.0        0.0           0.0     0.0     0.0    Maham Ofracculy   \n",
       "1           109.0        9.0          25.0   549.0    44.0       Juanna Vines   \n",
       "2            43.0     3576.0           0.0  6715.0    49.0      Altark Susent   \n",
       "3             0.0     1283.0         371.0  3329.0   193.0       Solam Susent   \n",
       "4           303.0       70.0         151.0   565.0     2.0  Willy Santantines   \n",
       "...           ...        ...           ...     ...     ...                ...   \n",
       "4272          0.0        0.0           0.0     0.0     0.0        Jeron Peter   \n",
       "4273          0.0      847.0          17.0    10.0   144.0      Matty Scheron   \n",
       "4274          0.0        0.0           0.0     0.0     0.0        Jayrin Pore   \n",
       "4275          0.0     2680.0           0.0     0.0   523.0     Kitakan Conale   \n",
       "4276          0.0        0.0           0.0     0.0     0.0   Lilace Leonzaley   \n",
       "\n",
       "     Transported Train  \n",
       "0          False   Yes  \n",
       "1           True   Yes  \n",
       "2          False   Yes  \n",
       "3          False   Yes  \n",
       "4           True   Yes  \n",
       "...          ...   ...  \n",
       "4272         NaN    No  \n",
       "4273         NaN    No  \n",
       "4274         NaN    No  \n",
       "4275         NaN    No  \n",
       "4276         NaN    No  \n",
       "\n",
       "[12970 rows x 15 columns]"
      ]
     },
     "execution_count": 5,
     "metadata": {},
     "output_type": "execute_result"
    }
   ],
   "source": [
    "concat = pd.concat([df_train, df_test])\n",
    "concat"
   ]
  },
  {
   "cell_type": "markdown",
   "id": "04467499",
   "metadata": {
    "papermill": {
     "duration": 0.016656,
     "end_time": "2022-10-31T09:50:00.272866",
     "exception": false,
     "start_time": "2022-10-31T09:50:00.256210",
     "status": "completed"
    },
    "tags": []
   },
   "source": [
    "# **EDA (Exploratory Data Analysis)**"
   ]
  },
  {
   "cell_type": "markdown",
   "id": "213fdbff",
   "metadata": {
    "papermill": {
     "duration": 0.01654,
     "end_time": "2022-10-31T09:50:00.306179",
     "exception": false,
     "start_time": "2022-10-31T09:50:00.289639",
     "status": "completed"
    },
    "tags": []
   },
   "source": [
    "สำรวจข้อมูลเบื้องต้น"
   ]
  },
  {
   "cell_type": "code",
   "execution_count": 6,
   "id": "1d2b8105",
   "metadata": {
    "execution": {
     "iopub.execute_input": "2022-10-31T09:50:00.341623Z",
     "iopub.status.busy": "2022-10-31T09:50:00.341213Z",
     "iopub.status.idle": "2022-10-31T09:50:01.446649Z",
     "shell.execute_reply": "2022-10-31T09:50:01.445404Z"
    },
    "papermill": {
     "duration": 1.126311,
     "end_time": "2022-10-31T09:50:01.449332",
     "exception": false,
     "start_time": "2022-10-31T09:50:00.323021",
     "status": "completed"
    },
    "tags": []
   },
   "outputs": [
    {
     "data": {
      "image/png": "[encoded data removed]",
      "text/plain": [
       "<Figure size 864x864 with 6 Axes>"
      ]
     },
     "metadata": {},
     "output_type": "display_data"
    }
   ],
   "source": [
    "concat.hist(bins = 25, figsize = (12, 12))\n",
    "plt.show()"
   ]
  },
  {
   "cell_type": "code",
   "execution_count": 7,
   "id": "6eb0a966",
   "metadata": {
    "execution": {
     "iopub.execute_input": "2022-10-31T09:50:01.487042Z",
     "iopub.status.busy": "2022-10-31T09:50:01.486642Z",
     "iopub.status.idle": "2022-10-31T09:50:02.306561Z",
     "shell.execute_reply": "2022-10-31T09:50:02.305390Z"
    },
    "papermill": {
     "duration": 0.841749,
     "end_time": "2022-10-31T09:50:02.309179",
     "exception": false,
     "start_time": "2022-10-31T09:50:01.467430",
     "status": "completed"
    },
    "tags": []
   },
   "outputs": [
    {
     "data": {
      "image/png": "[encoded data removed]",
      "text/plain": [
       "<Figure size 1296x720 with 6 Axes>"
      ]
     },
     "metadata": {},
     "output_type": "display_data"
    }
   ],
   "source": [
    "columns=['Age', 'RoomService', 'FoodCourt', 'ShoppingMall', 'Spa', 'VRDeck',]\n",
    "q, r =divmod(len(columns), 2)\n",
    "fig, ax=plt.subplots(q, 2, figsize=(18,10))\n",
    "for i in range(0,len(columns)):\n",
    "    q, r =divmod(i, 2)\n",
    "    sns.boxplot(data=concat, x=columns[i], ax=ax[q, r])\n",
    "plt.show()"
   ]
  },
  {
   "cell_type": "markdown",
   "id": "444b4de0",
   "metadata": {
    "papermill": {
     "duration": 0.024228,
     "end_time": "2022-10-31T09:50:02.352656",
     "exception": false,
     "start_time": "2022-10-31T09:50:02.328428",
     "status": "completed"
    },
    "tags": []
   },
   "source": [
    "# **Feature engineering**"
   ]
  },
  {
   "cell_type": "markdown",
   "id": "2b8ff07f",
   "metadata": {
    "papermill": {
     "duration": 0.029194,
     "end_time": "2022-10-31T09:50:02.402178",
     "exception": false,
     "start_time": "2022-10-31T09:50:02.372984",
     "status": "completed"
    },
    "tags": []
   },
   "source": [
    "# Imputation"
   ]
  },
  {
   "cell_type": "markdown",
   "id": "65f8ff67",
   "metadata": {
    "papermill": {
     "duration": 0.027728,
     "end_time": "2022-10-31T09:50:02.459385",
     "exception": false,
     "start_time": "2022-10-31T09:50:02.431657",
     "status": "completed"
    },
    "tags": []
   },
   "source": [
    "ตรวจสอบจำนวนข้อมูลที่หายไป"
   ]
  },
  {
   "cell_type": "code",
   "execution_count": 8,
   "id": "7359760b",
   "metadata": {
    "execution": {
     "iopub.execute_input": "2022-10-31T09:50:02.504220Z",
     "iopub.status.busy": "2022-10-31T09:50:02.503303Z",
     "iopub.status.idle": "2022-10-31T09:50:02.520006Z",
     "shell.execute_reply": "2022-10-31T09:50:02.518954Z"
    },
    "papermill": {
     "duration": 0.040912,
     "end_time": "2022-10-31T09:50:02.522502",
     "exception": false,
     "start_time": "2022-10-31T09:50:02.481590",
     "status": "completed"
    },
    "tags": []
   },
   "outputs": [
    {
     "data": {
      "text/plain": [
       "PassengerId        0\n",
       "HomePlanet       288\n",
       "CryoSleep        310\n",
       "Cabin            299\n",
       "Destination      274\n",
       "Age              270\n",
       "VIP              296\n",
       "RoomService      263\n",
       "FoodCourt        289\n",
       "ShoppingMall     306\n",
       "Spa              284\n",
       "VRDeck           268\n",
       "Name             294\n",
       "Transported     4277\n",
       "Train              0\n",
       "dtype: int64"
      ]
     },
     "execution_count": 8,
     "metadata": {},
     "output_type": "execute_result"
    }
   ],
   "source": [
    "concat.isnull().sum()"
   ]
  },
  {
   "cell_type": "markdown",
   "id": "6aab1e78",
   "metadata": {
    "papermill": {
     "duration": 0.01877,
     "end_time": "2022-10-31T09:50:02.562040",
     "exception": false,
     "start_time": "2022-10-31T09:50:02.543270",
     "status": "completed"
    },
    "tags": []
   },
   "source": [
    "**Missing Data (Numerical)**"
   ]
  },
  {
   "cell_type": "markdown",
   "id": "b2d78144",
   "metadata": {
    "papermill": {
     "duration": 0.020428,
     "end_time": "2022-10-31T09:50:02.606146",
     "exception": false,
     "start_time": "2022-10-31T09:50:02.585718",
     "status": "completed"
    },
    "tags": []
   },
   "source": [
    "เติมข้อมูลที่หายไปด้วยค่ามัธยฐาน"
   ]
  },
  {
   "cell_type": "code",
   "execution_count": 9,
   "id": "e0e2af6a",
   "metadata": {
    "execution": {
     "iopub.execute_input": "2022-10-31T09:50:02.649590Z",
     "iopub.status.busy": "2022-10-31T09:50:02.648859Z",
     "iopub.status.idle": "2022-10-31T09:50:02.660645Z",
     "shell.execute_reply": "2022-10-31T09:50:02.659844Z"
    },
    "papermill": {
     "duration": 0.036197,
     "end_time": "2022-10-31T09:50:02.663189",
     "exception": false,
     "start_time": "2022-10-31T09:50:02.626992",
     "status": "completed"
    },
    "tags": []
   },
   "outputs": [
    {
     "data": {
      "text/plain": [
       "Age             27.0\n",
       "RoomService      0.0\n",
       "FoodCourt        0.0\n",
       "ShoppingMall     0.0\n",
       "Spa              0.0\n",
       "VRDeck           0.0\n",
       "dtype: float64"
      ]
     },
     "execution_count": 9,
     "metadata": {},
     "output_type": "execute_result"
    }
   ],
   "source": [
    "concat[['Age', 'RoomService','FoodCourt','ShoppingMall','Spa','VRDeck']].median()"
   ]
  },
  {
   "cell_type": "code",
   "execution_count": 10,
   "id": "5c7104af",
   "metadata": {
    "execution": {
     "iopub.execute_input": "2022-10-31T09:50:02.724883Z",
     "iopub.status.busy": "2022-10-31T09:50:02.724340Z",
     "iopub.status.idle": "2022-10-31T09:50:02.734376Z",
     "shell.execute_reply": "2022-10-31T09:50:02.733280Z"
    },
    "papermill": {
     "duration": 0.04585,
     "end_time": "2022-10-31T09:50:02.737252",
     "exception": false,
     "start_time": "2022-10-31T09:50:02.691402",
     "status": "completed"
    },
    "tags": []
   },
   "outputs": [],
   "source": [
    "concat[['RoomService','FoodCourt','ShoppingMall','Spa','VRDeck']] = concat[['RoomService','FoodCourt','ShoppingMall','Spa','VRDeck']].fillna(0)"
   ]
  },
  {
   "cell_type": "code",
   "execution_count": 11,
   "id": "9db69c11",
   "metadata": {
    "execution": {
     "iopub.execute_input": "2022-10-31T09:50:02.789574Z",
     "iopub.status.busy": "2022-10-31T09:50:02.788135Z",
     "iopub.status.idle": "2022-10-31T09:50:02.796079Z",
     "shell.execute_reply": "2022-10-31T09:50:02.795178Z"
    },
    "papermill": {
     "duration": 0.033586,
     "end_time": "2022-10-31T09:50:02.798425",
     "exception": false,
     "start_time": "2022-10-31T09:50:02.764839",
     "status": "completed"
    },
    "tags": []
   },
   "outputs": [],
   "source": [
    "concat['Age'] = concat['Age'].fillna(concat['Age'].median())"
   ]
  },
  {
   "cell_type": "markdown",
   "id": "14f1e762",
   "metadata": {
    "papermill": {
     "duration": 0.020146,
     "end_time": "2022-10-31T09:50:02.838701",
     "exception": false,
     "start_time": "2022-10-31T09:50:02.818555",
     "status": "completed"
    },
    "tags": []
   },
   "source": [
    "**Missing Data (Categorical)**"
   ]
  },
  {
   "cell_type": "markdown",
   "id": "7c4dd15a",
   "metadata": {
    "papermill": {
     "duration": 0.019921,
     "end_time": "2022-10-31T09:50:02.879131",
     "exception": false,
     "start_time": "2022-10-31T09:50:02.859210",
     "status": "completed"
    },
    "tags": []
   },
   "source": [
    "เติมข้อมูลที่หายไปด้วยข้อมูลที่เป็นฐานนิยม"
   ]
  },
  {
   "cell_type": "code",
   "execution_count": 12,
   "id": "ee8153a3",
   "metadata": {
    "execution": {
     "iopub.execute_input": "2022-10-31T09:50:02.922866Z",
     "iopub.status.busy": "2022-10-31T09:50:02.922014Z",
     "iopub.status.idle": "2022-10-31T09:50:02.934107Z",
     "shell.execute_reply": "2022-10-31T09:50:02.933080Z"
    },
    "papermill": {
     "duration": 0.037001,
     "end_time": "2022-10-31T09:50:02.936382",
     "exception": false,
     "start_time": "2022-10-31T09:50:02.899381",
     "status": "completed"
    },
    "tags": []
   },
   "outputs": [
    {
     "data": {
      "text/plain": [
       "False    12401\n",
       "True       273\n",
       "Name: VIP, dtype: int64"
      ]
     },
     "execution_count": 12,
     "metadata": {},
     "output_type": "execute_result"
    }
   ],
   "source": [
    "concat['VIP'].value_counts()"
   ]
  },
  {
   "cell_type": "code",
   "execution_count": 13,
   "id": "41be6173",
   "metadata": {
    "execution": {
     "iopub.execute_input": "2022-10-31T09:50:02.978279Z",
     "iopub.status.busy": "2022-10-31T09:50:02.977548Z",
     "iopub.status.idle": "2022-10-31T09:50:02.985767Z",
     "shell.execute_reply": "2022-10-31T09:50:02.984978Z"
    },
    "papermill": {
     "duration": 0.031685,
     "end_time": "2022-10-31T09:50:02.988081",
     "exception": false,
     "start_time": "2022-10-31T09:50:02.956396",
     "status": "completed"
    },
    "tags": []
   },
   "outputs": [],
   "source": [
    "concat['VIP'] = concat['VIP'].fillna(False)"
   ]
  },
  {
   "cell_type": "code",
   "execution_count": 14,
   "id": "9a97ac60",
   "metadata": {
    "execution": {
     "iopub.execute_input": "2022-10-31T09:50:03.029844Z",
     "iopub.status.busy": "2022-10-31T09:50:03.029133Z",
     "iopub.status.idle": "2022-10-31T09:50:03.038344Z",
     "shell.execute_reply": "2022-10-31T09:50:03.037472Z"
    },
    "papermill": {
     "duration": 0.033089,
     "end_time": "2022-10-31T09:50:03.040539",
     "exception": false,
     "start_time": "2022-10-31T09:50:03.007450",
     "status": "completed"
    },
    "tags": []
   },
   "outputs": [
    {
     "data": {
      "text/plain": [
       "Earth     6865\n",
       "Europa    3133\n",
       "Mars      2684\n",
       "Name: HomePlanet, dtype: int64"
      ]
     },
     "execution_count": 14,
     "metadata": {},
     "output_type": "execute_result"
    }
   ],
   "source": [
    "concat['HomePlanet'].value_counts()"
   ]
  },
  {
   "cell_type": "code",
   "execution_count": 15,
   "id": "06ccd065",
   "metadata": {
    "execution": {
     "iopub.execute_input": "2022-10-31T09:50:03.082153Z",
     "iopub.status.busy": "2022-10-31T09:50:03.081337Z",
     "iopub.status.idle": "2022-10-31T09:50:03.089399Z",
     "shell.execute_reply": "2022-10-31T09:50:03.088195Z"
    },
    "papermill": {
     "duration": 0.031565,
     "end_time": "2022-10-31T09:50:03.091817",
     "exception": false,
     "start_time": "2022-10-31T09:50:03.060252",
     "status": "completed"
    },
    "tags": []
   },
   "outputs": [],
   "source": [
    "concat['HomePlanet'] = concat['HomePlanet'].fillna('Mars')"
   ]
  },
  {
   "cell_type": "code",
   "execution_count": 16,
   "id": "a46606d9",
   "metadata": {
    "execution": {
     "iopub.execute_input": "2022-10-31T09:50:03.134468Z",
     "iopub.status.busy": "2022-10-31T09:50:03.133437Z",
     "iopub.status.idle": "2022-10-31T09:50:03.145531Z",
     "shell.execute_reply": "2022-10-31T09:50:03.144426Z"
    },
    "papermill": {
     "duration": 0.035859,
     "end_time": "2022-10-31T09:50:03.147803",
     "exception": false,
     "start_time": "2022-10-31T09:50:03.111944",
     "status": "completed"
    },
    "tags": []
   },
   "outputs": [
    {
     "data": {
      "text/plain": [
       "TRAPPIST-1e      8871\n",
       "55 Cancri e      2641\n",
       "PSO J318.5-22    1184\n",
       "Name: Destination, dtype: int64"
      ]
     },
     "execution_count": 16,
     "metadata": {},
     "output_type": "execute_result"
    }
   ],
   "source": [
    "concat['Destination'].value_counts()"
   ]
  },
  {
   "cell_type": "code",
   "execution_count": 17,
   "id": "600b1d5e",
   "metadata": {
    "execution": {
     "iopub.execute_input": "2022-10-31T09:50:03.189541Z",
     "iopub.status.busy": "2022-10-31T09:50:03.189171Z",
     "iopub.status.idle": "2022-10-31T09:50:03.195422Z",
     "shell.execute_reply": "2022-10-31T09:50:03.194532Z"
    },
    "papermill": {
     "duration": 0.029577,
     "end_time": "2022-10-31T09:50:03.198057",
     "exception": false,
     "start_time": "2022-10-31T09:50:03.168480",
     "status": "completed"
    },
    "tags": []
   },
   "outputs": [],
   "source": [
    "concat['Destination'] = concat['Destination'].fillna(\"'TRAPPIST-1e\")"
   ]
  },
  {
   "cell_type": "code",
   "execution_count": 18,
   "id": "55678f80",
   "metadata": {
    "execution": {
     "iopub.execute_input": "2022-10-31T09:50:03.245838Z",
     "iopub.status.busy": "2022-10-31T09:50:03.245345Z",
     "iopub.status.idle": "2022-10-31T09:50:03.255329Z",
     "shell.execute_reply": "2022-10-31T09:50:03.254428Z"
    },
    "papermill": {
     "duration": 0.033104,
     "end_time": "2022-10-31T09:50:03.257639",
     "exception": false,
     "start_time": "2022-10-31T09:50:03.224535",
     "status": "completed"
    },
    "tags": []
   },
   "outputs": [
    {
     "data": {
      "text/plain": [
       "False    8079\n",
       "True     4581\n",
       "Name: CryoSleep, dtype: int64"
      ]
     },
     "execution_count": 18,
     "metadata": {},
     "output_type": "execute_result"
    }
   ],
   "source": [
    "concat['CryoSleep'].value_counts()"
   ]
  },
  {
   "cell_type": "code",
   "execution_count": 19,
   "id": "599c7021",
   "metadata": {
    "execution": {
     "iopub.execute_input": "2022-10-31T09:50:03.298571Z",
     "iopub.status.busy": "2022-10-31T09:50:03.297706Z",
     "iopub.status.idle": "2022-10-31T09:50:03.308338Z",
     "shell.execute_reply": "2022-10-31T09:50:03.307318Z"
    },
    "papermill": {
     "duration": 0.033892,
     "end_time": "2022-10-31T09:50:03.311111",
     "exception": false,
     "start_time": "2022-10-31T09:50:03.277219",
     "status": "completed"
    },
    "tags": []
   },
   "outputs": [],
   "source": [
    "concat['CryoSleep'] = concat['CryoSleep'].fillna(False)"
   ]
  },
  {
   "cell_type": "markdown",
   "id": "7b38d041",
   "metadata": {
    "papermill": {
     "duration": 0.019886,
     "end_time": "2022-10-31T09:50:03.350567",
     "exception": false,
     "start_time": "2022-10-31T09:50:03.330681",
     "status": "completed"
    },
    "tags": []
   },
   "source": [
    "แยกคอลัมน์ Cabin ออกเป็น Deck, Num และ Side"
   ]
  },
  {
   "cell_type": "code",
   "execution_count": 20,
   "id": "b51e71b5",
   "metadata": {
    "execution": {
     "iopub.execute_input": "2022-10-31T09:50:03.391389Z",
     "iopub.status.busy": "2022-10-31T09:50:03.391005Z",
     "iopub.status.idle": "2022-10-31T09:50:03.577016Z",
     "shell.execute_reply": "2022-10-31T09:50:03.575858Z"
    },
    "papermill": {
     "duration": 0.209323,
     "end_time": "2022-10-31T09:50:03.579400",
     "exception": false,
     "start_time": "2022-10-31T09:50:03.370077",
     "status": "completed"
    },
    "tags": []
   },
   "outputs": [
    {
     "data": {
      "text/html": [
       "<div>\n",
       "<style scoped>\n",
       "    .dataframe tbody tr th:only-of-type {\n",
       "        vertical-align: middle;\n",
       "    }\n",
       "\n",
       "    .dataframe tbody tr th {\n",
       "        vertical-align: top;\n",
       "    }\n",
       "\n",
       "    .dataframe thead th {\n",
       "        text-align: right;\n",
       "    }\n",
       "</style>\n",
       "<table border=\"1\" class=\"dataframe\">\n",
       "  <thead>\n",
       "    <tr style=\"text-align: right;\">\n",
       "      <th></th>\n",
       "      <th>PassengerId</th>\n",
       "      <th>HomePlanet</th>\n",
       "      <th>CryoSleep</th>\n",
       "      <th>Cabin</th>\n",
       "      <th>Destination</th>\n",
       "      <th>Age</th>\n",
       "      <th>VIP</th>\n",
       "      <th>RoomService</th>\n",
       "      <th>FoodCourt</th>\n",
       "      <th>ShoppingMall</th>\n",
       "      <th>Spa</th>\n",
       "      <th>VRDeck</th>\n",
       "      <th>Name</th>\n",
       "      <th>Transported</th>\n",
       "      <th>Train</th>\n",
       "      <th>Deck</th>\n",
       "      <th>Num</th>\n",
       "      <th>Side</th>\n",
       "    </tr>\n",
       "  </thead>\n",
       "  <tbody>\n",
       "    <tr>\n",
       "      <th>0</th>\n",
       "      <td>0001_01</td>\n",
       "      <td>Europa</td>\n",
       "      <td>False</td>\n",
       "      <td>B/0/P</td>\n",
       "      <td>TRAPPIST-1e</td>\n",
       "      <td>39.0</td>\n",
       "      <td>False</td>\n",
       "      <td>0.0</td>\n",
       "      <td>0.0</td>\n",
       "      <td>0.0</td>\n",
       "      <td>0.0</td>\n",
       "      <td>0.0</td>\n",
       "      <td>Maham Ofracculy</td>\n",
       "      <td>False</td>\n",
       "      <td>Yes</td>\n",
       "      <td>B</td>\n",
       "      <td>0</td>\n",
       "      <td>P</td>\n",
       "    </tr>\n",
       "    <tr>\n",
       "      <th>1</th>\n",
       "      <td>0002_01</td>\n",
       "      <td>Earth</td>\n",
       "      <td>False</td>\n",
       "      <td>F/0/S</td>\n",
       "      <td>TRAPPIST-1e</td>\n",
       "      <td>24.0</td>\n",
       "      <td>False</td>\n",
       "      <td>109.0</td>\n",
       "      <td>9.0</td>\n",
       "      <td>25.0</td>\n",
       "      <td>549.0</td>\n",
       "      <td>44.0</td>\n",
       "      <td>Juanna Vines</td>\n",
       "      <td>True</td>\n",
       "      <td>Yes</td>\n",
       "      <td>F</td>\n",
       "      <td>0</td>\n",
       "      <td>S</td>\n",
       "    </tr>\n",
       "    <tr>\n",
       "      <th>2</th>\n",
       "      <td>0003_01</td>\n",
       "      <td>Europa</td>\n",
       "      <td>False</td>\n",
       "      <td>A/0/S</td>\n",
       "      <td>TRAPPIST-1e</td>\n",
       "      <td>58.0</td>\n",
       "      <td>True</td>\n",
       "      <td>43.0</td>\n",
       "      <td>3576.0</td>\n",
       "      <td>0.0</td>\n",
       "      <td>6715.0</td>\n",
       "      <td>49.0</td>\n",
       "      <td>Altark Susent</td>\n",
       "      <td>False</td>\n",
       "      <td>Yes</td>\n",
       "      <td>A</td>\n",
       "      <td>0</td>\n",
       "      <td>S</td>\n",
       "    </tr>\n",
       "    <tr>\n",
       "      <th>3</th>\n",
       "      <td>0003_02</td>\n",
       "      <td>Europa</td>\n",
       "      <td>False</td>\n",
       "      <td>A/0/S</td>\n",
       "      <td>TRAPPIST-1e</td>\n",
       "      <td>33.0</td>\n",
       "      <td>False</td>\n",
       "      <td>0.0</td>\n",
       "      <td>1283.0</td>\n",
       "      <td>371.0</td>\n",
       "      <td>3329.0</td>\n",
       "      <td>193.0</td>\n",
       "      <td>Solam Susent</td>\n",
       "      <td>False</td>\n",
       "      <td>Yes</td>\n",
       "      <td>A</td>\n",
       "      <td>0</td>\n",
       "      <td>S</td>\n",
       "    </tr>\n",
       "    <tr>\n",
       "      <th>4</th>\n",
       "      <td>0004_01</td>\n",
       "      <td>Earth</td>\n",
       "      <td>False</td>\n",
       "      <td>F/1/S</td>\n",
       "      <td>TRAPPIST-1e</td>\n",
       "      <td>16.0</td>\n",
       "      <td>False</td>\n",
       "      <td>303.0</td>\n",
       "      <td>70.0</td>\n",
       "      <td>151.0</td>\n",
       "      <td>565.0</td>\n",
       "      <td>2.0</td>\n",
       "      <td>Willy Santantines</td>\n",
       "      <td>True</td>\n",
       "      <td>Yes</td>\n",
       "      <td>F</td>\n",
       "      <td>1</td>\n",
       "      <td>S</td>\n",
       "    </tr>\n",
       "    <tr>\n",
       "      <th>...</th>\n",
       "      <td>...</td>\n",
       "      <td>...</td>\n",
       "      <td>...</td>\n",
       "      <td>...</td>\n",
       "      <td>...</td>\n",
       "      <td>...</td>\n",
       "      <td>...</td>\n",
       "      <td>...</td>\n",
       "      <td>...</td>\n",
       "      <td>...</td>\n",
       "      <td>...</td>\n",
       "      <td>...</td>\n",
       "      <td>...</td>\n",
       "      <td>...</td>\n",
       "      <td>...</td>\n",
       "      <td>...</td>\n",
       "      <td>...</td>\n",
       "      <td>...</td>\n",
       "    </tr>\n",
       "    <tr>\n",
       "      <th>4272</th>\n",
       "      <td>9266_02</td>\n",
       "      <td>Earth</td>\n",
       "      <td>True</td>\n",
       "      <td>G/1496/S</td>\n",
       "      <td>TRAPPIST-1e</td>\n",
       "      <td>34.0</td>\n",
       "      <td>False</td>\n",
       "      <td>0.0</td>\n",
       "      <td>0.0</td>\n",
       "      <td>0.0</td>\n",
       "      <td>0.0</td>\n",
       "      <td>0.0</td>\n",
       "      <td>Jeron Peter</td>\n",
       "      <td>NaN</td>\n",
       "      <td>No</td>\n",
       "      <td>G</td>\n",
       "      <td>1496</td>\n",
       "      <td>S</td>\n",
       "    </tr>\n",
       "    <tr>\n",
       "      <th>4273</th>\n",
       "      <td>9269_01</td>\n",
       "      <td>Earth</td>\n",
       "      <td>False</td>\n",
       "      <td>NaN</td>\n",
       "      <td>TRAPPIST-1e</td>\n",
       "      <td>42.0</td>\n",
       "      <td>False</td>\n",
       "      <td>0.0</td>\n",
       "      <td>847.0</td>\n",
       "      <td>17.0</td>\n",
       "      <td>10.0</td>\n",
       "      <td>144.0</td>\n",
       "      <td>Matty Scheron</td>\n",
       "      <td>NaN</td>\n",
       "      <td>No</td>\n",
       "      <td>NaN</td>\n",
       "      <td>NaN</td>\n",
       "      <td>NaN</td>\n",
       "    </tr>\n",
       "    <tr>\n",
       "      <th>4274</th>\n",
       "      <td>9271_01</td>\n",
       "      <td>Mars</td>\n",
       "      <td>True</td>\n",
       "      <td>D/296/P</td>\n",
       "      <td>55 Cancri e</td>\n",
       "      <td>27.0</td>\n",
       "      <td>False</td>\n",
       "      <td>0.0</td>\n",
       "      <td>0.0</td>\n",
       "      <td>0.0</td>\n",
       "      <td>0.0</td>\n",
       "      <td>0.0</td>\n",
       "      <td>Jayrin Pore</td>\n",
       "      <td>NaN</td>\n",
       "      <td>No</td>\n",
       "      <td>D</td>\n",
       "      <td>296</td>\n",
       "      <td>P</td>\n",
       "    </tr>\n",
       "    <tr>\n",
       "      <th>4275</th>\n",
       "      <td>9273_01</td>\n",
       "      <td>Europa</td>\n",
       "      <td>False</td>\n",
       "      <td>D/297/P</td>\n",
       "      <td>'TRAPPIST-1e</td>\n",
       "      <td>27.0</td>\n",
       "      <td>False</td>\n",
       "      <td>0.0</td>\n",
       "      <td>2680.0</td>\n",
       "      <td>0.0</td>\n",
       "      <td>0.0</td>\n",
       "      <td>523.0</td>\n",
       "      <td>Kitakan Conale</td>\n",
       "      <td>NaN</td>\n",
       "      <td>No</td>\n",
       "      <td>D</td>\n",
       "      <td>297</td>\n",
       "      <td>P</td>\n",
       "    </tr>\n",
       "    <tr>\n",
       "      <th>4276</th>\n",
       "      <td>9277_01</td>\n",
       "      <td>Earth</td>\n",
       "      <td>True</td>\n",
       "      <td>G/1498/S</td>\n",
       "      <td>PSO J318.5-22</td>\n",
       "      <td>43.0</td>\n",
       "      <td>False</td>\n",
       "      <td>0.0</td>\n",
       "      <td>0.0</td>\n",
       "      <td>0.0</td>\n",
       "      <td>0.0</td>\n",
       "      <td>0.0</td>\n",
       "      <td>Lilace Leonzaley</td>\n",
       "      <td>NaN</td>\n",
       "      <td>No</td>\n",
       "      <td>G</td>\n",
       "      <td>1498</td>\n",
       "      <td>S</td>\n",
       "    </tr>\n",
       "  </tbody>\n",
       "</table>\n",
       "<p>12970 rows × 18 columns</p>\n",
       "</div>"
      ],
      "text/plain": [
       "     PassengerId HomePlanet  CryoSleep     Cabin    Destination   Age    VIP  \\\n",
       "0        0001_01     Europa      False     B/0/P    TRAPPIST-1e  39.0  False   \n",
       "1        0002_01      Earth      False     F/0/S    TRAPPIST-1e  24.0  False   \n",
       "2        0003_01     Europa      False     A/0/S    TRAPPIST-1e  58.0   True   \n",
       "3        0003_02     Europa      False     A/0/S    TRAPPIST-1e  33.0  False   \n",
       "4        0004_01      Earth      False     F/1/S    TRAPPIST-1e  16.0  False   \n",
       "...          ...        ...        ...       ...            ...   ...    ...   \n",
       "4272     9266_02      Earth       True  G/1496/S    TRAPPIST-1e  34.0  False   \n",
       "4273     9269_01      Earth      False       NaN    TRAPPIST-1e  42.0  False   \n",
       "4274     9271_01       Mars       True   D/296/P    55 Cancri e  27.0  False   \n",
       "4275     9273_01     Europa      False   D/297/P   'TRAPPIST-1e  27.0  False   \n",
       "4276     9277_01      Earth       True  G/1498/S  PSO J318.5-22  43.0  False   \n",
       "\n",
       "      RoomService  FoodCourt  ShoppingMall     Spa  VRDeck               Name  \\\n",
       "0             0.0        0.0           0.0     0.0     0.0    Maham Ofracculy   \n",
       "1           109.0        9.0          25.0   549.0    44.0       Juanna Vines   \n",
       "2            43.0     3576.0           0.0  6715.0    49.0      Altark Susent   \n",
       "3             0.0     1283.0         371.0  3329.0   193.0       Solam Susent   \n",
       "4           303.0       70.0         151.0   565.0     2.0  Willy Santantines   \n",
       "...           ...        ...           ...     ...     ...                ...   \n",
       "4272          0.0        0.0           0.0     0.0     0.0        Jeron Peter   \n",
       "4273          0.0      847.0          17.0    10.0   144.0      Matty Scheron   \n",
       "4274          0.0        0.0           0.0     0.0     0.0        Jayrin Pore   \n",
       "4275          0.0     2680.0           0.0     0.0   523.0     Kitakan Conale   \n",
       "4276          0.0        0.0           0.0     0.0     0.0   Lilace Leonzaley   \n",
       "\n",
       "     Transported Train Deck   Num Side  \n",
       "0          False   Yes    B     0    P  \n",
       "1           True   Yes    F     0    S  \n",
       "2          False   Yes    A     0    S  \n",
       "3          False   Yes    A     0    S  \n",
       "4           True   Yes    F     1    S  \n",
       "...          ...   ...  ...   ...  ...  \n",
       "4272         NaN    No    G  1496    S  \n",
       "4273         NaN    No  NaN   NaN  NaN  \n",
       "4274         NaN    No    D   296    P  \n",
       "4275         NaN    No    D   297    P  \n",
       "4276         NaN    No    G  1498    S  \n",
       "\n",
       "[12970 rows x 18 columns]"
      ]
     },
     "execution_count": 20,
     "metadata": {},
     "output_type": "execute_result"
    }
   ],
   "source": [
    "concat[['Deck', 'Num', 'Side']] = concat['Cabin'].str.split('/', expand=True)\n",
    "concat"
   ]
  },
  {
   "cell_type": "code",
   "execution_count": 21,
   "id": "32464b93",
   "metadata": {
    "execution": {
     "iopub.execute_input": "2022-10-31T09:50:03.622454Z",
     "iopub.status.busy": "2022-10-31T09:50:03.621767Z",
     "iopub.status.idle": "2022-10-31T09:50:03.631036Z",
     "shell.execute_reply": "2022-10-31T09:50:03.630189Z"
    },
    "papermill": {
     "duration": 0.033147,
     "end_time": "2022-10-31T09:50:03.633164",
     "exception": false,
     "start_time": "2022-10-31T09:50:03.600017",
     "status": "completed"
    },
    "tags": []
   },
   "outputs": [
    {
     "data": {
      "text/plain": [
       "F    4239\n",
       "G    3781\n",
       "E    1323\n",
       "B    1141\n",
       "C    1102\n",
       "D     720\n",
       "A     354\n",
       "T      11\n",
       "Name: Deck, dtype: int64"
      ]
     },
     "execution_count": 21,
     "metadata": {},
     "output_type": "execute_result"
    }
   ],
   "source": [
    "concat['Deck'].value_counts()"
   ]
  },
  {
   "cell_type": "code",
   "execution_count": 22,
   "id": "e3bd65ce",
   "metadata": {
    "execution": {
     "iopub.execute_input": "2022-10-31T09:50:03.678188Z",
     "iopub.status.busy": "2022-10-31T09:50:03.677227Z",
     "iopub.status.idle": "2022-10-31T09:50:03.683664Z",
     "shell.execute_reply": "2022-10-31T09:50:03.682791Z"
    },
    "papermill": {
     "duration": 0.031454,
     "end_time": "2022-10-31T09:50:03.685917",
     "exception": false,
     "start_time": "2022-10-31T09:50:03.654463",
     "status": "completed"
    },
    "tags": []
   },
   "outputs": [],
   "source": [
    "concat['Deck'] = concat['Deck'].fillna('T')"
   ]
  },
  {
   "cell_type": "code",
   "execution_count": 23,
   "id": "68c961ca",
   "metadata": {
    "execution": {
     "iopub.execute_input": "2022-10-31T09:50:03.730234Z",
     "iopub.status.busy": "2022-10-31T09:50:03.729624Z",
     "iopub.status.idle": "2022-10-31T09:50:03.740389Z",
     "shell.execute_reply": "2022-10-31T09:50:03.739182Z"
    },
    "papermill": {
     "duration": 0.03559,
     "end_time": "2022-10-31T09:50:03.742712",
     "exception": false,
     "start_time": "2022-10-31T09:50:03.707122",
     "status": "completed"
    },
    "tags": []
   },
   "outputs": [
    {
     "data": {
      "text/plain": [
       "82      34\n",
       "4       28\n",
       "56      28\n",
       "95      27\n",
       "31      27\n",
       "        ..\n",
       "1848     1\n",
       "1847     1\n",
       "1846     1\n",
       "1844     1\n",
       "1890     1\n",
       "Name: Num, Length: 1894, dtype: int64"
      ]
     },
     "execution_count": 23,
     "metadata": {},
     "output_type": "execute_result"
    }
   ],
   "source": [
    "concat['Num'].value_counts()"
   ]
  },
  {
   "cell_type": "code",
   "execution_count": 24,
   "id": "a138239a",
   "metadata": {
    "execution": {
     "iopub.execute_input": "2022-10-31T09:50:03.786224Z",
     "iopub.status.busy": "2022-10-31T09:50:03.785032Z",
     "iopub.status.idle": "2022-10-31T09:50:03.792255Z",
     "shell.execute_reply": "2022-10-31T09:50:03.791503Z"
    },
    "papermill": {
     "duration": 0.031348,
     "end_time": "2022-10-31T09:50:03.794365",
     "exception": false,
     "start_time": "2022-10-31T09:50:03.763017",
     "status": "completed"
    },
    "tags": []
   },
   "outputs": [],
   "source": [
    "concat['Num'] = concat['Num'].fillna('0')"
   ]
  },
  {
   "cell_type": "code",
   "execution_count": 25,
   "id": "13512742",
   "metadata": {
    "execution": {
     "iopub.execute_input": "2022-10-31T09:50:03.837985Z",
     "iopub.status.busy": "2022-10-31T09:50:03.836898Z",
     "iopub.status.idle": "2022-10-31T09:50:03.845781Z",
     "shell.execute_reply": "2022-10-31T09:50:03.844711Z"
    },
    "papermill": {
     "duration": 0.032751,
     "end_time": "2022-10-31T09:50:03.847771",
     "exception": false,
     "start_time": "2022-10-31T09:50:03.815020",
     "status": "completed"
    },
    "tags": []
   },
   "outputs": [
    {
     "data": {
      "text/plain": [
       "S    6381\n",
       "P    6290\n",
       "Name: Side, dtype: int64"
      ]
     },
     "execution_count": 25,
     "metadata": {},
     "output_type": "execute_result"
    }
   ],
   "source": [
    "concat['Side'].value_counts()"
   ]
  },
  {
   "cell_type": "code",
   "execution_count": 26,
   "id": "f92c20bc",
   "metadata": {
    "execution": {
     "iopub.execute_input": "2022-10-31T09:50:03.891534Z",
     "iopub.status.busy": "2022-10-31T09:50:03.891105Z",
     "iopub.status.idle": "2022-10-31T09:50:03.898008Z",
     "shell.execute_reply": "2022-10-31T09:50:03.896994Z"
    },
    "papermill": {
     "duration": 0.031605,
     "end_time": "2022-10-31T09:50:03.900135",
     "exception": false,
     "start_time": "2022-10-31T09:50:03.868530",
     "status": "completed"
    },
    "tags": []
   },
   "outputs": [],
   "source": [
    "concat['Side'] = concat['Side'].fillna('P')"
   ]
  },
  {
   "cell_type": "markdown",
   "id": "dc1f0610",
   "metadata": {
    "papermill": {
     "duration": 0.021414,
     "end_time": "2022-10-31T09:50:03.942873",
     "exception": false,
     "start_time": "2022-10-31T09:50:03.921459",
     "status": "completed"
    },
    "tags": []
   },
   "source": [
    "สร้างคอลัมน์ Sum_spend โดยนำข้อมูลค่าใช้จ่ายของบริการแต่ละประเภทมารวมกัน"
   ]
  },
  {
   "cell_type": "code",
   "execution_count": 27,
   "id": "d23bcee7",
   "metadata": {
    "execution": {
     "iopub.execute_input": "2022-10-31T09:50:03.987096Z",
     "iopub.status.busy": "2022-10-31T09:50:03.986616Z",
     "iopub.status.idle": "2022-10-31T09:50:04.024380Z",
     "shell.execute_reply": "2022-10-31T09:50:04.023206Z"
    },
    "papermill": {
     "duration": 0.062972,
     "end_time": "2022-10-31T09:50:04.027172",
     "exception": false,
     "start_time": "2022-10-31T09:50:03.964200",
     "status": "completed"
    },
    "tags": []
   },
   "outputs": [
    {
     "data": {
      "text/html": [
       "<div>\n",
       "<style scoped>\n",
       "    .dataframe tbody tr th:only-of-type {\n",
       "        vertical-align: middle;\n",
       "    }\n",
       "\n",
       "    .dataframe tbody tr th {\n",
       "        vertical-align: top;\n",
       "    }\n",
       "\n",
       "    .dataframe thead th {\n",
       "        text-align: right;\n",
       "    }\n",
       "</style>\n",
       "<table border=\"1\" class=\"dataframe\">\n",
       "  <thead>\n",
       "    <tr style=\"text-align: right;\">\n",
       "      <th></th>\n",
       "      <th>PassengerId</th>\n",
       "      <th>HomePlanet</th>\n",
       "      <th>CryoSleep</th>\n",
       "      <th>Cabin</th>\n",
       "      <th>Destination</th>\n",
       "      <th>Age</th>\n",
       "      <th>VIP</th>\n",
       "      <th>RoomService</th>\n",
       "      <th>FoodCourt</th>\n",
       "      <th>ShoppingMall</th>\n",
       "      <th>Spa</th>\n",
       "      <th>VRDeck</th>\n",
       "      <th>Name</th>\n",
       "      <th>Transported</th>\n",
       "      <th>Train</th>\n",
       "      <th>Deck</th>\n",
       "      <th>Num</th>\n",
       "      <th>Side</th>\n",
       "      <th>Sum_spend</th>\n",
       "    </tr>\n",
       "  </thead>\n",
       "  <tbody>\n",
       "    <tr>\n",
       "      <th>0</th>\n",
       "      <td>0001_01</td>\n",
       "      <td>Europa</td>\n",
       "      <td>False</td>\n",
       "      <td>B/0/P</td>\n",
       "      <td>TRAPPIST-1e</td>\n",
       "      <td>39.0</td>\n",
       "      <td>False</td>\n",
       "      <td>0.0</td>\n",
       "      <td>0.0</td>\n",
       "      <td>0.0</td>\n",
       "      <td>0.0</td>\n",
       "      <td>0.0</td>\n",
       "      <td>Maham Ofracculy</td>\n",
       "      <td>False</td>\n",
       "      <td>Yes</td>\n",
       "      <td>B</td>\n",
       "      <td>0</td>\n",
       "      <td>P</td>\n",
       "      <td>0.0</td>\n",
       "    </tr>\n",
       "    <tr>\n",
       "      <th>1</th>\n",
       "      <td>0002_01</td>\n",
       "      <td>Earth</td>\n",
       "      <td>False</td>\n",
       "      <td>F/0/S</td>\n",
       "      <td>TRAPPIST-1e</td>\n",
       "      <td>24.0</td>\n",
       "      <td>False</td>\n",
       "      <td>109.0</td>\n",
       "      <td>9.0</td>\n",
       "      <td>25.0</td>\n",
       "      <td>549.0</td>\n",
       "      <td>44.0</td>\n",
       "      <td>Juanna Vines</td>\n",
       "      <td>True</td>\n",
       "      <td>Yes</td>\n",
       "      <td>F</td>\n",
       "      <td>0</td>\n",
       "      <td>S</td>\n",
       "      <td>736.0</td>\n",
       "    </tr>\n",
       "    <tr>\n",
       "      <th>2</th>\n",
       "      <td>0003_01</td>\n",
       "      <td>Europa</td>\n",
       "      <td>False</td>\n",
       "      <td>A/0/S</td>\n",
       "      <td>TRAPPIST-1e</td>\n",
       "      <td>58.0</td>\n",
       "      <td>True</td>\n",
       "      <td>43.0</td>\n",
       "      <td>3576.0</td>\n",
       "      <td>0.0</td>\n",
       "      <td>6715.0</td>\n",
       "      <td>49.0</td>\n",
       "      <td>Altark Susent</td>\n",
       "      <td>False</td>\n",
       "      <td>Yes</td>\n",
       "      <td>A</td>\n",
       "      <td>0</td>\n",
       "      <td>S</td>\n",
       "      <td>10383.0</td>\n",
       "    </tr>\n",
       "    <tr>\n",
       "      <th>3</th>\n",
       "      <td>0003_02</td>\n",
       "      <td>Europa</td>\n",
       "      <td>False</td>\n",
       "      <td>A/0/S</td>\n",
       "      <td>TRAPPIST-1e</td>\n",
       "      <td>33.0</td>\n",
       "      <td>False</td>\n",
       "      <td>0.0</td>\n",
       "      <td>1283.0</td>\n",
       "      <td>371.0</td>\n",
       "      <td>3329.0</td>\n",
       "      <td>193.0</td>\n",
       "      <td>Solam Susent</td>\n",
       "      <td>False</td>\n",
       "      <td>Yes</td>\n",
       "      <td>A</td>\n",
       "      <td>0</td>\n",
       "      <td>S</td>\n",
       "      <td>5176.0</td>\n",
       "    </tr>\n",
       "    <tr>\n",
       "      <th>4</th>\n",
       "      <td>0004_01</td>\n",
       "      <td>Earth</td>\n",
       "      <td>False</td>\n",
       "      <td>F/1/S</td>\n",
       "      <td>TRAPPIST-1e</td>\n",
       "      <td>16.0</td>\n",
       "      <td>False</td>\n",
       "      <td>303.0</td>\n",
       "      <td>70.0</td>\n",
       "      <td>151.0</td>\n",
       "      <td>565.0</td>\n",
       "      <td>2.0</td>\n",
       "      <td>Willy Santantines</td>\n",
       "      <td>True</td>\n",
       "      <td>Yes</td>\n",
       "      <td>F</td>\n",
       "      <td>1</td>\n",
       "      <td>S</td>\n",
       "      <td>1091.0</td>\n",
       "    </tr>\n",
       "    <tr>\n",
       "      <th>...</th>\n",
       "      <td>...</td>\n",
       "      <td>...</td>\n",
       "      <td>...</td>\n",
       "      <td>...</td>\n",
       "      <td>...</td>\n",
       "      <td>...</td>\n",
       "      <td>...</td>\n",
       "      <td>...</td>\n",
       "      <td>...</td>\n",
       "      <td>...</td>\n",
       "      <td>...</td>\n",
       "      <td>...</td>\n",
       "      <td>...</td>\n",
       "      <td>...</td>\n",
       "      <td>...</td>\n",
       "      <td>...</td>\n",
       "      <td>...</td>\n",
       "      <td>...</td>\n",
       "      <td>...</td>\n",
       "    </tr>\n",
       "    <tr>\n",
       "      <th>4272</th>\n",
       "      <td>9266_02</td>\n",
       "      <td>Earth</td>\n",
       "      <td>True</td>\n",
       "      <td>G/1496/S</td>\n",
       "      <td>TRAPPIST-1e</td>\n",
       "      <td>34.0</td>\n",
       "      <td>False</td>\n",
       "      <td>0.0</td>\n",
       "      <td>0.0</td>\n",
       "      <td>0.0</td>\n",
       "      <td>0.0</td>\n",
       "      <td>0.0</td>\n",
       "      <td>Jeron Peter</td>\n",
       "      <td>NaN</td>\n",
       "      <td>No</td>\n",
       "      <td>G</td>\n",
       "      <td>1496</td>\n",
       "      <td>S</td>\n",
       "      <td>0.0</td>\n",
       "    </tr>\n",
       "    <tr>\n",
       "      <th>4273</th>\n",
       "      <td>9269_01</td>\n",
       "      <td>Earth</td>\n",
       "      <td>False</td>\n",
       "      <td>NaN</td>\n",
       "      <td>TRAPPIST-1e</td>\n",
       "      <td>42.0</td>\n",
       "      <td>False</td>\n",
       "      <td>0.0</td>\n",
       "      <td>847.0</td>\n",
       "      <td>17.0</td>\n",
       "      <td>10.0</td>\n",
       "      <td>144.0</td>\n",
       "      <td>Matty Scheron</td>\n",
       "      <td>NaN</td>\n",
       "      <td>No</td>\n",
       "      <td>T</td>\n",
       "      <td>0</td>\n",
       "      <td>P</td>\n",
       "      <td>1018.0</td>\n",
       "    </tr>\n",
       "    <tr>\n",
       "      <th>4274</th>\n",
       "      <td>9271_01</td>\n",
       "      <td>Mars</td>\n",
       "      <td>True</td>\n",
       "      <td>D/296/P</td>\n",
       "      <td>55 Cancri e</td>\n",
       "      <td>27.0</td>\n",
       "      <td>False</td>\n",
       "      <td>0.0</td>\n",
       "      <td>0.0</td>\n",
       "      <td>0.0</td>\n",
       "      <td>0.0</td>\n",
       "      <td>0.0</td>\n",
       "      <td>Jayrin Pore</td>\n",
       "      <td>NaN</td>\n",
       "      <td>No</td>\n",
       "      <td>D</td>\n",
       "      <td>296</td>\n",
       "      <td>P</td>\n",
       "      <td>0.0</td>\n",
       "    </tr>\n",
       "    <tr>\n",
       "      <th>4275</th>\n",
       "      <td>9273_01</td>\n",
       "      <td>Europa</td>\n",
       "      <td>False</td>\n",
       "      <td>D/297/P</td>\n",
       "      <td>'TRAPPIST-1e</td>\n",
       "      <td>27.0</td>\n",
       "      <td>False</td>\n",
       "      <td>0.0</td>\n",
       "      <td>2680.0</td>\n",
       "      <td>0.0</td>\n",
       "      <td>0.0</td>\n",
       "      <td>523.0</td>\n",
       "      <td>Kitakan Conale</td>\n",
       "      <td>NaN</td>\n",
       "      <td>No</td>\n",
       "      <td>D</td>\n",
       "      <td>297</td>\n",
       "      <td>P</td>\n",
       "      <td>3203.0</td>\n",
       "    </tr>\n",
       "    <tr>\n",
       "      <th>4276</th>\n",
       "      <td>9277_01</td>\n",
       "      <td>Earth</td>\n",
       "      <td>True</td>\n",
       "      <td>G/1498/S</td>\n",
       "      <td>PSO J318.5-22</td>\n",
       "      <td>43.0</td>\n",
       "      <td>False</td>\n",
       "      <td>0.0</td>\n",
       "      <td>0.0</td>\n",
       "      <td>0.0</td>\n",
       "      <td>0.0</td>\n",
       "      <td>0.0</td>\n",
       "      <td>Lilace Leonzaley</td>\n",
       "      <td>NaN</td>\n",
       "      <td>No</td>\n",
       "      <td>G</td>\n",
       "      <td>1498</td>\n",
       "      <td>S</td>\n",
       "      <td>0.0</td>\n",
       "    </tr>\n",
       "  </tbody>\n",
       "</table>\n",
       "<p>12970 rows × 19 columns</p>\n",
       "</div>"
      ],
      "text/plain": [
       "     PassengerId HomePlanet  CryoSleep     Cabin    Destination   Age    VIP  \\\n",
       "0        0001_01     Europa      False     B/0/P    TRAPPIST-1e  39.0  False   \n",
       "1        0002_01      Earth      False     F/0/S    TRAPPIST-1e  24.0  False   \n",
       "2        0003_01     Europa      False     A/0/S    TRAPPIST-1e  58.0   True   \n",
       "3        0003_02     Europa      False     A/0/S    TRAPPIST-1e  33.0  False   \n",
       "4        0004_01      Earth      False     F/1/S    TRAPPIST-1e  16.0  False   \n",
       "...          ...        ...        ...       ...            ...   ...    ...   \n",
       "4272     9266_02      Earth       True  G/1496/S    TRAPPIST-1e  34.0  False   \n",
       "4273     9269_01      Earth      False       NaN    TRAPPIST-1e  42.0  False   \n",
       "4274     9271_01       Mars       True   D/296/P    55 Cancri e  27.0  False   \n",
       "4275     9273_01     Europa      False   D/297/P   'TRAPPIST-1e  27.0  False   \n",
       "4276     9277_01      Earth       True  G/1498/S  PSO J318.5-22  43.0  False   \n",
       "\n",
       "      RoomService  FoodCourt  ShoppingMall     Spa  VRDeck               Name  \\\n",
       "0             0.0        0.0           0.0     0.0     0.0    Maham Ofracculy   \n",
       "1           109.0        9.0          25.0   549.0    44.0       Juanna Vines   \n",
       "2            43.0     3576.0           0.0  6715.0    49.0      Altark Susent   \n",
       "3             0.0     1283.0         371.0  3329.0   193.0       Solam Susent   \n",
       "4           303.0       70.0         151.0   565.0     2.0  Willy Santantines   \n",
       "...           ...        ...           ...     ...     ...                ...   \n",
       "4272          0.0        0.0           0.0     0.0     0.0        Jeron Peter   \n",
       "4273          0.0      847.0          17.0    10.0   144.0      Matty Scheron   \n",
       "4274          0.0        0.0           0.0     0.0     0.0        Jayrin Pore   \n",
       "4275          0.0     2680.0           0.0     0.0   523.0     Kitakan Conale   \n",
       "4276          0.0        0.0           0.0     0.0     0.0   Lilace Leonzaley   \n",
       "\n",
       "     Transported Train Deck   Num Side  Sum_spend  \n",
       "0          False   Yes    B     0    P        0.0  \n",
       "1           True   Yes    F     0    S      736.0  \n",
       "2          False   Yes    A     0    S    10383.0  \n",
       "3          False   Yes    A     0    S     5176.0  \n",
       "4           True   Yes    F     1    S     1091.0  \n",
       "...          ...   ...  ...   ...  ...        ...  \n",
       "4272         NaN    No    G  1496    S        0.0  \n",
       "4273         NaN    No    T     0    P     1018.0  \n",
       "4274         NaN    No    D   296    P        0.0  \n",
       "4275         NaN    No    D   297    P     3203.0  \n",
       "4276         NaN    No    G  1498    S        0.0  \n",
       "\n",
       "[12970 rows x 19 columns]"
      ]
     },
     "execution_count": 27,
     "metadata": {},
     "output_type": "execute_result"
    }
   ],
   "source": [
    "concat['Sum_spend'] = concat['RoomService'] + concat['FoodCourt'] + concat['ShoppingMall'] + concat['Spa'] + concat['VRDeck']\n",
    "concat"
   ]
  },
  {
   "cell_type": "markdown",
   "id": "0948bd9f",
   "metadata": {
    "papermill": {
     "duration": 0.020572,
     "end_time": "2022-10-31T09:50:04.068808",
     "exception": false,
     "start_time": "2022-10-31T09:50:04.048236",
     "status": "completed"
    },
    "tags": []
   },
   "source": [
    "สร้างคอลัมน์ AgeGroup โดยแบ่งกลุ่มอายุตามช่วงอายุในคอลัมน์ Age"
   ]
  },
  {
   "cell_type": "code",
   "execution_count": 28,
   "id": "0e413b56",
   "metadata": {
    "execution": {
     "iopub.execute_input": "2022-10-31T09:50:04.112000Z",
     "iopub.status.busy": "2022-10-31T09:50:04.111534Z",
     "iopub.status.idle": "2022-10-31T09:50:04.153461Z",
     "shell.execute_reply": "2022-10-31T09:50:04.152384Z"
    },
    "papermill": {
     "duration": 0.066524,
     "end_time": "2022-10-31T09:50:04.155913",
     "exception": false,
     "start_time": "2022-10-31T09:50:04.089389",
     "status": "completed"
    },
    "tags": []
   },
   "outputs": [
    {
     "data": {
      "text/html": [
       "<div>\n",
       "<style scoped>\n",
       "    .dataframe tbody tr th:only-of-type {\n",
       "        vertical-align: middle;\n",
       "    }\n",
       "\n",
       "    .dataframe tbody tr th {\n",
       "        vertical-align: top;\n",
       "    }\n",
       "\n",
       "    .dataframe thead th {\n",
       "        text-align: right;\n",
       "    }\n",
       "</style>\n",
       "<table border=\"1\" class=\"dataframe\">\n",
       "  <thead>\n",
       "    <tr style=\"text-align: right;\">\n",
       "      <th></th>\n",
       "      <th>PassengerId</th>\n",
       "      <th>HomePlanet</th>\n",
       "      <th>CryoSleep</th>\n",
       "      <th>Cabin</th>\n",
       "      <th>Destination</th>\n",
       "      <th>Age</th>\n",
       "      <th>VIP</th>\n",
       "      <th>RoomService</th>\n",
       "      <th>FoodCourt</th>\n",
       "      <th>ShoppingMall</th>\n",
       "      <th>Spa</th>\n",
       "      <th>VRDeck</th>\n",
       "      <th>Name</th>\n",
       "      <th>Transported</th>\n",
       "      <th>Train</th>\n",
       "      <th>Deck</th>\n",
       "      <th>Num</th>\n",
       "      <th>Side</th>\n",
       "      <th>Sum_spend</th>\n",
       "      <th>AgeGroup</th>\n",
       "    </tr>\n",
       "  </thead>\n",
       "  <tbody>\n",
       "    <tr>\n",
       "      <th>0</th>\n",
       "      <td>0001_01</td>\n",
       "      <td>Europa</td>\n",
       "      <td>False</td>\n",
       "      <td>B/0/P</td>\n",
       "      <td>TRAPPIST-1e</td>\n",
       "      <td>39.0</td>\n",
       "      <td>False</td>\n",
       "      <td>0.0</td>\n",
       "      <td>0.0</td>\n",
       "      <td>0.0</td>\n",
       "      <td>0.0</td>\n",
       "      <td>0.0</td>\n",
       "      <td>Maham Ofracculy</td>\n",
       "      <td>False</td>\n",
       "      <td>Yes</td>\n",
       "      <td>B</td>\n",
       "      <td>0</td>\n",
       "      <td>P</td>\n",
       "      <td>0.0</td>\n",
       "      <td>Adult</td>\n",
       "    </tr>\n",
       "    <tr>\n",
       "      <th>1</th>\n",
       "      <td>0002_01</td>\n",
       "      <td>Earth</td>\n",
       "      <td>False</td>\n",
       "      <td>F/0/S</td>\n",
       "      <td>TRAPPIST-1e</td>\n",
       "      <td>24.0</td>\n",
       "      <td>False</td>\n",
       "      <td>109.0</td>\n",
       "      <td>9.0</td>\n",
       "      <td>25.0</td>\n",
       "      <td>549.0</td>\n",
       "      <td>44.0</td>\n",
       "      <td>Juanna Vines</td>\n",
       "      <td>True</td>\n",
       "      <td>Yes</td>\n",
       "      <td>F</td>\n",
       "      <td>0</td>\n",
       "      <td>S</td>\n",
       "      <td>736.0</td>\n",
       "      <td>Adult</td>\n",
       "    </tr>\n",
       "    <tr>\n",
       "      <th>2</th>\n",
       "      <td>0003_01</td>\n",
       "      <td>Europa</td>\n",
       "      <td>False</td>\n",
       "      <td>A/0/S</td>\n",
       "      <td>TRAPPIST-1e</td>\n",
       "      <td>58.0</td>\n",
       "      <td>True</td>\n",
       "      <td>43.0</td>\n",
       "      <td>3576.0</td>\n",
       "      <td>0.0</td>\n",
       "      <td>6715.0</td>\n",
       "      <td>49.0</td>\n",
       "      <td>Altark Susent</td>\n",
       "      <td>False</td>\n",
       "      <td>Yes</td>\n",
       "      <td>A</td>\n",
       "      <td>0</td>\n",
       "      <td>S</td>\n",
       "      <td>10383.0</td>\n",
       "      <td>Adult</td>\n",
       "    </tr>\n",
       "    <tr>\n",
       "      <th>3</th>\n",
       "      <td>0003_02</td>\n",
       "      <td>Europa</td>\n",
       "      <td>False</td>\n",
       "      <td>A/0/S</td>\n",
       "      <td>TRAPPIST-1e</td>\n",
       "      <td>33.0</td>\n",
       "      <td>False</td>\n",
       "      <td>0.0</td>\n",
       "      <td>1283.0</td>\n",
       "      <td>371.0</td>\n",
       "      <td>3329.0</td>\n",
       "      <td>193.0</td>\n",
       "      <td>Solam Susent</td>\n",
       "      <td>False</td>\n",
       "      <td>Yes</td>\n",
       "      <td>A</td>\n",
       "      <td>0</td>\n",
       "      <td>S</td>\n",
       "      <td>5176.0</td>\n",
       "      <td>Adult</td>\n",
       "    </tr>\n",
       "    <tr>\n",
       "      <th>4</th>\n",
       "      <td>0004_01</td>\n",
       "      <td>Earth</td>\n",
       "      <td>False</td>\n",
       "      <td>F/1/S</td>\n",
       "      <td>TRAPPIST-1e</td>\n",
       "      <td>16.0</td>\n",
       "      <td>False</td>\n",
       "      <td>303.0</td>\n",
       "      <td>70.0</td>\n",
       "      <td>151.0</td>\n",
       "      <td>565.0</td>\n",
       "      <td>2.0</td>\n",
       "      <td>Willy Santantines</td>\n",
       "      <td>True</td>\n",
       "      <td>Yes</td>\n",
       "      <td>F</td>\n",
       "      <td>1</td>\n",
       "      <td>S</td>\n",
       "      <td>1091.0</td>\n",
       "      <td>Teen</td>\n",
       "    </tr>\n",
       "    <tr>\n",
       "      <th>...</th>\n",
       "      <td>...</td>\n",
       "      <td>...</td>\n",
       "      <td>...</td>\n",
       "      <td>...</td>\n",
       "      <td>...</td>\n",
       "      <td>...</td>\n",
       "      <td>...</td>\n",
       "      <td>...</td>\n",
       "      <td>...</td>\n",
       "      <td>...</td>\n",
       "      <td>...</td>\n",
       "      <td>...</td>\n",
       "      <td>...</td>\n",
       "      <td>...</td>\n",
       "      <td>...</td>\n",
       "      <td>...</td>\n",
       "      <td>...</td>\n",
       "      <td>...</td>\n",
       "      <td>...</td>\n",
       "      <td>...</td>\n",
       "    </tr>\n",
       "    <tr>\n",
       "      <th>4272</th>\n",
       "      <td>9266_02</td>\n",
       "      <td>Earth</td>\n",
       "      <td>True</td>\n",
       "      <td>G/1496/S</td>\n",
       "      <td>TRAPPIST-1e</td>\n",
       "      <td>34.0</td>\n",
       "      <td>False</td>\n",
       "      <td>0.0</td>\n",
       "      <td>0.0</td>\n",
       "      <td>0.0</td>\n",
       "      <td>0.0</td>\n",
       "      <td>0.0</td>\n",
       "      <td>Jeron Peter</td>\n",
       "      <td>NaN</td>\n",
       "      <td>No</td>\n",
       "      <td>G</td>\n",
       "      <td>1496</td>\n",
       "      <td>S</td>\n",
       "      <td>0.0</td>\n",
       "      <td>Adult</td>\n",
       "    </tr>\n",
       "    <tr>\n",
       "      <th>4273</th>\n",
       "      <td>9269_01</td>\n",
       "      <td>Earth</td>\n",
       "      <td>False</td>\n",
       "      <td>NaN</td>\n",
       "      <td>TRAPPIST-1e</td>\n",
       "      <td>42.0</td>\n",
       "      <td>False</td>\n",
       "      <td>0.0</td>\n",
       "      <td>847.0</td>\n",
       "      <td>17.0</td>\n",
       "      <td>10.0</td>\n",
       "      <td>144.0</td>\n",
       "      <td>Matty Scheron</td>\n",
       "      <td>NaN</td>\n",
       "      <td>No</td>\n",
       "      <td>T</td>\n",
       "      <td>0</td>\n",
       "      <td>P</td>\n",
       "      <td>1018.0</td>\n",
       "      <td>Adult</td>\n",
       "    </tr>\n",
       "    <tr>\n",
       "      <th>4274</th>\n",
       "      <td>9271_01</td>\n",
       "      <td>Mars</td>\n",
       "      <td>True</td>\n",
       "      <td>D/296/P</td>\n",
       "      <td>55 Cancri e</td>\n",
       "      <td>27.0</td>\n",
       "      <td>False</td>\n",
       "      <td>0.0</td>\n",
       "      <td>0.0</td>\n",
       "      <td>0.0</td>\n",
       "      <td>0.0</td>\n",
       "      <td>0.0</td>\n",
       "      <td>Jayrin Pore</td>\n",
       "      <td>NaN</td>\n",
       "      <td>No</td>\n",
       "      <td>D</td>\n",
       "      <td>296</td>\n",
       "      <td>P</td>\n",
       "      <td>0.0</td>\n",
       "      <td>Adult</td>\n",
       "    </tr>\n",
       "    <tr>\n",
       "      <th>4275</th>\n",
       "      <td>9273_01</td>\n",
       "      <td>Europa</td>\n",
       "      <td>False</td>\n",
       "      <td>D/297/P</td>\n",
       "      <td>'TRAPPIST-1e</td>\n",
       "      <td>27.0</td>\n",
       "      <td>False</td>\n",
       "      <td>0.0</td>\n",
       "      <td>2680.0</td>\n",
       "      <td>0.0</td>\n",
       "      <td>0.0</td>\n",
       "      <td>523.0</td>\n",
       "      <td>Kitakan Conale</td>\n",
       "      <td>NaN</td>\n",
       "      <td>No</td>\n",
       "      <td>D</td>\n",
       "      <td>297</td>\n",
       "      <td>P</td>\n",
       "      <td>3203.0</td>\n",
       "      <td>Adult</td>\n",
       "    </tr>\n",
       "    <tr>\n",
       "      <th>4276</th>\n",
       "      <td>9277_01</td>\n",
       "      <td>Earth</td>\n",
       "      <td>True</td>\n",
       "      <td>G/1498/S</td>\n",
       "      <td>PSO J318.5-22</td>\n",
       "      <td>43.0</td>\n",
       "      <td>False</td>\n",
       "      <td>0.0</td>\n",
       "      <td>0.0</td>\n",
       "      <td>0.0</td>\n",
       "      <td>0.0</td>\n",
       "      <td>0.0</td>\n",
       "      <td>Lilace Leonzaley</td>\n",
       "      <td>NaN</td>\n",
       "      <td>No</td>\n",
       "      <td>G</td>\n",
       "      <td>1498</td>\n",
       "      <td>S</td>\n",
       "      <td>0.0</td>\n",
       "      <td>Adult</td>\n",
       "    </tr>\n",
       "  </tbody>\n",
       "</table>\n",
       "<p>12970 rows × 20 columns</p>\n",
       "</div>"
      ],
      "text/plain": [
       "     PassengerId HomePlanet  CryoSleep     Cabin    Destination   Age    VIP  \\\n",
       "0        0001_01     Europa      False     B/0/P    TRAPPIST-1e  39.0  False   \n",
       "1        0002_01      Earth      False     F/0/S    TRAPPIST-1e  24.0  False   \n",
       "2        0003_01     Europa      False     A/0/S    TRAPPIST-1e  58.0   True   \n",
       "3        0003_02     Europa      False     A/0/S    TRAPPIST-1e  33.0  False   \n",
       "4        0004_01      Earth      False     F/1/S    TRAPPIST-1e  16.0  False   \n",
       "...          ...        ...        ...       ...            ...   ...    ...   \n",
       "4272     9266_02      Earth       True  G/1496/S    TRAPPIST-1e  34.0  False   \n",
       "4273     9269_01      Earth      False       NaN    TRAPPIST-1e  42.0  False   \n",
       "4274     9271_01       Mars       True   D/296/P    55 Cancri e  27.0  False   \n",
       "4275     9273_01     Europa      False   D/297/P   'TRAPPIST-1e  27.0  False   \n",
       "4276     9277_01      Earth       True  G/1498/S  PSO J318.5-22  43.0  False   \n",
       "\n",
       "      RoomService  FoodCourt  ShoppingMall     Spa  VRDeck               Name  \\\n",
       "0             0.0        0.0           0.0     0.0     0.0    Maham Ofracculy   \n",
       "1           109.0        9.0          25.0   549.0    44.0       Juanna Vines   \n",
       "2            43.0     3576.0           0.0  6715.0    49.0      Altark Susent   \n",
       "3             0.0     1283.0         371.0  3329.0   193.0       Solam Susent   \n",
       "4           303.0       70.0         151.0   565.0     2.0  Willy Santantines   \n",
       "...           ...        ...           ...     ...     ...                ...   \n",
       "4272          0.0        0.0           0.0     0.0     0.0        Jeron Peter   \n",
       "4273          0.0      847.0          17.0    10.0   144.0      Matty Scheron   \n",
       "4274          0.0        0.0           0.0     0.0     0.0        Jayrin Pore   \n",
       "4275          0.0     2680.0           0.0     0.0   523.0     Kitakan Conale   \n",
       "4276          0.0        0.0           0.0     0.0     0.0   Lilace Leonzaley   \n",
       "\n",
       "     Transported Train Deck   Num Side  Sum_spend AgeGroup  \n",
       "0          False   Yes    B     0    P        0.0    Adult  \n",
       "1           True   Yes    F     0    S      736.0    Adult  \n",
       "2          False   Yes    A     0    S    10383.0    Adult  \n",
       "3          False   Yes    A     0    S     5176.0    Adult  \n",
       "4           True   Yes    F     1    S     1091.0     Teen  \n",
       "...          ...   ...  ...   ...  ...        ...      ...  \n",
       "4272         NaN    No    G  1496    S        0.0    Adult  \n",
       "4273         NaN    No    T     0    P     1018.0    Adult  \n",
       "4274         NaN    No    D   296    P        0.0    Adult  \n",
       "4275         NaN    No    D   297    P     3203.0    Adult  \n",
       "4276         NaN    No    G  1498    S        0.0    Adult  \n",
       "\n",
       "[12970 rows x 20 columns]"
      ]
     },
     "execution_count": 28,
     "metadata": {},
     "output_type": "execute_result"
    }
   ],
   "source": [
    "concat['AgeGroup'] = pd.cut(concat.Age, bins=[-1, 5, 13, 18, 60, 100], labels = ['Baby', 'Child', 'Teen', 'Adult', 'Elderly'])\n",
    "concat"
   ]
  },
  {
   "cell_type": "markdown",
   "id": "f3d6a11d",
   "metadata": {
    "papermill": {
     "duration": 0.020933,
     "end_time": "2022-10-31T09:50:04.198386",
     "exception": false,
     "start_time": "2022-10-31T09:50:04.177453",
     "status": "completed"
    },
    "tags": []
   },
   "source": [
    "นำคอลัมน์ Name และ Cabin ซึ่งเป็นคอลัมน์ที่ไม่จำเป็นออก"
   ]
  },
  {
   "cell_type": "code",
   "execution_count": 29,
   "id": "df0ecd66",
   "metadata": {
    "execution": {
     "iopub.execute_input": "2022-10-31T09:50:04.242546Z",
     "iopub.status.busy": "2022-10-31T09:50:04.241452Z",
     "iopub.status.idle": "2022-10-31T09:50:04.282665Z",
     "shell.execute_reply": "2022-10-31T09:50:04.281486Z"
    },
    "papermill": {
     "duration": 0.065972,
     "end_time": "2022-10-31T09:50:04.285214",
     "exception": false,
     "start_time": "2022-10-31T09:50:04.219242",
     "status": "completed"
    },
    "tags": []
   },
   "outputs": [
    {
     "data": {
      "text/html": [
       "<div>\n",
       "<style scoped>\n",
       "    .dataframe tbody tr th:only-of-type {\n",
       "        vertical-align: middle;\n",
       "    }\n",
       "\n",
       "    .dataframe tbody tr th {\n",
       "        vertical-align: top;\n",
       "    }\n",
       "\n",
       "    .dataframe thead th {\n",
       "        text-align: right;\n",
       "    }\n",
       "</style>\n",
       "<table border=\"1\" class=\"dataframe\">\n",
       "  <thead>\n",
       "    <tr style=\"text-align: right;\">\n",
       "      <th></th>\n",
       "      <th>PassengerId</th>\n",
       "      <th>HomePlanet</th>\n",
       "      <th>CryoSleep</th>\n",
       "      <th>Destination</th>\n",
       "      <th>Age</th>\n",
       "      <th>VIP</th>\n",
       "      <th>RoomService</th>\n",
       "      <th>FoodCourt</th>\n",
       "      <th>ShoppingMall</th>\n",
       "      <th>Spa</th>\n",
       "      <th>VRDeck</th>\n",
       "      <th>Transported</th>\n",
       "      <th>Train</th>\n",
       "      <th>Deck</th>\n",
       "      <th>Num</th>\n",
       "      <th>Side</th>\n",
       "      <th>Sum_spend</th>\n",
       "      <th>AgeGroup</th>\n",
       "    </tr>\n",
       "  </thead>\n",
       "  <tbody>\n",
       "    <tr>\n",
       "      <th>0</th>\n",
       "      <td>0001_01</td>\n",
       "      <td>Europa</td>\n",
       "      <td>False</td>\n",
       "      <td>TRAPPIST-1e</td>\n",
       "      <td>39.0</td>\n",
       "      <td>False</td>\n",
       "      <td>0.0</td>\n",
       "      <td>0.0</td>\n",
       "      <td>0.0</td>\n",
       "      <td>0.0</td>\n",
       "      <td>0.0</td>\n",
       "      <td>False</td>\n",
       "      <td>Yes</td>\n",
       "      <td>B</td>\n",
       "      <td>0</td>\n",
       "      <td>P</td>\n",
       "      <td>0.0</td>\n",
       "      <td>Adult</td>\n",
       "    </tr>\n",
       "    <tr>\n",
       "      <th>1</th>\n",
       "      <td>0002_01</td>\n",
       "      <td>Earth</td>\n",
       "      <td>False</td>\n",
       "      <td>TRAPPIST-1e</td>\n",
       "      <td>24.0</td>\n",
       "      <td>False</td>\n",
       "      <td>109.0</td>\n",
       "      <td>9.0</td>\n",
       "      <td>25.0</td>\n",
       "      <td>549.0</td>\n",
       "      <td>44.0</td>\n",
       "      <td>True</td>\n",
       "      <td>Yes</td>\n",
       "      <td>F</td>\n",
       "      <td>0</td>\n",
       "      <td>S</td>\n",
       "      <td>736.0</td>\n",
       "      <td>Adult</td>\n",
       "    </tr>\n",
       "    <tr>\n",
       "      <th>2</th>\n",
       "      <td>0003_01</td>\n",
       "      <td>Europa</td>\n",
       "      <td>False</td>\n",
       "      <td>TRAPPIST-1e</td>\n",
       "      <td>58.0</td>\n",
       "      <td>True</td>\n",
       "      <td>43.0</td>\n",
       "      <td>3576.0</td>\n",
       "      <td>0.0</td>\n",
       "      <td>6715.0</td>\n",
       "      <td>49.0</td>\n",
       "      <td>False</td>\n",
       "      <td>Yes</td>\n",
       "      <td>A</td>\n",
       "      <td>0</td>\n",
       "      <td>S</td>\n",
       "      <td>10383.0</td>\n",
       "      <td>Adult</td>\n",
       "    </tr>\n",
       "    <tr>\n",
       "      <th>3</th>\n",
       "      <td>0003_02</td>\n",
       "      <td>Europa</td>\n",
       "      <td>False</td>\n",
       "      <td>TRAPPIST-1e</td>\n",
       "      <td>33.0</td>\n",
       "      <td>False</td>\n",
       "      <td>0.0</td>\n",
       "      <td>1283.0</td>\n",
       "      <td>371.0</td>\n",
       "      <td>3329.0</td>\n",
       "      <td>193.0</td>\n",
       "      <td>False</td>\n",
       "      <td>Yes</td>\n",
       "      <td>A</td>\n",
       "      <td>0</td>\n",
       "      <td>S</td>\n",
       "      <td>5176.0</td>\n",
       "      <td>Adult</td>\n",
       "    </tr>\n",
       "    <tr>\n",
       "      <th>4</th>\n",
       "      <td>0004_01</td>\n",
       "      <td>Earth</td>\n",
       "      <td>False</td>\n",
       "      <td>TRAPPIST-1e</td>\n",
       "      <td>16.0</td>\n",
       "      <td>False</td>\n",
       "      <td>303.0</td>\n",
       "      <td>70.0</td>\n",
       "      <td>151.0</td>\n",
       "      <td>565.0</td>\n",
       "      <td>2.0</td>\n",
       "      <td>True</td>\n",
       "      <td>Yes</td>\n",
       "      <td>F</td>\n",
       "      <td>1</td>\n",
       "      <td>S</td>\n",
       "      <td>1091.0</td>\n",
       "      <td>Teen</td>\n",
       "    </tr>\n",
       "    <tr>\n",
       "      <th>...</th>\n",
       "      <td>...</td>\n",
       "      <td>...</td>\n",
       "      <td>...</td>\n",
       "      <td>...</td>\n",
       "      <td>...</td>\n",
       "      <td>...</td>\n",
       "      <td>...</td>\n",
       "      <td>...</td>\n",
       "      <td>...</td>\n",
       "      <td>...</td>\n",
       "      <td>...</td>\n",
       "      <td>...</td>\n",
       "      <td>...</td>\n",
       "      <td>...</td>\n",
       "      <td>...</td>\n",
       "      <td>...</td>\n",
       "      <td>...</td>\n",
       "      <td>...</td>\n",
       "    </tr>\n",
       "    <tr>\n",
       "      <th>4272</th>\n",
       "      <td>9266_02</td>\n",
       "      <td>Earth</td>\n",
       "      <td>True</td>\n",
       "      <td>TRAPPIST-1e</td>\n",
       "      <td>34.0</td>\n",
       "      <td>False</td>\n",
       "      <td>0.0</td>\n",
       "      <td>0.0</td>\n",
       "      <td>0.0</td>\n",
       "      <td>0.0</td>\n",
       "      <td>0.0</td>\n",
       "      <td>NaN</td>\n",
       "      <td>No</td>\n",
       "      <td>G</td>\n",
       "      <td>1496</td>\n",
       "      <td>S</td>\n",
       "      <td>0.0</td>\n",
       "      <td>Adult</td>\n",
       "    </tr>\n",
       "    <tr>\n",
       "      <th>4273</th>\n",
       "      <td>9269_01</td>\n",
       "      <td>Earth</td>\n",
       "      <td>False</td>\n",
       "      <td>TRAPPIST-1e</td>\n",
       "      <td>42.0</td>\n",
       "      <td>False</td>\n",
       "      <td>0.0</td>\n",
       "      <td>847.0</td>\n",
       "      <td>17.0</td>\n",
       "      <td>10.0</td>\n",
       "      <td>144.0</td>\n",
       "      <td>NaN</td>\n",
       "      <td>No</td>\n",
       "      <td>T</td>\n",
       "      <td>0</td>\n",
       "      <td>P</td>\n",
       "      <td>1018.0</td>\n",
       "      <td>Adult</td>\n",
       "    </tr>\n",
       "    <tr>\n",
       "      <th>4274</th>\n",
       "      <td>9271_01</td>\n",
       "      <td>Mars</td>\n",
       "      <td>True</td>\n",
       "      <td>55 Cancri e</td>\n",
       "      <td>27.0</td>\n",
       "      <td>False</td>\n",
       "      <td>0.0</td>\n",
       "      <td>0.0</td>\n",
       "      <td>0.0</td>\n",
       "      <td>0.0</td>\n",
       "      <td>0.0</td>\n",
       "      <td>NaN</td>\n",
       "      <td>No</td>\n",
       "      <td>D</td>\n",
       "      <td>296</td>\n",
       "      <td>P</td>\n",
       "      <td>0.0</td>\n",
       "      <td>Adult</td>\n",
       "    </tr>\n",
       "    <tr>\n",
       "      <th>4275</th>\n",
       "      <td>9273_01</td>\n",
       "      <td>Europa</td>\n",
       "      <td>False</td>\n",
       "      <td>'TRAPPIST-1e</td>\n",
       "      <td>27.0</td>\n",
       "      <td>False</td>\n",
       "      <td>0.0</td>\n",
       "      <td>2680.0</td>\n",
       "      <td>0.0</td>\n",
       "      <td>0.0</td>\n",
       "      <td>523.0</td>\n",
       "      <td>NaN</td>\n",
       "      <td>No</td>\n",
       "      <td>D</td>\n",
       "      <td>297</td>\n",
       "      <td>P</td>\n",
       "      <td>3203.0</td>\n",
       "      <td>Adult</td>\n",
       "    </tr>\n",
       "    <tr>\n",
       "      <th>4276</th>\n",
       "      <td>9277_01</td>\n",
       "      <td>Earth</td>\n",
       "      <td>True</td>\n",
       "      <td>PSO J318.5-22</td>\n",
       "      <td>43.0</td>\n",
       "      <td>False</td>\n",
       "      <td>0.0</td>\n",
       "      <td>0.0</td>\n",
       "      <td>0.0</td>\n",
       "      <td>0.0</td>\n",
       "      <td>0.0</td>\n",
       "      <td>NaN</td>\n",
       "      <td>No</td>\n",
       "      <td>G</td>\n",
       "      <td>1498</td>\n",
       "      <td>S</td>\n",
       "      <td>0.0</td>\n",
       "      <td>Adult</td>\n",
       "    </tr>\n",
       "  </tbody>\n",
       "</table>\n",
       "<p>12970 rows × 18 columns</p>\n",
       "</div>"
      ],
      "text/plain": [
       "     PassengerId HomePlanet  CryoSleep    Destination   Age    VIP  \\\n",
       "0        0001_01     Europa      False    TRAPPIST-1e  39.0  False   \n",
       "1        0002_01      Earth      False    TRAPPIST-1e  24.0  False   \n",
       "2        0003_01     Europa      False    TRAPPIST-1e  58.0   True   \n",
       "3        0003_02     Europa      False    TRAPPIST-1e  33.0  False   \n",
       "4        0004_01      Earth      False    TRAPPIST-1e  16.0  False   \n",
       "...          ...        ...        ...            ...   ...    ...   \n",
       "4272     9266_02      Earth       True    TRAPPIST-1e  34.0  False   \n",
       "4273     9269_01      Earth      False    TRAPPIST-1e  42.0  False   \n",
       "4274     9271_01       Mars       True    55 Cancri e  27.0  False   \n",
       "4275     9273_01     Europa      False   'TRAPPIST-1e  27.0  False   \n",
       "4276     9277_01      Earth       True  PSO J318.5-22  43.0  False   \n",
       "\n",
       "      RoomService  FoodCourt  ShoppingMall     Spa  VRDeck Transported Train  \\\n",
       "0             0.0        0.0           0.0     0.0     0.0       False   Yes   \n",
       "1           109.0        9.0          25.0   549.0    44.0        True   Yes   \n",
       "2            43.0     3576.0           0.0  6715.0    49.0       False   Yes   \n",
       "3             0.0     1283.0         371.0  3329.0   193.0       False   Yes   \n",
       "4           303.0       70.0         151.0   565.0     2.0        True   Yes   \n",
       "...           ...        ...           ...     ...     ...         ...   ...   \n",
       "4272          0.0        0.0           0.0     0.0     0.0         NaN    No   \n",
       "4273          0.0      847.0          17.0    10.0   144.0         NaN    No   \n",
       "4274          0.0        0.0           0.0     0.0     0.0         NaN    No   \n",
       "4275          0.0     2680.0           0.0     0.0   523.0         NaN    No   \n",
       "4276          0.0        0.0           0.0     0.0     0.0         NaN    No   \n",
       "\n",
       "     Deck   Num Side  Sum_spend AgeGroup  \n",
       "0       B     0    P        0.0    Adult  \n",
       "1       F     0    S      736.0    Adult  \n",
       "2       A     0    S    10383.0    Adult  \n",
       "3       A     0    S     5176.0    Adult  \n",
       "4       F     1    S     1091.0     Teen  \n",
       "...   ...   ...  ...        ...      ...  \n",
       "4272    G  1496    S        0.0    Adult  \n",
       "4273    T     0    P     1018.0    Adult  \n",
       "4274    D   296    P        0.0    Adult  \n",
       "4275    D   297    P     3203.0    Adult  \n",
       "4276    G  1498    S        0.0    Adult  \n",
       "\n",
       "[12970 rows x 18 columns]"
      ]
     },
     "execution_count": 29,
     "metadata": {},
     "output_type": "execute_result"
    }
   ],
   "source": [
    "concat = concat.drop(['Name', 'Cabin'],axis=1)\n",
    "concat"
   ]
  },
  {
   "cell_type": "code",
   "execution_count": 30,
   "id": "f64e9e3c",
   "metadata": {
    "execution": {
     "iopub.execute_input": "2022-10-31T09:50:04.330233Z",
     "iopub.status.busy": "2022-10-31T09:50:04.329815Z",
     "iopub.status.idle": "2022-10-31T09:50:04.345555Z",
     "shell.execute_reply": "2022-10-31T09:50:04.344380Z"
    },
    "papermill": {
     "duration": 0.040744,
     "end_time": "2022-10-31T09:50:04.347598",
     "exception": false,
     "start_time": "2022-10-31T09:50:04.306854",
     "status": "completed"
    },
    "tags": []
   },
   "outputs": [
    {
     "data": {
      "text/plain": [
       "PassengerId        0\n",
       "HomePlanet         0\n",
       "CryoSleep          0\n",
       "Destination        0\n",
       "Age                0\n",
       "VIP                0\n",
       "RoomService        0\n",
       "FoodCourt          0\n",
       "ShoppingMall       0\n",
       "Spa                0\n",
       "VRDeck             0\n",
       "Transported     4277\n",
       "Train              0\n",
       "Deck               0\n",
       "Num                0\n",
       "Side               0\n",
       "Sum_spend          0\n",
       "AgeGroup           0\n",
       "dtype: int64"
      ]
     },
     "execution_count": 30,
     "metadata": {},
     "output_type": "execute_result"
    }
   ],
   "source": [
    "concat.isnull().sum()"
   ]
  },
  {
   "cell_type": "markdown",
   "id": "9e38d92d",
   "metadata": {
    "papermill": {
     "duration": 0.022402,
     "end_time": "2022-10-31T09:50:04.391625",
     "exception": false,
     "start_time": "2022-10-31T09:50:04.369223",
     "status": "completed"
    },
    "tags": []
   },
   "source": [
    "# Label Encoding"
   ]
  },
  {
   "cell_type": "markdown",
   "id": "e1e5e3cb",
   "metadata": {
    "papermill": {
     "duration": 0.023769,
     "end_time": "2022-10-31T09:50:04.438539",
     "exception": false,
     "start_time": "2022-10-31T09:50:04.414770",
     "status": "completed"
    },
    "tags": []
   },
   "source": [
    "แปลงข้อมูลในคอลัมน์ HomePlanet, CryoSleep, Destination, VIP, Deck, Side, Num, AgeGroup ให้อยู่ในรูปของตัวเลข"
   ]
  },
  {
   "cell_type": "code",
   "execution_count": 31,
   "id": "3ade81d4",
   "metadata": {
    "execution": {
     "iopub.execute_input": "2022-10-31T09:50:04.486119Z",
     "iopub.status.busy": "2022-10-31T09:50:04.485680Z",
     "iopub.status.idle": "2022-10-31T09:50:04.580608Z",
     "shell.execute_reply": "2022-10-31T09:50:04.578729Z"
    },
    "papermill": {
     "duration": 0.121798,
     "end_time": "2022-10-31T09:50:04.583234",
     "exception": false,
     "start_time": "2022-10-31T09:50:04.461436",
     "status": "completed"
    },
    "tags": []
   },
   "outputs": [
    {
     "name": "stdout",
     "output_type": "stream",
     "text": [
      "HomePlanet\n",
      "CryoSleep\n",
      "Destination\n",
      "VIP\n",
      "Deck\n",
      "Side\n",
      "Num\n",
      "AgeGroup\n"
     ]
    }
   ],
   "source": [
    "from sklearn.preprocessing import LabelEncoder\n",
    "\n",
    "categorical_cols= ['HomePlanet','CryoSleep','Destination','VIP','Deck','Side','Num', 'AgeGroup']\n",
    "for i in categorical_cols:\n",
    "    print(i)\n",
    "    le=LabelEncoder()\n",
    "    arr = np.array(concat[i]).astype(str)\n",
    "    le.fit(arr)\n",
    "    concat[i]=le.transform(concat[i].astype(str))"
   ]
  },
  {
   "cell_type": "code",
   "execution_count": 32,
   "id": "85c510b0",
   "metadata": {
    "execution": {
     "iopub.execute_input": "2022-10-31T09:50:04.633827Z",
     "iopub.status.busy": "2022-10-31T09:50:04.632865Z",
     "iopub.status.idle": "2022-10-31T09:50:04.639433Z",
     "shell.execute_reply": "2022-10-31T09:50:04.638464Z"
    },
    "papermill": {
     "duration": 0.034277,
     "end_time": "2022-10-31T09:50:04.641861",
     "exception": false,
     "start_time": "2022-10-31T09:50:04.607584",
     "status": "completed"
    },
    "tags": []
   },
   "outputs": [],
   "source": [
    "concat.set_index('PassengerId',inplace=True)"
   ]
  },
  {
   "cell_type": "code",
   "execution_count": 33,
   "id": "c8b5bdd1",
   "metadata": {
    "execution": {
     "iopub.execute_input": "2022-10-31T09:50:04.688959Z",
     "iopub.status.busy": "2022-10-31T09:50:04.688237Z",
     "iopub.status.idle": "2022-10-31T09:50:04.710261Z",
     "shell.execute_reply": "2022-10-31T09:50:04.709163Z"
    },
    "papermill": {
     "duration": 0.048007,
     "end_time": "2022-10-31T09:50:04.712430",
     "exception": false,
     "start_time": "2022-10-31T09:50:04.664423",
     "status": "completed"
    },
    "tags": []
   },
   "outputs": [
    {
     "data": {
      "text/html": [
       "<div>\n",
       "<style scoped>\n",
       "    .dataframe tbody tr th:only-of-type {\n",
       "        vertical-align: middle;\n",
       "    }\n",
       "\n",
       "    .dataframe tbody tr th {\n",
       "        vertical-align: top;\n",
       "    }\n",
       "\n",
       "    .dataframe thead th {\n",
       "        text-align: right;\n",
       "    }\n",
       "</style>\n",
       "<table border=\"1\" class=\"dataframe\">\n",
       "  <thead>\n",
       "    <tr style=\"text-align: right;\">\n",
       "      <th></th>\n",
       "      <th>HomePlanet</th>\n",
       "      <th>CryoSleep</th>\n",
       "      <th>Destination</th>\n",
       "      <th>Age</th>\n",
       "      <th>VIP</th>\n",
       "      <th>RoomService</th>\n",
       "      <th>FoodCourt</th>\n",
       "      <th>ShoppingMall</th>\n",
       "      <th>Spa</th>\n",
       "      <th>VRDeck</th>\n",
       "      <th>Transported</th>\n",
       "      <th>Train</th>\n",
       "      <th>Deck</th>\n",
       "      <th>Num</th>\n",
       "      <th>Side</th>\n",
       "      <th>Sum_spend</th>\n",
       "      <th>AgeGroup</th>\n",
       "    </tr>\n",
       "    <tr>\n",
       "      <th>PassengerId</th>\n",
       "      <th></th>\n",
       "      <th></th>\n",
       "      <th></th>\n",
       "      <th></th>\n",
       "      <th></th>\n",
       "      <th></th>\n",
       "      <th></th>\n",
       "      <th></th>\n",
       "      <th></th>\n",
       "      <th></th>\n",
       "      <th></th>\n",
       "      <th></th>\n",
       "      <th></th>\n",
       "      <th></th>\n",
       "      <th></th>\n",
       "      <th></th>\n",
       "      <th></th>\n",
       "    </tr>\n",
       "  </thead>\n",
       "  <tbody>\n",
       "    <tr>\n",
       "      <th>0001_01</th>\n",
       "      <td>1</td>\n",
       "      <td>0</td>\n",
       "      <td>3</td>\n",
       "      <td>39.0</td>\n",
       "      <td>0</td>\n",
       "      <td>0.0</td>\n",
       "      <td>0.0</td>\n",
       "      <td>0.0</td>\n",
       "      <td>0.0</td>\n",
       "      <td>0.0</td>\n",
       "      <td>False</td>\n",
       "      <td>Yes</td>\n",
       "      <td>1</td>\n",
       "      <td>0</td>\n",
       "      <td>0</td>\n",
       "      <td>0.0</td>\n",
       "      <td>0</td>\n",
       "    </tr>\n",
       "    <tr>\n",
       "      <th>0002_01</th>\n",
       "      <td>0</td>\n",
       "      <td>0</td>\n",
       "      <td>3</td>\n",
       "      <td>24.0</td>\n",
       "      <td>0</td>\n",
       "      <td>109.0</td>\n",
       "      <td>9.0</td>\n",
       "      <td>25.0</td>\n",
       "      <td>549.0</td>\n",
       "      <td>44.0</td>\n",
       "      <td>True</td>\n",
       "      <td>Yes</td>\n",
       "      <td>5</td>\n",
       "      <td>0</td>\n",
       "      <td>1</td>\n",
       "      <td>736.0</td>\n",
       "      <td>0</td>\n",
       "    </tr>\n",
       "    <tr>\n",
       "      <th>0003_01</th>\n",
       "      <td>1</td>\n",
       "      <td>0</td>\n",
       "      <td>3</td>\n",
       "      <td>58.0</td>\n",
       "      <td>1</td>\n",
       "      <td>43.0</td>\n",
       "      <td>3576.0</td>\n",
       "      <td>0.0</td>\n",
       "      <td>6715.0</td>\n",
       "      <td>49.0</td>\n",
       "      <td>False</td>\n",
       "      <td>Yes</td>\n",
       "      <td>0</td>\n",
       "      <td>0</td>\n",
       "      <td>1</td>\n",
       "      <td>10383.0</td>\n",
       "      <td>0</td>\n",
       "    </tr>\n",
       "    <tr>\n",
       "      <th>0003_02</th>\n",
       "      <td>1</td>\n",
       "      <td>0</td>\n",
       "      <td>3</td>\n",
       "      <td>33.0</td>\n",
       "      <td>0</td>\n",
       "      <td>0.0</td>\n",
       "      <td>1283.0</td>\n",
       "      <td>371.0</td>\n",
       "      <td>3329.0</td>\n",
       "      <td>193.0</td>\n",
       "      <td>False</td>\n",
       "      <td>Yes</td>\n",
       "      <td>0</td>\n",
       "      <td>0</td>\n",
       "      <td>1</td>\n",
       "      <td>5176.0</td>\n",
       "      <td>0</td>\n",
       "    </tr>\n",
       "    <tr>\n",
       "      <th>0004_01</th>\n",
       "      <td>0</td>\n",
       "      <td>0</td>\n",
       "      <td>3</td>\n",
       "      <td>16.0</td>\n",
       "      <td>0</td>\n",
       "      <td>303.0</td>\n",
       "      <td>70.0</td>\n",
       "      <td>151.0</td>\n",
       "      <td>565.0</td>\n",
       "      <td>2.0</td>\n",
       "      <td>True</td>\n",
       "      <td>Yes</td>\n",
       "      <td>5</td>\n",
       "      <td>1</td>\n",
       "      <td>1</td>\n",
       "      <td>1091.0</td>\n",
       "      <td>4</td>\n",
       "    </tr>\n",
       "  </tbody>\n",
       "</table>\n",
       "</div>"
      ],
      "text/plain": [
       "             HomePlanet  CryoSleep  Destination   Age  VIP  RoomService  \\\n",
       "PassengerId                                                               \n",
       "0001_01               1          0            3  39.0    0          0.0   \n",
       "0002_01               0          0            3  24.0    0        109.0   \n",
       "0003_01               1          0            3  58.0    1         43.0   \n",
       "0003_02               1          0            3  33.0    0          0.0   \n",
       "0004_01               0          0            3  16.0    0        303.0   \n",
       "\n",
       "             FoodCourt  ShoppingMall     Spa  VRDeck Transported Train  Deck  \\\n",
       "PassengerId                                                                    \n",
       "0001_01            0.0           0.0     0.0     0.0       False   Yes     1   \n",
       "0002_01            9.0          25.0   549.0    44.0        True   Yes     5   \n",
       "0003_01         3576.0           0.0  6715.0    49.0       False   Yes     0   \n",
       "0003_02         1283.0         371.0  3329.0   193.0       False   Yes     0   \n",
       "0004_01           70.0         151.0   565.0     2.0        True   Yes     5   \n",
       "\n",
       "             Num  Side  Sum_spend  AgeGroup  \n",
       "PassengerId                                  \n",
       "0001_01        0     0        0.0         0  \n",
       "0002_01        0     1      736.0         0  \n",
       "0003_01        0     1    10383.0         0  \n",
       "0003_02        0     1     5176.0         0  \n",
       "0004_01        1     1     1091.0         4  "
      ]
     },
     "execution_count": 33,
     "metadata": {},
     "output_type": "execute_result"
    }
   ],
   "source": [
    "concat.head()"
   ]
  },
  {
   "cell_type": "markdown",
   "id": "b5bc8410",
   "metadata": {
    "papermill": {
     "duration": 0.022134,
     "end_time": "2022-10-31T09:50:04.756943",
     "exception": false,
     "start_time": "2022-10-31T09:50:04.734809",
     "status": "completed"
    },
    "tags": []
   },
   "source": [
    "แยก Dataset trian และ test"
   ]
  },
  {
   "cell_type": "code",
   "execution_count": 34,
   "id": "0567c39a",
   "metadata": {
    "execution": {
     "iopub.execute_input": "2022-10-31T09:50:04.803368Z",
     "iopub.status.busy": "2022-10-31T09:50:04.802661Z",
     "iopub.status.idle": "2022-10-31T09:50:04.847370Z",
     "shell.execute_reply": "2022-10-31T09:50:04.846421Z"
    },
    "papermill": {
     "duration": 0.070524,
     "end_time": "2022-10-31T09:50:04.849770",
     "exception": false,
     "start_time": "2022-10-31T09:50:04.779246",
     "status": "completed"
    },
    "tags": []
   },
   "outputs": [
    {
     "name": "stderr",
     "output_type": "stream",
     "text": [
      "C:\\Users\\Lokesh\\anaconda3\\lib\\site-packages\\pandas\\core\\frame.py:4906: SettingWithCopyWarning: \n",
      "A value is trying to be set on a copy of a slice from a DataFrame\n",
      "\n",
      "See the caveats in the documentation: https://pandas.pydata.org/pandas-docs/stable/user_guide/indexing.html#returning-a-view-versus-a-copy\n",
      "  return super().drop(\n"
     ]
    },
    {
     "data": {
      "text/html": [
       "<div>\n",
       "<style scoped>\n",
       "    .dataframe tbody tr th:only-of-type {\n",
       "        vertical-align: middle;\n",
       "    }\n",
       "\n",
       "    .dataframe tbody tr th {\n",
       "        vertical-align: top;\n",
       "    }\n",
       "\n",
       "    .dataframe thead th {\n",
       "        text-align: right;\n",
       "    }\n",
       "</style>\n",
       "<table border=\"1\" class=\"dataframe\">\n",
       "  <thead>\n",
       "    <tr style=\"text-align: right;\">\n",
       "      <th></th>\n",
       "      <th>HomePlanet</th>\n",
       "      <th>CryoSleep</th>\n",
       "      <th>Destination</th>\n",
       "      <th>Age</th>\n",
       "      <th>VIP</th>\n",
       "      <th>RoomService</th>\n",
       "      <th>FoodCourt</th>\n",
       "      <th>ShoppingMall</th>\n",
       "      <th>Spa</th>\n",
       "      <th>VRDeck</th>\n",
       "      <th>Transported</th>\n",
       "      <th>Deck</th>\n",
       "      <th>Num</th>\n",
       "      <th>Side</th>\n",
       "      <th>Sum_spend</th>\n",
       "      <th>AgeGroup</th>\n",
       "    </tr>\n",
       "    <tr>\n",
       "      <th>PassengerId</th>\n",
       "      <th></th>\n",
       "      <th></th>\n",
       "      <th></th>\n",
       "      <th></th>\n",
       "      <th></th>\n",
       "      <th></th>\n",
       "      <th></th>\n",
       "      <th></th>\n",
       "      <th></th>\n",
       "      <th></th>\n",
       "      <th></th>\n",
       "      <th></th>\n",
       "      <th></th>\n",
       "      <th></th>\n",
       "      <th></th>\n",
       "      <th></th>\n",
       "    </tr>\n",
       "  </thead>\n",
       "  <tbody>\n",
       "    <tr>\n",
       "      <th>0001_01</th>\n",
       "      <td>1</td>\n",
       "      <td>0</td>\n",
       "      <td>3</td>\n",
       "      <td>39.0</td>\n",
       "      <td>0</td>\n",
       "      <td>0.0</td>\n",
       "      <td>0.0</td>\n",
       "      <td>0.0</td>\n",
       "      <td>0.0</td>\n",
       "      <td>0.0</td>\n",
       "      <td>False</td>\n",
       "      <td>1</td>\n",
       "      <td>0</td>\n",
       "      <td>0</td>\n",
       "      <td>0.0</td>\n",
       "      <td>0</td>\n",
       "    </tr>\n",
       "    <tr>\n",
       "      <th>0002_01</th>\n",
       "      <td>0</td>\n",
       "      <td>0</td>\n",
       "      <td>3</td>\n",
       "      <td>24.0</td>\n",
       "      <td>0</td>\n",
       "      <td>109.0</td>\n",
       "      <td>9.0</td>\n",
       "      <td>25.0</td>\n",
       "      <td>549.0</td>\n",
       "      <td>44.0</td>\n",
       "      <td>True</td>\n",
       "      <td>5</td>\n",
       "      <td>0</td>\n",
       "      <td>1</td>\n",
       "      <td>736.0</td>\n",
       "      <td>0</td>\n",
       "    </tr>\n",
       "    <tr>\n",
       "      <th>0003_01</th>\n",
       "      <td>1</td>\n",
       "      <td>0</td>\n",
       "      <td>3</td>\n",
       "      <td>58.0</td>\n",
       "      <td>1</td>\n",
       "      <td>43.0</td>\n",
       "      <td>3576.0</td>\n",
       "      <td>0.0</td>\n",
       "      <td>6715.0</td>\n",
       "      <td>49.0</td>\n",
       "      <td>False</td>\n",
       "      <td>0</td>\n",
       "      <td>0</td>\n",
       "      <td>1</td>\n",
       "      <td>10383.0</td>\n",
       "      <td>0</td>\n",
       "    </tr>\n",
       "    <tr>\n",
       "      <th>0003_02</th>\n",
       "      <td>1</td>\n",
       "      <td>0</td>\n",
       "      <td>3</td>\n",
       "      <td>33.0</td>\n",
       "      <td>0</td>\n",
       "      <td>0.0</td>\n",
       "      <td>1283.0</td>\n",
       "      <td>371.0</td>\n",
       "      <td>3329.0</td>\n",
       "      <td>193.0</td>\n",
       "      <td>False</td>\n",
       "      <td>0</td>\n",
       "      <td>0</td>\n",
       "      <td>1</td>\n",
       "      <td>5176.0</td>\n",
       "      <td>0</td>\n",
       "    </tr>\n",
       "    <tr>\n",
       "      <th>0004_01</th>\n",
       "      <td>0</td>\n",
       "      <td>0</td>\n",
       "      <td>3</td>\n",
       "      <td>16.0</td>\n",
       "      <td>0</td>\n",
       "      <td>303.0</td>\n",
       "      <td>70.0</td>\n",
       "      <td>151.0</td>\n",
       "      <td>565.0</td>\n",
       "      <td>2.0</td>\n",
       "      <td>True</td>\n",
       "      <td>5</td>\n",
       "      <td>1</td>\n",
       "      <td>1</td>\n",
       "      <td>1091.0</td>\n",
       "      <td>4</td>\n",
       "    </tr>\n",
       "    <tr>\n",
       "      <th>...</th>\n",
       "      <td>...</td>\n",
       "      <td>...</td>\n",
       "      <td>...</td>\n",
       "      <td>...</td>\n",
       "      <td>...</td>\n",
       "      <td>...</td>\n",
       "      <td>...</td>\n",
       "      <td>...</td>\n",
       "      <td>...</td>\n",
       "      <td>...</td>\n",
       "      <td>...</td>\n",
       "      <td>...</td>\n",
       "      <td>...</td>\n",
       "      <td>...</td>\n",
       "      <td>...</td>\n",
       "      <td>...</td>\n",
       "    </tr>\n",
       "    <tr>\n",
       "      <th>9276_01</th>\n",
       "      <td>1</td>\n",
       "      <td>0</td>\n",
       "      <td>1</td>\n",
       "      <td>41.0</td>\n",
       "      <td>1</td>\n",
       "      <td>0.0</td>\n",
       "      <td>6819.0</td>\n",
       "      <td>0.0</td>\n",
       "      <td>1643.0</td>\n",
       "      <td>74.0</td>\n",
       "      <td>False</td>\n",
       "      <td>0</td>\n",
       "      <td>1872</td>\n",
       "      <td>0</td>\n",
       "      <td>8536.0</td>\n",
       "      <td>0</td>\n",
       "    </tr>\n",
       "    <tr>\n",
       "      <th>9278_01</th>\n",
       "      <td>0</td>\n",
       "      <td>1</td>\n",
       "      <td>2</td>\n",
       "      <td>18.0</td>\n",
       "      <td>0</td>\n",
       "      <td>0.0</td>\n",
       "      <td>0.0</td>\n",
       "      <td>0.0</td>\n",
       "      <td>0.0</td>\n",
       "      <td>0.0</td>\n",
       "      <td>False</td>\n",
       "      <td>6</td>\n",
       "      <td>556</td>\n",
       "      <td>1</td>\n",
       "      <td>0.0</td>\n",
       "      <td>4</td>\n",
       "    </tr>\n",
       "    <tr>\n",
       "      <th>9279_01</th>\n",
       "      <td>0</td>\n",
       "      <td>0</td>\n",
       "      <td>3</td>\n",
       "      <td>26.0</td>\n",
       "      <td>0</td>\n",
       "      <td>0.0</td>\n",
       "      <td>0.0</td>\n",
       "      <td>1872.0</td>\n",
       "      <td>1.0</td>\n",
       "      <td>0.0</td>\n",
       "      <td>True</td>\n",
       "      <td>6</td>\n",
       "      <td>559</td>\n",
       "      <td>1</td>\n",
       "      <td>1873.0</td>\n",
       "      <td>0</td>\n",
       "    </tr>\n",
       "    <tr>\n",
       "      <th>9280_01</th>\n",
       "      <td>1</td>\n",
       "      <td>0</td>\n",
       "      <td>1</td>\n",
       "      <td>32.0</td>\n",
       "      <td>0</td>\n",
       "      <td>0.0</td>\n",
       "      <td>1049.0</td>\n",
       "      <td>0.0</td>\n",
       "      <td>353.0</td>\n",
       "      <td>3235.0</td>\n",
       "      <td>False</td>\n",
       "      <td>4</td>\n",
       "      <td>1460</td>\n",
       "      <td>1</td>\n",
       "      <td>4637.0</td>\n",
       "      <td>0</td>\n",
       "    </tr>\n",
       "    <tr>\n",
       "      <th>9280_02</th>\n",
       "      <td>1</td>\n",
       "      <td>0</td>\n",
       "      <td>3</td>\n",
       "      <td>44.0</td>\n",
       "      <td>0</td>\n",
       "      <td>126.0</td>\n",
       "      <td>4688.0</td>\n",
       "      <td>0.0</td>\n",
       "      <td>0.0</td>\n",
       "      <td>12.0</td>\n",
       "      <td>True</td>\n",
       "      <td>4</td>\n",
       "      <td>1460</td>\n",
       "      <td>1</td>\n",
       "      <td>4826.0</td>\n",
       "      <td>0</td>\n",
       "    </tr>\n",
       "  </tbody>\n",
       "</table>\n",
       "<p>8693 rows × 16 columns</p>\n",
       "</div>"
      ],
      "text/plain": [
       "             HomePlanet  CryoSleep  Destination   Age  VIP  RoomService  \\\n",
       "PassengerId                                                               \n",
       "0001_01               1          0            3  39.0    0          0.0   \n",
       "0002_01               0          0            3  24.0    0        109.0   \n",
       "0003_01               1          0            3  58.0    1         43.0   \n",
       "0003_02               1          0            3  33.0    0          0.0   \n",
       "0004_01               0          0            3  16.0    0        303.0   \n",
       "...                 ...        ...          ...   ...  ...          ...   \n",
       "9276_01               1          0            1  41.0    1          0.0   \n",
       "9278_01               0          1            2  18.0    0          0.0   \n",
       "9279_01               0          0            3  26.0    0          0.0   \n",
       "9280_01               1          0            1  32.0    0          0.0   \n",
       "9280_02               1          0            3  44.0    0        126.0   \n",
       "\n",
       "             FoodCourt  ShoppingMall     Spa  VRDeck Transported  Deck   Num  \\\n",
       "PassengerId                                                                    \n",
       "0001_01            0.0           0.0     0.0     0.0       False     1     0   \n",
       "0002_01            9.0          25.0   549.0    44.0        True     5     0   \n",
       "0003_01         3576.0           0.0  6715.0    49.0       False     0     0   \n",
       "0003_02         1283.0         371.0  3329.0   193.0       False     0     0   \n",
       "0004_01           70.0         151.0   565.0     2.0        True     5     1   \n",
       "...                ...           ...     ...     ...         ...   ...   ...   \n",
       "9276_01         6819.0           0.0  1643.0    74.0       False     0  1872   \n",
       "9278_01            0.0           0.0     0.0     0.0       False     6   556   \n",
       "9279_01            0.0        1872.0     1.0     0.0        True     6   559   \n",
       "9280_01         1049.0           0.0   353.0  3235.0       False     4  1460   \n",
       "9280_02         4688.0           0.0     0.0    12.0        True     4  1460   \n",
       "\n",
       "             Side  Sum_spend  AgeGroup  \n",
       "PassengerId                             \n",
       "0001_01         0        0.0         0  \n",
       "0002_01         1      736.0         0  \n",
       "0003_01         1    10383.0         0  \n",
       "0003_02         1     5176.0         0  \n",
       "0004_01         1     1091.0         4  \n",
       "...           ...        ...       ...  \n",
       "9276_01         0     8536.0         0  \n",
       "9278_01         1        0.0         4  \n",
       "9279_01         1     1873.0         0  \n",
       "9280_01         1     4637.0         0  \n",
       "9280_02         1     4826.0         0  \n",
       "\n",
       "[8693 rows x 16 columns]"
      ]
     },
     "execution_count": 34,
     "metadata": {},
     "output_type": "execute_result"
    }
   ],
   "source": [
    "df_train = concat[concat['Train'] == 'Yes']\n",
    "df_train.drop('Train', axis=1, inplace=True)\n",
    "df_train"
   ]
  },
  {
   "cell_type": "code",
   "execution_count": 35,
   "id": "f80639e9",
   "metadata": {
    "execution": {
     "iopub.execute_input": "2022-10-31T09:50:04.900314Z",
     "iopub.status.busy": "2022-10-31T09:50:04.899472Z",
     "iopub.status.idle": "2022-10-31T09:50:04.932662Z",
     "shell.execute_reply": "2022-10-31T09:50:04.931794Z"
    },
    "papermill": {
     "duration": 0.062481,
     "end_time": "2022-10-31T09:50:04.935619",
     "exception": false,
     "start_time": "2022-10-31T09:50:04.873138",
     "status": "completed"
    },
    "tags": []
   },
   "outputs": [
    {
     "name": "stderr",
     "output_type": "stream",
     "text": [
      "C:\\Users\\Lokesh\\anaconda3\\lib\\site-packages\\pandas\\core\\frame.py:4906: SettingWithCopyWarning: \n",
      "A value is trying to be set on a copy of a slice from a DataFrame\n",
      "\n",
      "See the caveats in the documentation: https://pandas.pydata.org/pandas-docs/stable/user_guide/indexing.html#returning-a-view-versus-a-copy\n",
      "  return super().drop(\n"
     ]
    },
    {
     "data": {
      "text/html": [
       "<div>\n",
       "<style scoped>\n",
       "    .dataframe tbody tr th:only-of-type {\n",
       "        vertical-align: middle;\n",
       "    }\n",
       "\n",
       "    .dataframe tbody tr th {\n",
       "        vertical-align: top;\n",
       "    }\n",
       "\n",
       "    .dataframe thead th {\n",
       "        text-align: right;\n",
       "    }\n",
       "</style>\n",
       "<table border=\"1\" class=\"dataframe\">\n",
       "  <thead>\n",
       "    <tr style=\"text-align: right;\">\n",
       "      <th></th>\n",
       "      <th>HomePlanet</th>\n",
       "      <th>CryoSleep</th>\n",
       "      <th>Destination</th>\n",
       "      <th>Age</th>\n",
       "      <th>VIP</th>\n",
       "      <th>RoomService</th>\n",
       "      <th>FoodCourt</th>\n",
       "      <th>ShoppingMall</th>\n",
       "      <th>Spa</th>\n",
       "      <th>VRDeck</th>\n",
       "      <th>Transported</th>\n",
       "      <th>Deck</th>\n",
       "      <th>Num</th>\n",
       "      <th>Side</th>\n",
       "      <th>Sum_spend</th>\n",
       "      <th>AgeGroup</th>\n",
       "    </tr>\n",
       "    <tr>\n",
       "      <th>PassengerId</th>\n",
       "      <th></th>\n",
       "      <th></th>\n",
       "      <th></th>\n",
       "      <th></th>\n",
       "      <th></th>\n",
       "      <th></th>\n",
       "      <th></th>\n",
       "      <th></th>\n",
       "      <th></th>\n",
       "      <th></th>\n",
       "      <th></th>\n",
       "      <th></th>\n",
       "      <th></th>\n",
       "      <th></th>\n",
       "      <th></th>\n",
       "      <th></th>\n",
       "    </tr>\n",
       "  </thead>\n",
       "  <tbody>\n",
       "    <tr>\n",
       "      <th>0013_01</th>\n",
       "      <td>0</td>\n",
       "      <td>1</td>\n",
       "      <td>3</td>\n",
       "      <td>27.0</td>\n",
       "      <td>0</td>\n",
       "      <td>0.0</td>\n",
       "      <td>0.0</td>\n",
       "      <td>0.0</td>\n",
       "      <td>0.0</td>\n",
       "      <td>0.0</td>\n",
       "      <td>NaN</td>\n",
       "      <td>6</td>\n",
       "      <td>1117</td>\n",
       "      <td>1</td>\n",
       "      <td>0.0</td>\n",
       "      <td>0</td>\n",
       "    </tr>\n",
       "    <tr>\n",
       "      <th>0018_01</th>\n",
       "      <td>0</td>\n",
       "      <td>0</td>\n",
       "      <td>3</td>\n",
       "      <td>19.0</td>\n",
       "      <td>0</td>\n",
       "      <td>0.0</td>\n",
       "      <td>9.0</td>\n",
       "      <td>0.0</td>\n",
       "      <td>2823.0</td>\n",
       "      <td>0.0</td>\n",
       "      <td>NaN</td>\n",
       "      <td>5</td>\n",
       "      <td>1228</td>\n",
       "      <td>1</td>\n",
       "      <td>2832.0</td>\n",
       "      <td>0</td>\n",
       "    </tr>\n",
       "    <tr>\n",
       "      <th>0019_01</th>\n",
       "      <td>1</td>\n",
       "      <td>1</td>\n",
       "      <td>1</td>\n",
       "      <td>31.0</td>\n",
       "      <td>0</td>\n",
       "      <td>0.0</td>\n",
       "      <td>0.0</td>\n",
       "      <td>0.0</td>\n",
       "      <td>0.0</td>\n",
       "      <td>0.0</td>\n",
       "      <td>NaN</td>\n",
       "      <td>2</td>\n",
       "      <td>0</td>\n",
       "      <td>1</td>\n",
       "      <td>0.0</td>\n",
       "      <td>0</td>\n",
       "    </tr>\n",
       "    <tr>\n",
       "      <th>0021_01</th>\n",
       "      <td>1</td>\n",
       "      <td>0</td>\n",
       "      <td>3</td>\n",
       "      <td>38.0</td>\n",
       "      <td>0</td>\n",
       "      <td>0.0</td>\n",
       "      <td>6652.0</td>\n",
       "      <td>0.0</td>\n",
       "      <td>181.0</td>\n",
       "      <td>585.0</td>\n",
       "      <td>NaN</td>\n",
       "      <td>2</td>\n",
       "      <td>1</td>\n",
       "      <td>1</td>\n",
       "      <td>7418.0</td>\n",
       "      <td>0</td>\n",
       "    </tr>\n",
       "    <tr>\n",
       "      <th>0023_01</th>\n",
       "      <td>0</td>\n",
       "      <td>0</td>\n",
       "      <td>3</td>\n",
       "      <td>20.0</td>\n",
       "      <td>0</td>\n",
       "      <td>10.0</td>\n",
       "      <td>0.0</td>\n",
       "      <td>635.0</td>\n",
       "      <td>0.0</td>\n",
       "      <td>0.0</td>\n",
       "      <td>NaN</td>\n",
       "      <td>5</td>\n",
       "      <td>1339</td>\n",
       "      <td>1</td>\n",
       "      <td>645.0</td>\n",
       "      <td>0</td>\n",
       "    </tr>\n",
       "    <tr>\n",
       "      <th>...</th>\n",
       "      <td>...</td>\n",
       "      <td>...</td>\n",
       "      <td>...</td>\n",
       "      <td>...</td>\n",
       "      <td>...</td>\n",
       "      <td>...</td>\n",
       "      <td>...</td>\n",
       "      <td>...</td>\n",
       "      <td>...</td>\n",
       "      <td>...</td>\n",
       "      <td>...</td>\n",
       "      <td>...</td>\n",
       "      <td>...</td>\n",
       "      <td>...</td>\n",
       "      <td>...</td>\n",
       "      <td>...</td>\n",
       "    </tr>\n",
       "    <tr>\n",
       "      <th>9266_02</th>\n",
       "      <td>0</td>\n",
       "      <td>1</td>\n",
       "      <td>3</td>\n",
       "      <td>34.0</td>\n",
       "      <td>0</td>\n",
       "      <td>0.0</td>\n",
       "      <td>0.0</td>\n",
       "      <td>0.0</td>\n",
       "      <td>0.0</td>\n",
       "      <td>0.0</td>\n",
       "      <td>NaN</td>\n",
       "      <td>6</td>\n",
       "      <td>553</td>\n",
       "      <td>1</td>\n",
       "      <td>0.0</td>\n",
       "      <td>0</td>\n",
       "    </tr>\n",
       "    <tr>\n",
       "      <th>9269_01</th>\n",
       "      <td>0</td>\n",
       "      <td>0</td>\n",
       "      <td>3</td>\n",
       "      <td>42.0</td>\n",
       "      <td>0</td>\n",
       "      <td>0.0</td>\n",
       "      <td>847.0</td>\n",
       "      <td>17.0</td>\n",
       "      <td>10.0</td>\n",
       "      <td>144.0</td>\n",
       "      <td>NaN</td>\n",
       "      <td>7</td>\n",
       "      <td>0</td>\n",
       "      <td>0</td>\n",
       "      <td>1018.0</td>\n",
       "      <td>0</td>\n",
       "    </tr>\n",
       "    <tr>\n",
       "      <th>9271_01</th>\n",
       "      <td>2</td>\n",
       "      <td>1</td>\n",
       "      <td>1</td>\n",
       "      <td>27.0</td>\n",
       "      <td>0</td>\n",
       "      <td>0.0</td>\n",
       "      <td>0.0</td>\n",
       "      <td>0.0</td>\n",
       "      <td>0.0</td>\n",
       "      <td>0.0</td>\n",
       "      <td>NaN</td>\n",
       "      <td>3</td>\n",
       "      <td>1113</td>\n",
       "      <td>0</td>\n",
       "      <td>0.0</td>\n",
       "      <td>0</td>\n",
       "    </tr>\n",
       "    <tr>\n",
       "      <th>9273_01</th>\n",
       "      <td>1</td>\n",
       "      <td>0</td>\n",
       "      <td>0</td>\n",
       "      <td>27.0</td>\n",
       "      <td>0</td>\n",
       "      <td>0.0</td>\n",
       "      <td>2680.0</td>\n",
       "      <td>0.0</td>\n",
       "      <td>0.0</td>\n",
       "      <td>523.0</td>\n",
       "      <td>NaN</td>\n",
       "      <td>3</td>\n",
       "      <td>1114</td>\n",
       "      <td>0</td>\n",
       "      <td>3203.0</td>\n",
       "      <td>0</td>\n",
       "    </tr>\n",
       "    <tr>\n",
       "      <th>9277_01</th>\n",
       "      <td>0</td>\n",
       "      <td>1</td>\n",
       "      <td>2</td>\n",
       "      <td>43.0</td>\n",
       "      <td>0</td>\n",
       "      <td>0.0</td>\n",
       "      <td>0.0</td>\n",
       "      <td>0.0</td>\n",
       "      <td>0.0</td>\n",
       "      <td>0.0</td>\n",
       "      <td>NaN</td>\n",
       "      <td>6</td>\n",
       "      <td>555</td>\n",
       "      <td>1</td>\n",
       "      <td>0.0</td>\n",
       "      <td>0</td>\n",
       "    </tr>\n",
       "  </tbody>\n",
       "</table>\n",
       "<p>4277 rows × 16 columns</p>\n",
       "</div>"
      ],
      "text/plain": [
       "             HomePlanet  CryoSleep  Destination   Age  VIP  RoomService  \\\n",
       "PassengerId                                                               \n",
       "0013_01               0          1            3  27.0    0          0.0   \n",
       "0018_01               0          0            3  19.0    0          0.0   \n",
       "0019_01               1          1            1  31.0    0          0.0   \n",
       "0021_01               1          0            3  38.0    0          0.0   \n",
       "0023_01               0          0            3  20.0    0         10.0   \n",
       "...                 ...        ...          ...   ...  ...          ...   \n",
       "9266_02               0          1            3  34.0    0          0.0   \n",
       "9269_01               0          0            3  42.0    0          0.0   \n",
       "9271_01               2          1            1  27.0    0          0.0   \n",
       "9273_01               1          0            0  27.0    0          0.0   \n",
       "9277_01               0          1            2  43.0    0          0.0   \n",
       "\n",
       "             FoodCourt  ShoppingMall     Spa  VRDeck Transported  Deck   Num  \\\n",
       "PassengerId                                                                    \n",
       "0013_01            0.0           0.0     0.0     0.0         NaN     6  1117   \n",
       "0018_01            9.0           0.0  2823.0     0.0         NaN     5  1228   \n",
       "0019_01            0.0           0.0     0.0     0.0         NaN     2     0   \n",
       "0021_01         6652.0           0.0   181.0   585.0         NaN     2     1   \n",
       "0023_01            0.0         635.0     0.0     0.0         NaN     5  1339   \n",
       "...                ...           ...     ...     ...         ...   ...   ...   \n",
       "9266_02            0.0           0.0     0.0     0.0         NaN     6   553   \n",
       "9269_01          847.0          17.0    10.0   144.0         NaN     7     0   \n",
       "9271_01            0.0           0.0     0.0     0.0         NaN     3  1113   \n",
       "9273_01         2680.0           0.0     0.0   523.0         NaN     3  1114   \n",
       "9277_01            0.0           0.0     0.0     0.0         NaN     6   555   \n",
       "\n",
       "             Side  Sum_spend  AgeGroup  \n",
       "PassengerId                             \n",
       "0013_01         1        0.0         0  \n",
       "0018_01         1     2832.0         0  \n",
       "0019_01         1        0.0         0  \n",
       "0021_01         1     7418.0         0  \n",
       "0023_01         1      645.0         0  \n",
       "...           ...        ...       ...  \n",
       "9266_02         1        0.0         0  \n",
       "9269_01         0     1018.0         0  \n",
       "9271_01         0        0.0         0  \n",
       "9273_01         0     3203.0         0  \n",
       "9277_01         1        0.0         0  \n",
       "\n",
       "[4277 rows x 16 columns]"
      ]
     },
     "execution_count": 35,
     "metadata": {},
     "output_type": "execute_result"
    }
   ],
   "source": [
    "df_test = concat[concat['Train'] == 'No']\n",
    "df_test.drop('Train', axis=1, inplace=True)\n",
    "df_test"
   ]
  },
  {
   "cell_type": "markdown",
   "id": "63375064",
   "metadata": {
    "papermill": {
     "duration": 0.023667,
     "end_time": "2022-10-31T09:50:04.983710",
     "exception": false,
     "start_time": "2022-10-31T09:50:04.960043",
     "status": "completed"
    },
    "tags": []
   },
   "source": [
    "แปลงข้อมูลในคอลัมน์ Transported ให้อยู่ในรูปของตัวเลข"
   ]
  },
  {
   "cell_type": "code",
   "execution_count": 36,
   "id": "2a38a310",
   "metadata": {
    "execution": {
     "iopub.execute_input": "2022-10-31T09:50:05.035468Z",
     "iopub.status.busy": "2022-10-31T09:50:05.035038Z",
     "iopub.status.idle": "2022-10-31T09:50:05.073187Z",
     "shell.execute_reply": "2022-10-31T09:50:05.071771Z"
    },
    "papermill": {
     "duration": 0.06742,
     "end_time": "2022-10-31T09:50:05.075901",
     "exception": false,
     "start_time": "2022-10-31T09:50:05.008481",
     "status": "completed"
    },
    "tags": []
   },
   "outputs": [
    {
     "name": "stderr",
     "output_type": "stream",
     "text": [
      "C:\\Users\\Lokesh\\AppData\\Local\\Temp/ipykernel_12244/2926226277.py:1: SettingWithCopyWarning: \n",
      "A value is trying to be set on a copy of a slice from a DataFrame.\n",
      "Try using .loc[row_indexer,col_indexer] = value instead\n",
      "\n",
      "See the caveats in the documentation: https://pandas.pydata.org/pandas-docs/stable/user_guide/indexing.html#returning-a-view-versus-a-copy\n",
      "  df_train['Transported']=df_train['Transported'].replace({True:1,False:0})\n"
     ]
    },
    {
     "data": {
      "text/html": [
       "<div>\n",
       "<style scoped>\n",
       "    .dataframe tbody tr th:only-of-type {\n",
       "        vertical-align: middle;\n",
       "    }\n",
       "\n",
       "    .dataframe tbody tr th {\n",
       "        vertical-align: top;\n",
       "    }\n",
       "\n",
       "    .dataframe thead th {\n",
       "        text-align: right;\n",
       "    }\n",
       "</style>\n",
       "<table border=\"1\" class=\"dataframe\">\n",
       "  <thead>\n",
       "    <tr style=\"text-align: right;\">\n",
       "      <th></th>\n",
       "      <th>HomePlanet</th>\n",
       "      <th>CryoSleep</th>\n",
       "      <th>Destination</th>\n",
       "      <th>Age</th>\n",
       "      <th>VIP</th>\n",
       "      <th>RoomService</th>\n",
       "      <th>FoodCourt</th>\n",
       "      <th>ShoppingMall</th>\n",
       "      <th>Spa</th>\n",
       "      <th>VRDeck</th>\n",
       "      <th>Transported</th>\n",
       "      <th>Deck</th>\n",
       "      <th>Num</th>\n",
       "      <th>Side</th>\n",
       "      <th>Sum_spend</th>\n",
       "      <th>AgeGroup</th>\n",
       "    </tr>\n",
       "    <tr>\n",
       "      <th>PassengerId</th>\n",
       "      <th></th>\n",
       "      <th></th>\n",
       "      <th></th>\n",
       "      <th></th>\n",
       "      <th></th>\n",
       "      <th></th>\n",
       "      <th></th>\n",
       "      <th></th>\n",
       "      <th></th>\n",
       "      <th></th>\n",
       "      <th></th>\n",
       "      <th></th>\n",
       "      <th></th>\n",
       "      <th></th>\n",
       "      <th></th>\n",
       "      <th></th>\n",
       "    </tr>\n",
       "  </thead>\n",
       "  <tbody>\n",
       "    <tr>\n",
       "      <th>0001_01</th>\n",
       "      <td>1</td>\n",
       "      <td>0</td>\n",
       "      <td>3</td>\n",
       "      <td>39.0</td>\n",
       "      <td>0</td>\n",
       "      <td>0.0</td>\n",
       "      <td>0.0</td>\n",
       "      <td>0.0</td>\n",
       "      <td>0.0</td>\n",
       "      <td>0.0</td>\n",
       "      <td>0</td>\n",
       "      <td>1</td>\n",
       "      <td>0</td>\n",
       "      <td>0</td>\n",
       "      <td>0.0</td>\n",
       "      <td>0</td>\n",
       "    </tr>\n",
       "    <tr>\n",
       "      <th>0002_01</th>\n",
       "      <td>0</td>\n",
       "      <td>0</td>\n",
       "      <td>3</td>\n",
       "      <td>24.0</td>\n",
       "      <td>0</td>\n",
       "      <td>109.0</td>\n",
       "      <td>9.0</td>\n",
       "      <td>25.0</td>\n",
       "      <td>549.0</td>\n",
       "      <td>44.0</td>\n",
       "      <td>1</td>\n",
       "      <td>5</td>\n",
       "      <td>0</td>\n",
       "      <td>1</td>\n",
       "      <td>736.0</td>\n",
       "      <td>0</td>\n",
       "    </tr>\n",
       "    <tr>\n",
       "      <th>0003_01</th>\n",
       "      <td>1</td>\n",
       "      <td>0</td>\n",
       "      <td>3</td>\n",
       "      <td>58.0</td>\n",
       "      <td>1</td>\n",
       "      <td>43.0</td>\n",
       "      <td>3576.0</td>\n",
       "      <td>0.0</td>\n",
       "      <td>6715.0</td>\n",
       "      <td>49.0</td>\n",
       "      <td>0</td>\n",
       "      <td>0</td>\n",
       "      <td>0</td>\n",
       "      <td>1</td>\n",
       "      <td>10383.0</td>\n",
       "      <td>0</td>\n",
       "    </tr>\n",
       "    <tr>\n",
       "      <th>0003_02</th>\n",
       "      <td>1</td>\n",
       "      <td>0</td>\n",
       "      <td>3</td>\n",
       "      <td>33.0</td>\n",
       "      <td>0</td>\n",
       "      <td>0.0</td>\n",
       "      <td>1283.0</td>\n",
       "      <td>371.0</td>\n",
       "      <td>3329.0</td>\n",
       "      <td>193.0</td>\n",
       "      <td>0</td>\n",
       "      <td>0</td>\n",
       "      <td>0</td>\n",
       "      <td>1</td>\n",
       "      <td>5176.0</td>\n",
       "      <td>0</td>\n",
       "    </tr>\n",
       "    <tr>\n",
       "      <th>0004_01</th>\n",
       "      <td>0</td>\n",
       "      <td>0</td>\n",
       "      <td>3</td>\n",
       "      <td>16.0</td>\n",
       "      <td>0</td>\n",
       "      <td>303.0</td>\n",
       "      <td>70.0</td>\n",
       "      <td>151.0</td>\n",
       "      <td>565.0</td>\n",
       "      <td>2.0</td>\n",
       "      <td>1</td>\n",
       "      <td>5</td>\n",
       "      <td>1</td>\n",
       "      <td>1</td>\n",
       "      <td>1091.0</td>\n",
       "      <td>4</td>\n",
       "    </tr>\n",
       "    <tr>\n",
       "      <th>...</th>\n",
       "      <td>...</td>\n",
       "      <td>...</td>\n",
       "      <td>...</td>\n",
       "      <td>...</td>\n",
       "      <td>...</td>\n",
       "      <td>...</td>\n",
       "      <td>...</td>\n",
       "      <td>...</td>\n",
       "      <td>...</td>\n",
       "      <td>...</td>\n",
       "      <td>...</td>\n",
       "      <td>...</td>\n",
       "      <td>...</td>\n",
       "      <td>...</td>\n",
       "      <td>...</td>\n",
       "      <td>...</td>\n",
       "    </tr>\n",
       "    <tr>\n",
       "      <th>9276_01</th>\n",
       "      <td>1</td>\n",
       "      <td>0</td>\n",
       "      <td>1</td>\n",
       "      <td>41.0</td>\n",
       "      <td>1</td>\n",
       "      <td>0.0</td>\n",
       "      <td>6819.0</td>\n",
       "      <td>0.0</td>\n",
       "      <td>1643.0</td>\n",
       "      <td>74.0</td>\n",
       "      <td>0</td>\n",
       "      <td>0</td>\n",
       "      <td>1872</td>\n",
       "      <td>0</td>\n",
       "      <td>8536.0</td>\n",
       "      <td>0</td>\n",
       "    </tr>\n",
       "    <tr>\n",
       "      <th>9278_01</th>\n",
       "      <td>0</td>\n",
       "      <td>1</td>\n",
       "      <td>2</td>\n",
       "      <td>18.0</td>\n",
       "      <td>0</td>\n",
       "      <td>0.0</td>\n",
       "      <td>0.0</td>\n",
       "      <td>0.0</td>\n",
       "      <td>0.0</td>\n",
       "      <td>0.0</td>\n",
       "      <td>0</td>\n",
       "      <td>6</td>\n",
       "      <td>556</td>\n",
       "      <td>1</td>\n",
       "      <td>0.0</td>\n",
       "      <td>4</td>\n",
       "    </tr>\n",
       "    <tr>\n",
       "      <th>9279_01</th>\n",
       "      <td>0</td>\n",
       "      <td>0</td>\n",
       "      <td>3</td>\n",
       "      <td>26.0</td>\n",
       "      <td>0</td>\n",
       "      <td>0.0</td>\n",
       "      <td>0.0</td>\n",
       "      <td>1872.0</td>\n",
       "      <td>1.0</td>\n",
       "      <td>0.0</td>\n",
       "      <td>1</td>\n",
       "      <td>6</td>\n",
       "      <td>559</td>\n",
       "      <td>1</td>\n",
       "      <td>1873.0</td>\n",
       "      <td>0</td>\n",
       "    </tr>\n",
       "    <tr>\n",
       "      <th>9280_01</th>\n",
       "      <td>1</td>\n",
       "      <td>0</td>\n",
       "      <td>1</td>\n",
       "      <td>32.0</td>\n",
       "      <td>0</td>\n",
       "      <td>0.0</td>\n",
       "      <td>1049.0</td>\n",
       "      <td>0.0</td>\n",
       "      <td>353.0</td>\n",
       "      <td>3235.0</td>\n",
       "      <td>0</td>\n",
       "      <td>4</td>\n",
       "      <td>1460</td>\n",
       "      <td>1</td>\n",
       "      <td>4637.0</td>\n",
       "      <td>0</td>\n",
       "    </tr>\n",
       "    <tr>\n",
       "      <th>9280_02</th>\n",
       "      <td>1</td>\n",
       "      <td>0</td>\n",
       "      <td>3</td>\n",
       "      <td>44.0</td>\n",
       "      <td>0</td>\n",
       "      <td>126.0</td>\n",
       "      <td>4688.0</td>\n",
       "      <td>0.0</td>\n",
       "      <td>0.0</td>\n",
       "      <td>12.0</td>\n",
       "      <td>1</td>\n",
       "      <td>4</td>\n",
       "      <td>1460</td>\n",
       "      <td>1</td>\n",
       "      <td>4826.0</td>\n",
       "      <td>0</td>\n",
       "    </tr>\n",
       "  </tbody>\n",
       "</table>\n",
       "<p>8693 rows × 16 columns</p>\n",
       "</div>"
      ],
      "text/plain": [
       "             HomePlanet  CryoSleep  Destination   Age  VIP  RoomService  \\\n",
       "PassengerId                                                               \n",
       "0001_01               1          0            3  39.0    0          0.0   \n",
       "0002_01               0          0            3  24.0    0        109.0   \n",
       "0003_01               1          0            3  58.0    1         43.0   \n",
       "0003_02               1          0            3  33.0    0          0.0   \n",
       "0004_01               0          0            3  16.0    0        303.0   \n",
       "...                 ...        ...          ...   ...  ...          ...   \n",
       "9276_01               1          0            1  41.0    1          0.0   \n",
       "9278_01               0          1            2  18.0    0          0.0   \n",
       "9279_01               0          0            3  26.0    0          0.0   \n",
       "9280_01               1          0            1  32.0    0          0.0   \n",
       "9280_02               1          0            3  44.0    0        126.0   \n",
       "\n",
       "             FoodCourt  ShoppingMall     Spa  VRDeck  Transported  Deck   Num  \\\n",
       "PassengerId                                                                     \n",
       "0001_01            0.0           0.0     0.0     0.0            0     1     0   \n",
       "0002_01            9.0          25.0   549.0    44.0            1     5     0   \n",
       "0003_01         3576.0           0.0  6715.0    49.0            0     0     0   \n",
       "0003_02         1283.0         371.0  3329.0   193.0            0     0     0   \n",
       "0004_01           70.0         151.0   565.0     2.0            1     5     1   \n",
       "...                ...           ...     ...     ...          ...   ...   ...   \n",
       "9276_01         6819.0           0.0  1643.0    74.0            0     0  1872   \n",
       "9278_01            0.0           0.0     0.0     0.0            0     6   556   \n",
       "9279_01            0.0        1872.0     1.0     0.0            1     6   559   \n",
       "9280_01         1049.0           0.0   353.0  3235.0            0     4  1460   \n",
       "9280_02         4688.0           0.0     0.0    12.0            1     4  1460   \n",
       "\n",
       "             Side  Sum_spend  AgeGroup  \n",
       "PassengerId                             \n",
       "0001_01         0        0.0         0  \n",
       "0002_01         1      736.0         0  \n",
       "0003_01         1    10383.0         0  \n",
       "0003_02         1     5176.0         0  \n",
       "0004_01         1     1091.0         4  \n",
       "...           ...        ...       ...  \n",
       "9276_01         0     8536.0         0  \n",
       "9278_01         1        0.0         4  \n",
       "9279_01         1     1873.0         0  \n",
       "9280_01         1     4637.0         0  \n",
       "9280_02         1     4826.0         0  \n",
       "\n",
       "[8693 rows x 16 columns]"
      ]
     },
     "execution_count": 36,
     "metadata": {},
     "output_type": "execute_result"
    }
   ],
   "source": [
    "df_train['Transported']=df_train['Transported'].replace({True:1,False:0})\n",
    "df_train"
   ]
  },
  {
   "cell_type": "markdown",
   "id": "739ea406",
   "metadata": {
    "papermill": {
     "duration": 0.0246,
     "end_time": "2022-10-31T09:50:05.125890",
     "exception": false,
     "start_time": "2022-10-31T09:50:05.101290",
     "status": "completed"
    },
    "tags": []
   },
   "source": [
    "แบ่งชุดข้อมูลเป็นสองส่วนประกอบด้วยชุดข้อมูล X และ y โดยที่ชุดข้อมูล y เป็นคอลัมน์ transported"
   ]
  },
  {
   "cell_type": "code",
   "execution_count": 37,
   "id": "85b412e6",
   "metadata": {
    "execution": {
     "iopub.execute_input": "2022-10-31T09:50:05.177157Z",
     "iopub.status.busy": "2022-10-31T09:50:05.176706Z",
     "iopub.status.idle": "2022-10-31T09:50:05.184090Z",
     "shell.execute_reply": "2022-10-31T09:50:05.183013Z"
    },
    "papermill": {
     "duration": 0.036252,
     "end_time": "2022-10-31T09:50:05.186489",
     "exception": false,
     "start_time": "2022-10-31T09:50:05.150237",
     "status": "completed"
    },
    "tags": []
   },
   "outputs": [],
   "source": [
    "X=df_train.drop('Transported',axis=1)\n",
    "y = df_train['Transported']"
   ]
  },
  {
   "cell_type": "code",
   "execution_count": 38,
   "id": "877e31c0",
   "metadata": {
    "execution": {
     "iopub.execute_input": "2022-10-31T09:50:05.237868Z",
     "iopub.status.busy": "2022-10-31T09:50:05.237425Z",
     "iopub.status.idle": "2022-10-31T09:50:05.244650Z",
     "shell.execute_reply": "2022-10-31T09:50:05.243551Z"
    },
    "papermill": {
     "duration": 0.035825,
     "end_time": "2022-10-31T09:50:05.246809",
     "exception": false,
     "start_time": "2022-10-31T09:50:05.210984",
     "status": "completed"
    },
    "tags": []
   },
   "outputs": [
    {
     "data": {
      "text/plain": [
       "Index(['HomePlanet', 'CryoSleep', 'Destination', 'Age', 'VIP', 'RoomService',\n",
       "       'FoodCourt', 'ShoppingMall', 'Spa', 'VRDeck', 'Deck', 'Num', 'Side',\n",
       "       'Sum_spend', 'AgeGroup'],\n",
       "      dtype='object')"
      ]
     },
     "execution_count": 38,
     "metadata": {},
     "output_type": "execute_result"
    }
   ],
   "source": [
    "X.columns"
   ]
  },
  {
   "cell_type": "markdown",
   "id": "6c88019e",
   "metadata": {
    "papermill": {
     "duration": 0.023656,
     "end_time": "2022-10-31T09:50:05.294821",
     "exception": false,
     "start_time": "2022-10-31T09:50:05.271165",
     "status": "completed"
    },
    "tags": []
   },
   "source": [
    "แบ่งชุดข้อมูลออกเป็น X_train, X_val, y_train และ y_val"
   ]
  },
  {
   "cell_type": "code",
   "execution_count": 39,
   "id": "962bf289",
   "metadata": {
    "execution": {
     "iopub.execute_input": "2022-10-31T09:50:05.346226Z",
     "iopub.status.busy": "2022-10-31T09:50:05.345207Z",
     "iopub.status.idle": "2022-10-31T09:50:05.356122Z",
     "shell.execute_reply": "2022-10-31T09:50:05.354979Z"
    },
    "papermill": {
     "duration": 0.039773,
     "end_time": "2022-10-31T09:50:05.358724",
     "exception": false,
     "start_time": "2022-10-31T09:50:05.318951",
     "status": "completed"
    },
    "tags": []
   },
   "outputs": [],
   "source": [
    "X_train, X_val, y_train, y_val = train_test_split(X, y, test_size=0.2, random_state=0)"
   ]
  },
  {
   "cell_type": "markdown",
   "id": "3d70b131",
   "metadata": {
    "papermill": {
     "duration": 0.024137,
     "end_time": "2022-10-31T09:50:05.407101",
     "exception": false,
     "start_time": "2022-10-31T09:50:05.382964",
     "status": "completed"
    },
    "tags": []
   },
   "source": [
    "# **Model selection**"
   ]
  },
  {
   "cell_type": "code",
   "execution_count": 40,
   "id": "bbe93233",
   "metadata": {
    "execution": {
     "iopub.execute_input": "2022-10-31T09:50:05.460393Z",
     "iopub.status.busy": "2022-10-31T09:50:05.460026Z",
     "iopub.status.idle": "2022-10-31T09:50:05.468886Z",
     "shell.execute_reply": "2022-10-31T09:50:05.468119Z"
    },
    "papermill": {
     "duration": 0.038331,
     "end_time": "2022-10-31T09:50:05.471239",
     "exception": false,
     "start_time": "2022-10-31T09:50:05.432908",
     "status": "completed"
    },
    "tags": []
   },
   "outputs": [],
   "source": [
    "from catboost import CatBoostClassifier\n",
    "cat=CatBoostClassifier(iterations=1500,\n",
    "                         eval_metric='Accuracy',\n",
    "                        verbose=0)"
   ]
  },
  {
   "cell_type": "code",
   "execution_count": 41,
   "id": "3d45379e",
   "metadata": {
    "execution": {
     "iopub.execute_input": "2022-10-31T09:50:05.523174Z",
     "iopub.status.busy": "2022-10-31T09:50:05.522059Z",
     "iopub.status.idle": "2022-10-31T09:50:12.541337Z",
     "shell.execute_reply": "2022-10-31T09:50:12.540410Z"
    },
    "papermill": {
     "duration": 7.047797,
     "end_time": "2022-10-31T09:50:12.543758",
     "exception": false,
     "start_time": "2022-10-31T09:50:05.495961",
     "status": "completed"
    },
    "tags": []
   },
   "outputs": [
    {
     "data": {
      "text/plain": [
       "<catboost.core.CatBoostClassifier at 0x222fd294e80>"
      ]
     },
     "execution_count": 41,
     "metadata": {},
     "output_type": "execute_result"
    }
   ],
   "source": [
    "cat.fit(X_train,y_train)"
   ]
  },
  {
   "cell_type": "code",
   "execution_count": 42,
   "id": "ec7dbe8a",
   "metadata": {
    "execution": {
     "iopub.execute_input": "2022-10-31T09:50:12.596467Z",
     "iopub.status.busy": "2022-10-31T09:50:12.595779Z",
     "iopub.status.idle": "2022-10-31T09:50:12.617396Z",
     "shell.execute_reply": "2022-10-31T09:50:12.616224Z"
    },
    "papermill": {
     "duration": 0.051041,
     "end_time": "2022-10-31T09:50:12.620083",
     "exception": false,
     "start_time": "2022-10-31T09:50:12.569042",
     "status": "completed"
    },
    "tags": []
   },
   "outputs": [],
   "source": [
    "pred = cat.predict(X_train)\n",
    "pred_y = cat.predict(X_val)"
   ]
  },
  {
   "cell_type": "markdown",
   "id": "aec01201",
   "metadata": {
    "papermill": {
     "duration": 0.023859,
     "end_time": "2022-10-31T09:50:12.668659",
     "exception": false,
     "start_time": "2022-10-31T09:50:12.644800",
     "status": "completed"
    },
    "tags": []
   },
   "source": [
    "วัดผลประสิทธิภาพโมเดลด้วยค่า Accuracy"
   ]
  },
  {
   "cell_type": "code",
   "execution_count": 43,
   "id": "26697843",
   "metadata": {
    "execution": {
     "iopub.execute_input": "2022-10-31T09:50:12.719218Z",
     "iopub.status.busy": "2022-10-31T09:50:12.718786Z",
     "iopub.status.idle": "2022-10-31T09:50:12.727263Z",
     "shell.execute_reply": "2022-10-31T09:50:12.725996Z"
    },
    "papermill": {
     "duration": 0.036479,
     "end_time": "2022-10-31T09:50:12.729640",
     "exception": false,
     "start_time": "2022-10-31T09:50:12.693161",
     "status": "completed"
    },
    "tags": []
   },
   "outputs": [
    {
     "name": "stdout",
     "output_type": "stream",
     "text": [
      "0.8800690250215704\n",
      "0.8142610695802185\n"
     ]
    }
   ],
   "source": [
    "print(accuracy_score(y_train.values,pred))\n",
    "print(accuracy_score(y_val.values,pred_y))"
   ]
  },
  {
   "cell_type": "code",
   "execution_count": 44,
   "id": "5f9cdd86",
   "metadata": {
    "execution": {
     "iopub.execute_input": "2022-10-31T09:50:12.780572Z",
     "iopub.status.busy": "2022-10-31T09:50:12.780153Z",
     "iopub.status.idle": "2022-10-31T09:50:12.981250Z",
     "shell.execute_reply": "2022-10-31T09:50:12.980126Z"
    },
    "papermill": {
     "duration": 0.229766,
     "end_time": "2022-10-31T09:50:12.984057",
     "exception": false,
     "start_time": "2022-10-31T09:50:12.754291",
     "status": "completed"
    },
    "tags": []
   },
   "outputs": [],
   "source": [
    "from sklearn.ensemble import GradientBoostingClassifier\n",
    "gb=GradientBoostingClassifier(random_state=1,n_estimators=250,learning_rate=0.15,max_depth=3)"
   ]
  },
  {
   "cell_type": "code",
   "execution_count": 45,
   "id": "d94c2bab",
   "metadata": {
    "execution": {
     "iopub.execute_input": "2022-10-31T09:50:13.035649Z",
     "iopub.status.busy": "2022-10-31T09:50:13.034539Z",
     "iopub.status.idle": "2022-10-31T09:50:15.810391Z",
     "shell.execute_reply": "2022-10-31T09:50:15.809164Z"
    },
    "papermill": {
     "duration": 2.80403,
     "end_time": "2022-10-31T09:50:15.812835",
     "exception": false,
     "start_time": "2022-10-31T09:50:13.008805",
     "status": "completed"
    },
    "tags": []
   },
   "outputs": [
    {
     "data": {
      "text/html": [
       "<style>#sk-container-id-1 {color: black;background-color: white;}#sk-container-id-1 pre{padding: 0;}#sk-container-id-1 div.sk-toggleable {background-color: white;}#sk-container-id-1 label.sk-toggleable__label {cursor: pointer;display: block;width: 100%;margin-bottom: 0;padding: 0.3em;box-sizing: border-box;text-align: center;}#sk-container-id-1 label.sk-toggleable__label-arrow:before {content: \"▸\";float: left;margin-right: 0.25em;color: #696969;}#sk-container-id-1 label.sk-toggleable__label-arrow:hover:before {color: black;}#sk-container-id-1 div.sk-estimator:hover label.sk-toggleable__label-arrow:before {color: black;}#sk-container-id-1 div.sk-toggleable__content {max-height: 0;max-width: 0;overflow: hidden;text-align: left;background-color: #f0f8ff;}#sk-container-id-1 div.sk-toggleable__content pre {margin: 0.2em;color: black;border-radius: 0.25em;background-color: #f0f8ff;}#sk-container-id-1 input.sk-toggleable__control:checked~div.sk-toggleable__content {max-height: 200px;max-width: 100%;overflow: auto;}#sk-container-id-1 input.sk-toggleable__control:checked~label.sk-toggleable__label-arrow:before {content: \"▾\";}#sk-container-id-1 div.sk-estimator input.sk-toggleable__control:checked~label.sk-toggleable__label {background-color: #d4ebff;}#sk-container-id-1 div.sk-label input.sk-toggleable__control:checked~label.sk-toggleable__label {background-color: #d4ebff;}#sk-container-id-1 input.sk-hidden--visually {border: 0;clip: rect(1px 1px 1px 1px);clip: rect(1px, 1px, 1px, 1px);height: 1px;margin: -1px;overflow: hidden;padding: 0;position: absolute;width: 1px;}#sk-container-id-1 div.sk-estimator {font-family: monospace;background-color: #f0f8ff;border: 1px dotted black;border-radius: 0.25em;box-sizing: border-box;margin-bottom: 0.5em;}#sk-container-id-1 div.sk-estimator:hover {background-color: #d4ebff;}#sk-container-id-1 div.sk-parallel-item::after {content: \"\";width: 100%;border-bottom: 1px solid gray;flex-grow: 1;}#sk-container-id-1 div.sk-label:hover label.sk-toggleable__label {background-color: #d4ebff;}#sk-container-id-1 div.sk-serial::before {content: \"\";position: absolute;border-left: 1px solid gray;box-sizing: border-box;top: 0;bottom: 0;left: 50%;z-index: 0;}#sk-container-id-1 div.sk-serial {display: flex;flex-direction: column;align-items: center;background-color: white;padding-right: 0.2em;padding-left: 0.2em;position: relative;}#sk-container-id-1 div.sk-item {position: relative;z-index: 1;}#sk-container-id-1 div.sk-parallel {display: flex;align-items: stretch;justify-content: center;background-color: white;position: relative;}#sk-container-id-1 div.sk-item::before, #sk-container-id-1 div.sk-parallel-item::before {content: \"\";position: absolute;border-left: 1px solid gray;box-sizing: border-box;top: 0;bottom: 0;left: 50%;z-index: -1;}#sk-container-id-1 div.sk-parallel-item {display: flex;flex-direction: column;z-index: 1;position: relative;background-color: white;}#sk-container-id-1 div.sk-parallel-item:first-child::after {align-self: flex-end;width: 50%;}#sk-container-id-1 div.sk-parallel-item:last-child::after {align-self: flex-start;width: 50%;}#sk-container-id-1 div.sk-parallel-item:only-child::after {width: 0;}#sk-container-id-1 div.sk-dashed-wrapped {border: 1px dashed gray;margin: 0 0.4em 0.5em 0.4em;box-sizing: border-box;padding-bottom: 0.4em;background-color: white;}#sk-container-id-1 div.sk-label label {font-family: monospace;font-weight: bold;display: inline-block;line-height: 1.2em;}#sk-container-id-1 div.sk-label-container {text-align: center;}#sk-container-id-1 div.sk-container {/* jupyter's `normalize.less` sets `[hidden] { display: none; }` but bootstrap.min.css set `[hidden] { display: none !important; }` so we also need the `!important` here to be able to override the default hidden behavior on the sphinx rendered scikit-learn.org. See: https://github.com/scikit-learn/scikit-learn/issues/21755 */display: inline-block !important;position: relative;}#sk-container-id-1 div.sk-text-repr-fallback {display: none;}</style><div id=\"sk-container-id-1\" class=\"sk-top-container\"><div class=\"sk-text-repr-fallback\"><pre>GradientBoostingClassifier(learning_rate=0.15, n_estimators=250, random_state=1)</pre><b>In a Jupyter environment, please rerun this cell to show the HTML representation or trust the notebook. <br />On GitHub, the HTML representation is unable to render, please try loading this page with nbviewer.org.</b></div><div class=\"sk-container\" hidden><div class=\"sk-item\"><div class=\"sk-estimator sk-toggleable\"><input class=\"sk-toggleable__control sk-hidden--visually\" id=\"sk-estimator-id-1\" type=\"checkbox\" checked><label for=\"sk-estimator-id-1\" class=\"sk-toggleable__label sk-toggleable__label-arrow\">GradientBoostingClassifier</label><div class=\"sk-toggleable__content\"><pre>GradientBoostingClassifier(learning_rate=0.15, n_estimators=250, random_state=1)</pre></div></div></div></div></div>"
      ],
      "text/plain": [
       "GradientBoostingClassifier(learning_rate=0.15, n_estimators=250, random_state=1)"
      ]
     },
     "execution_count": 45,
     "metadata": {},
     "output_type": "execute_result"
    }
   ],
   "source": [
    "gb.fit(X_train,y_train)"
   ]
  },
  {
   "cell_type": "code",
   "execution_count": 46,
   "id": "dc6ffbe2",
   "metadata": {
    "execution": {
     "iopub.execute_input": "2022-10-31T09:50:15.865129Z",
     "iopub.status.busy": "2022-10-31T09:50:15.864627Z",
     "iopub.status.idle": "2022-10-31T09:50:15.903512Z",
     "shell.execute_reply": "2022-10-31T09:50:15.902462Z"
    },
    "papermill": {
     "duration": 0.06822,
     "end_time": "2022-10-31T09:50:15.906034",
     "exception": false,
     "start_time": "2022-10-31T09:50:15.837814",
     "status": "completed"
    },
    "tags": []
   },
   "outputs": [],
   "source": [
    "pred=gb.predict(X_train)\n",
    "pred_y=gb.predict(X_val)"
   ]
  },
  {
   "cell_type": "markdown",
   "id": "bf15c1d5",
   "metadata": {
    "papermill": {
     "duration": 0.024181,
     "end_time": "2022-10-31T09:50:15.954433",
     "exception": false,
     "start_time": "2022-10-31T09:50:15.930252",
     "status": "completed"
    },
    "tags": []
   },
   "source": [
    "วัดผลประสิทธิภาพโมเดลด้วยค่า Accuracy"
   ]
  },
  {
   "cell_type": "code",
   "execution_count": 47,
   "id": "089c8c09",
   "metadata": {
    "execution": {
     "iopub.execute_input": "2022-10-31T09:50:16.006418Z",
     "iopub.status.busy": "2022-10-31T09:50:16.006010Z",
     "iopub.status.idle": "2022-10-31T09:50:16.015222Z",
     "shell.execute_reply": "2022-10-31T09:50:16.013750Z"
    },
    "papermill": {
     "duration": 0.038085,
     "end_time": "2022-10-31T09:50:16.017448",
     "exception": false,
     "start_time": "2022-10-31T09:50:15.979363",
     "status": "completed"
    },
    "tags": []
   },
   "outputs": [
    {
     "name": "stdout",
     "output_type": "stream",
     "text": [
      "0.860368133448375\n",
      "0.8021851638872916\n"
     ]
    }
   ],
   "source": [
    "print(accuracy_score(y_train.values,pred))\n",
    "print(accuracy_score(y_val.values,pred_y))"
   ]
  },
  {
   "cell_type": "markdown",
   "id": "d74f8a9f",
   "metadata": {
    "papermill": {
     "duration": 0.024269,
     "end_time": "2022-10-31T09:50:16.066198",
     "exception": false,
     "start_time": "2022-10-31T09:50:16.041929",
     "status": "completed"
    },
    "tags": []
   },
   "source": [
    "เลือกใช้ Model Catboost Classifier"
   ]
  },
  {
   "cell_type": "code",
   "execution_count": 48,
   "id": "4a87f972",
   "metadata": {
    "execution": {
     "iopub.execute_input": "2022-10-31T09:50:16.117437Z",
     "iopub.status.busy": "2022-10-31T09:50:16.116385Z",
     "iopub.status.idle": "2022-10-31T09:50:16.122459Z",
     "shell.execute_reply": "2022-10-31T09:50:16.121518Z"
    },
    "papermill": {
     "duration": 0.034012,
     "end_time": "2022-10-31T09:50:16.124649",
     "exception": false,
     "start_time": "2022-10-31T09:50:16.090637",
     "status": "completed"
    },
    "tags": []
   },
   "outputs": [],
   "source": [
    "from sklearn.model_selection import GridSearchCV\n",
    "gcv=GridSearchCV(CatBoostClassifier(),param_grid={'iterations': range(200,2000,200), 'eval_metric': ['Accuracy'],'verbose':[0]},cv=3)"
   ]
  },
  {
   "cell_type": "code",
   "execution_count": 49,
   "id": "54b1271f",
   "metadata": {
    "execution": {
     "iopub.execute_input": "2022-10-31T09:50:16.175860Z",
     "iopub.status.busy": "2022-10-31T09:50:16.174960Z",
     "iopub.status.idle": "2022-10-31T09:51:59.370672Z",
     "shell.execute_reply": "2022-10-31T09:51:59.369542Z"
    },
    "papermill": {
     "duration": 103.248031,
     "end_time": "2022-10-31T09:51:59.397378",
     "exception": false,
     "start_time": "2022-10-31T09:50:16.149347",
     "status": "completed"
    },
    "tags": []
   },
   "outputs": [
    {
     "data": {
      "text/html": [
       "<style>#sk-container-id-2 {color: black;background-color: white;}#sk-container-id-2 pre{padding: 0;}#sk-container-id-2 div.sk-toggleable {background-color: white;}#sk-container-id-2 label.sk-toggleable__label {cursor: pointer;display: block;width: 100%;margin-bottom: 0;padding: 0.3em;box-sizing: border-box;text-align: center;}#sk-container-id-2 label.sk-toggleable__label-arrow:before {content: \"▸\";float: left;margin-right: 0.25em;color: #696969;}#sk-container-id-2 label.sk-toggleable__label-arrow:hover:before {color: black;}#sk-container-id-2 div.sk-estimator:hover label.sk-toggleable__label-arrow:before {color: black;}#sk-container-id-2 div.sk-toggleable__content {max-height: 0;max-width: 0;overflow: hidden;text-align: left;background-color: #f0f8ff;}#sk-container-id-2 div.sk-toggleable__content pre {margin: 0.2em;color: black;border-radius: 0.25em;background-color: #f0f8ff;}#sk-container-id-2 input.sk-toggleable__control:checked~div.sk-toggleable__content {max-height: 200px;max-width: 100%;overflow: auto;}#sk-container-id-2 input.sk-toggleable__control:checked~label.sk-toggleable__label-arrow:before {content: \"▾\";}#sk-container-id-2 div.sk-estimator input.sk-toggleable__control:checked~label.sk-toggleable__label {background-color: #d4ebff;}#sk-container-id-2 div.sk-label input.sk-toggleable__control:checked~label.sk-toggleable__label {background-color: #d4ebff;}#sk-container-id-2 input.sk-hidden--visually {border: 0;clip: rect(1px 1px 1px 1px);clip: rect(1px, 1px, 1px, 1px);height: 1px;margin: -1px;overflow: hidden;padding: 0;position: absolute;width: 1px;}#sk-container-id-2 div.sk-estimator {font-family: monospace;background-color: #f0f8ff;border: 1px dotted black;border-radius: 0.25em;box-sizing: border-box;margin-bottom: 0.5em;}#sk-container-id-2 div.sk-estimator:hover {background-color: #d4ebff;}#sk-container-id-2 div.sk-parallel-item::after {content: \"\";width: 100%;border-bottom: 1px solid gray;flex-grow: 1;}#sk-container-id-2 div.sk-label:hover label.sk-toggleable__label {background-color: #d4ebff;}#sk-container-id-2 div.sk-serial::before {content: \"\";position: absolute;border-left: 1px solid gray;box-sizing: border-box;top: 0;bottom: 0;left: 50%;z-index: 0;}#sk-container-id-2 div.sk-serial {display: flex;flex-direction: column;align-items: center;background-color: white;padding-right: 0.2em;padding-left: 0.2em;position: relative;}#sk-container-id-2 div.sk-item {position: relative;z-index: 1;}#sk-container-id-2 div.sk-parallel {display: flex;align-items: stretch;justify-content: center;background-color: white;position: relative;}#sk-container-id-2 div.sk-item::before, #sk-container-id-2 div.sk-parallel-item::before {content: \"\";position: absolute;border-left: 1px solid gray;box-sizing: border-box;top: 0;bottom: 0;left: 50%;z-index: -1;}#sk-container-id-2 div.sk-parallel-item {display: flex;flex-direction: column;z-index: 1;position: relative;background-color: white;}#sk-container-id-2 div.sk-parallel-item:first-child::after {align-self: flex-end;width: 50%;}#sk-container-id-2 div.sk-parallel-item:last-child::after {align-self: flex-start;width: 50%;}#sk-container-id-2 div.sk-parallel-item:only-child::after {width: 0;}#sk-container-id-2 div.sk-dashed-wrapped {border: 1px dashed gray;margin: 0 0.4em 0.5em 0.4em;box-sizing: border-box;padding-bottom: 0.4em;background-color: white;}#sk-container-id-2 div.sk-label label {font-family: monospace;font-weight: bold;display: inline-block;line-height: 1.2em;}#sk-container-id-2 div.sk-label-container {text-align: center;}#sk-container-id-2 div.sk-container {/* jupyter's `normalize.less` sets `[hidden] { display: none; }` but bootstrap.min.css set `[hidden] { display: none !important; }` so we also need the `!important` here to be able to override the default hidden behavior on the sphinx rendered scikit-learn.org. See: https://github.com/scikit-learn/scikit-learn/issues/21755 */display: inline-block !important;position: relative;}#sk-container-id-2 div.sk-text-repr-fallback {display: none;}</style><div id=\"sk-container-id-2\" class=\"sk-top-container\"><div class=\"sk-text-repr-fallback\"><pre>GridSearchCV(cv=3,\n",
       "             estimator=&lt;catboost.core.CatBoostClassifier object at 0x00000222FCA30DF0&gt;,\n",
       "             param_grid={&#x27;eval_metric&#x27;: [&#x27;Accuracy&#x27;],\n",
       "                         &#x27;iterations&#x27;: range(200, 2000, 200), &#x27;verbose&#x27;: [0]})</pre><b>In a Jupyter environment, please rerun this cell to show the HTML representation or trust the notebook. <br />On GitHub, the HTML representation is unable to render, please try loading this page with nbviewer.org.</b></div><div class=\"sk-container\" hidden><div class=\"sk-item sk-dashed-wrapped\"><div class=\"sk-label-container\"><div class=\"sk-label sk-toggleable\"><input class=\"sk-toggleable__control sk-hidden--visually\" id=\"sk-estimator-id-2\" type=\"checkbox\" ><label for=\"sk-estimator-id-2\" class=\"sk-toggleable__label sk-toggleable__label-arrow\">GridSearchCV</label><div class=\"sk-toggleable__content\"><pre>GridSearchCV(cv=3,\n",
       "             estimator=&lt;catboost.core.CatBoostClassifier object at 0x00000222FCA30DF0&gt;,\n",
       "             param_grid={&#x27;eval_metric&#x27;: [&#x27;Accuracy&#x27;],\n",
       "                         &#x27;iterations&#x27;: range(200, 2000, 200), &#x27;verbose&#x27;: [0]})</pre></div></div></div><div class=\"sk-parallel\"><div class=\"sk-parallel-item\"><div class=\"sk-item\"><div class=\"sk-label-container\"><div class=\"sk-label sk-toggleable\"><input class=\"sk-toggleable__control sk-hidden--visually\" id=\"sk-estimator-id-3\" type=\"checkbox\" ><label for=\"sk-estimator-id-3\" class=\"sk-toggleable__label sk-toggleable__label-arrow\">estimator: CatBoostClassifier</label><div class=\"sk-toggleable__content\"><pre>&lt;catboost.core.CatBoostClassifier object at 0x00000222FCA30DF0&gt;</pre></div></div></div><div class=\"sk-serial\"><div class=\"sk-item\"><div class=\"sk-estimator sk-toggleable\"><input class=\"sk-toggleable__control sk-hidden--visually\" id=\"sk-estimator-id-4\" type=\"checkbox\" ><label for=\"sk-estimator-id-4\" class=\"sk-toggleable__label sk-toggleable__label-arrow\">CatBoostClassifier</label><div class=\"sk-toggleable__content\"><pre>&lt;catboost.core.CatBoostClassifier object at 0x00000222FCA30DF0&gt;</pre></div></div></div></div></div></div></div></div></div></div>"
      ],
      "text/plain": [
       "GridSearchCV(cv=3,\n",
       "             estimator=<catboost.core.CatBoostClassifier object at 0x00000222FCA30DF0>,\n",
       "             param_grid={'eval_metric': ['Accuracy'],\n",
       "                         'iterations': range(200, 2000, 200), 'verbose': [0]})"
      ]
     },
     "execution_count": 49,
     "metadata": {},
     "output_type": "execute_result"
    }
   ],
   "source": [
    "gcv.fit(X_train,y_train)"
   ]
  },
  {
   "cell_type": "code",
   "execution_count": 50,
   "id": "85d5f588",
   "metadata": {
    "execution": {
     "iopub.execute_input": "2022-10-31T09:51:59.449151Z",
     "iopub.status.busy": "2022-10-31T09:51:59.448112Z",
     "iopub.status.idle": "2022-10-31T09:51:59.467151Z",
     "shell.execute_reply": "2022-10-31T09:51:59.466154Z"
    },
    "papermill": {
     "duration": 0.047624,
     "end_time": "2022-10-31T09:51:59.469704",
     "exception": false,
     "start_time": "2022-10-31T09:51:59.422080",
     "status": "completed"
    },
    "tags": []
   },
   "outputs": [],
   "source": [
    "pred=gcv.predict(X_train)\n",
    "pred_y=gcv.predict(X_val)"
   ]
  },
  {
   "cell_type": "markdown",
   "id": "3c0899de",
   "metadata": {
    "papermill": {
     "duration": 0.024287,
     "end_time": "2022-10-31T09:51:59.518574",
     "exception": false,
     "start_time": "2022-10-31T09:51:59.494287",
     "status": "completed"
    },
    "tags": []
   },
   "source": [
    "วัดผลประสิทธิภาพโมเดลด้วยค่า Accuracy"
   ]
  },
  {
   "cell_type": "code",
   "execution_count": 51,
   "id": "19c606a7",
   "metadata": {
    "execution": {
     "iopub.execute_input": "2022-10-31T09:51:59.570345Z",
     "iopub.status.busy": "2022-10-31T09:51:59.569922Z",
     "iopub.status.idle": "2022-10-31T09:51:59.578500Z",
     "shell.execute_reply": "2022-10-31T09:51:59.576788Z"
    },
    "papermill": {
     "duration": 0.037769,
     "end_time": "2022-10-31T09:51:59.581466",
     "exception": false,
     "start_time": "2022-10-31T09:51:59.543697",
     "status": "completed"
    },
    "tags": []
   },
   "outputs": [
    {
     "name": "stdout",
     "output_type": "stream",
     "text": [
      "0.8738855335058959\n",
      "0.8142610695802185\n"
     ]
    }
   ],
   "source": [
    "print(accuracy_score(y_train.values,pred))\n",
    "print(accuracy_score(y_val.values,pred_y))"
   ]
  },
  {
   "cell_type": "code",
   "execution_count": 52,
   "id": "34c62fc3",
   "metadata": {
    "execution": {
     "iopub.execute_input": "2022-10-31T09:51:59.634287Z",
     "iopub.status.busy": "2022-10-31T09:51:59.633465Z",
     "iopub.status.idle": "2022-10-31T09:53:53.452546Z",
     "shell.execute_reply": "2022-10-31T09:53:53.450238Z"
    },
    "papermill": {
     "duration": 113.871655,
     "end_time": "2022-10-31T09:53:53.478569",
     "exception": false,
     "start_time": "2022-10-31T09:51:59.606914",
     "status": "completed"
    },
    "tags": []
   },
   "outputs": [
    {
     "data": {
      "text/html": [
       "<style>#sk-container-id-3 {color: black;background-color: white;}#sk-container-id-3 pre{padding: 0;}#sk-container-id-3 div.sk-toggleable {background-color: white;}#sk-container-id-3 label.sk-toggleable__label {cursor: pointer;display: block;width: 100%;margin-bottom: 0;padding: 0.3em;box-sizing: border-box;text-align: center;}#sk-container-id-3 label.sk-toggleable__label-arrow:before {content: \"▸\";float: left;margin-right: 0.25em;color: #696969;}#sk-container-id-3 label.sk-toggleable__label-arrow:hover:before {color: black;}#sk-container-id-3 div.sk-estimator:hover label.sk-toggleable__label-arrow:before {color: black;}#sk-container-id-3 div.sk-toggleable__content {max-height: 0;max-width: 0;overflow: hidden;text-align: left;background-color: #f0f8ff;}#sk-container-id-3 div.sk-toggleable__content pre {margin: 0.2em;color: black;border-radius: 0.25em;background-color: #f0f8ff;}#sk-container-id-3 input.sk-toggleable__control:checked~div.sk-toggleable__content {max-height: 200px;max-width: 100%;overflow: auto;}#sk-container-id-3 input.sk-toggleable__control:checked~label.sk-toggleable__label-arrow:before {content: \"▾\";}#sk-container-id-3 div.sk-estimator input.sk-toggleable__control:checked~label.sk-toggleable__label {background-color: #d4ebff;}#sk-container-id-3 div.sk-label input.sk-toggleable__control:checked~label.sk-toggleable__label {background-color: #d4ebff;}#sk-container-id-3 input.sk-hidden--visually {border: 0;clip: rect(1px 1px 1px 1px);clip: rect(1px, 1px, 1px, 1px);height: 1px;margin: -1px;overflow: hidden;padding: 0;position: absolute;width: 1px;}#sk-container-id-3 div.sk-estimator {font-family: monospace;background-color: #f0f8ff;border: 1px dotted black;border-radius: 0.25em;box-sizing: border-box;margin-bottom: 0.5em;}#sk-container-id-3 div.sk-estimator:hover {background-color: #d4ebff;}#sk-container-id-3 div.sk-parallel-item::after {content: \"\";width: 100%;border-bottom: 1px solid gray;flex-grow: 1;}#sk-container-id-3 div.sk-label:hover label.sk-toggleable__label {background-color: #d4ebff;}#sk-container-id-3 div.sk-serial::before {content: \"\";position: absolute;border-left: 1px solid gray;box-sizing: border-box;top: 0;bottom: 0;left: 50%;z-index: 0;}#sk-container-id-3 div.sk-serial {display: flex;flex-direction: column;align-items: center;background-color: white;padding-right: 0.2em;padding-left: 0.2em;position: relative;}#sk-container-id-3 div.sk-item {position: relative;z-index: 1;}#sk-container-id-3 div.sk-parallel {display: flex;align-items: stretch;justify-content: center;background-color: white;position: relative;}#sk-container-id-3 div.sk-item::before, #sk-container-id-3 div.sk-parallel-item::before {content: \"\";position: absolute;border-left: 1px solid gray;box-sizing: border-box;top: 0;bottom: 0;left: 50%;z-index: -1;}#sk-container-id-3 div.sk-parallel-item {display: flex;flex-direction: column;z-index: 1;position: relative;background-color: white;}#sk-container-id-3 div.sk-parallel-item:first-child::after {align-self: flex-end;width: 50%;}#sk-container-id-3 div.sk-parallel-item:last-child::after {align-self: flex-start;width: 50%;}#sk-container-id-3 div.sk-parallel-item:only-child::after {width: 0;}#sk-container-id-3 div.sk-dashed-wrapped {border: 1px dashed gray;margin: 0 0.4em 0.5em 0.4em;box-sizing: border-box;padding-bottom: 0.4em;background-color: white;}#sk-container-id-3 div.sk-label label {font-family: monospace;font-weight: bold;display: inline-block;line-height: 1.2em;}#sk-container-id-3 div.sk-label-container {text-align: center;}#sk-container-id-3 div.sk-container {/* jupyter's `normalize.less` sets `[hidden] { display: none; }` but bootstrap.min.css set `[hidden] { display: none !important; }` so we also need the `!important` here to be able to override the default hidden behavior on the sphinx rendered scikit-learn.org. See: https://github.com/scikit-learn/scikit-learn/issues/21755 */display: inline-block !important;position: relative;}#sk-container-id-3 div.sk-text-repr-fallback {display: none;}</style><div id=\"sk-container-id-3\" class=\"sk-top-container\"><div class=\"sk-text-repr-fallback\"><pre>GridSearchCV(cv=3,\n",
       "             estimator=&lt;catboost.core.CatBoostClassifier object at 0x00000222FCA30DF0&gt;,\n",
       "             param_grid={&#x27;eval_metric&#x27;: [&#x27;Accuracy&#x27;],\n",
       "                         &#x27;iterations&#x27;: range(200, 2000, 200), &#x27;verbose&#x27;: [0]})</pre><b>In a Jupyter environment, please rerun this cell to show the HTML representation or trust the notebook. <br />On GitHub, the HTML representation is unable to render, please try loading this page with nbviewer.org.</b></div><div class=\"sk-container\" hidden><div class=\"sk-item sk-dashed-wrapped\"><div class=\"sk-label-container\"><div class=\"sk-label sk-toggleable\"><input class=\"sk-toggleable__control sk-hidden--visually\" id=\"sk-estimator-id-5\" type=\"checkbox\" ><label for=\"sk-estimator-id-5\" class=\"sk-toggleable__label sk-toggleable__label-arrow\">GridSearchCV</label><div class=\"sk-toggleable__content\"><pre>GridSearchCV(cv=3,\n",
       "             estimator=&lt;catboost.core.CatBoostClassifier object at 0x00000222FCA30DF0&gt;,\n",
       "             param_grid={&#x27;eval_metric&#x27;: [&#x27;Accuracy&#x27;],\n",
       "                         &#x27;iterations&#x27;: range(200, 2000, 200), &#x27;verbose&#x27;: [0]})</pre></div></div></div><div class=\"sk-parallel\"><div class=\"sk-parallel-item\"><div class=\"sk-item\"><div class=\"sk-label-container\"><div class=\"sk-label sk-toggleable\"><input class=\"sk-toggleable__control sk-hidden--visually\" id=\"sk-estimator-id-6\" type=\"checkbox\" ><label for=\"sk-estimator-id-6\" class=\"sk-toggleable__label sk-toggleable__label-arrow\">estimator: CatBoostClassifier</label><div class=\"sk-toggleable__content\"><pre>&lt;catboost.core.CatBoostClassifier object at 0x00000222FCA30DF0&gt;</pre></div></div></div><div class=\"sk-serial\"><div class=\"sk-item\"><div class=\"sk-estimator sk-toggleable\"><input class=\"sk-toggleable__control sk-hidden--visually\" id=\"sk-estimator-id-7\" type=\"checkbox\" ><label for=\"sk-estimator-id-7\" class=\"sk-toggleable__label sk-toggleable__label-arrow\">CatBoostClassifier</label><div class=\"sk-toggleable__content\"><pre>&lt;catboost.core.CatBoostClassifier object at 0x00000222FCA30DF0&gt;</pre></div></div></div></div></div></div></div></div></div></div>"
      ],
      "text/plain": [
       "GridSearchCV(cv=3,\n",
       "             estimator=<catboost.core.CatBoostClassifier object at 0x00000222FCA30DF0>,\n",
       "             param_grid={'eval_metric': ['Accuracy'],\n",
       "                         'iterations': range(200, 2000, 200), 'verbose': [0]})"
      ]
     },
     "execution_count": 52,
     "metadata": {},
     "output_type": "execute_result"
    }
   ],
   "source": [
    "gcv.fit(X,y)"
   ]
  },
  {
   "cell_type": "code",
   "execution_count": 53,
   "id": "0f61c8f9",
   "metadata": {
    "execution": {
     "iopub.execute_input": "2022-10-31T09:53:53.529980Z",
     "iopub.status.busy": "2022-10-31T09:53:53.529545Z",
     "iopub.status.idle": "2022-10-31T09:53:53.543524Z",
     "shell.execute_reply": "2022-10-31T09:53:53.542633Z"
    },
    "papermill": {
     "duration": 0.042309,
     "end_time": "2022-10-31T09:53:53.545840",
     "exception": false,
     "start_time": "2022-10-31T09:53:53.503531",
     "status": "completed"
    },
    "tags": []
   },
   "outputs": [],
   "source": [
    "y_pred = gcv.predict(df_test)"
   ]
  },
  {
   "cell_type": "markdown",
   "id": "479145ff",
   "metadata": {
    "papermill": {
     "duration": 0.024301,
     "end_time": "2022-10-31T09:53:53.594892",
     "exception": false,
     "start_time": "2022-10-31T09:53:53.570591",
     "status": "completed"
    },
    "tags": []
   },
   "source": [
    "# **Submission**"
   ]
  },
  {
   "cell_type": "code",
   "execution_count": 54,
   "id": "d86d6012",
   "metadata": {
    "execution": {
     "iopub.execute_input": "2022-10-31T09:53:53.646563Z",
     "iopub.status.busy": "2022-10-31T09:53:53.645598Z",
     "iopub.status.idle": "2022-10-31T09:53:53.656715Z",
     "shell.execute_reply": "2022-10-31T09:53:53.655788Z"
    },
    "papermill": {
     "duration": 0.038959,
     "end_time": "2022-10-31T09:53:53.658975",
     "exception": false,
     "start_time": "2022-10-31T09:53:53.620016",
     "status": "completed"
    },
    "tags": []
   },
   "outputs": [
    {
     "data": {
      "text/html": [
       "<div>\n",
       "<style scoped>\n",
       "    .dataframe tbody tr th:only-of-type {\n",
       "        vertical-align: middle;\n",
       "    }\n",
       "\n",
       "    .dataframe tbody tr th {\n",
       "        vertical-align: top;\n",
       "    }\n",
       "\n",
       "    .dataframe thead th {\n",
       "        text-align: right;\n",
       "    }\n",
       "</style>\n",
       "<table border=\"1\" class=\"dataframe\">\n",
       "  <thead>\n",
       "    <tr style=\"text-align: right;\">\n",
       "      <th></th>\n",
       "      <th>PassengerId</th>\n",
       "      <th>Transported</th>\n",
       "    </tr>\n",
       "  </thead>\n",
       "  <tbody>\n",
       "    <tr>\n",
       "      <th>0</th>\n",
       "      <td>0013_01</td>\n",
       "      <td>False</td>\n",
       "    </tr>\n",
       "    <tr>\n",
       "      <th>1</th>\n",
       "      <td>0018_01</td>\n",
       "      <td>False</td>\n",
       "    </tr>\n",
       "    <tr>\n",
       "      <th>2</th>\n",
       "      <td>0019_01</td>\n",
       "      <td>True</td>\n",
       "    </tr>\n",
       "    <tr>\n",
       "      <th>3</th>\n",
       "      <td>0021_01</td>\n",
       "      <td>True</td>\n",
       "    </tr>\n",
       "    <tr>\n",
       "      <th>4</th>\n",
       "      <td>0023_01</td>\n",
       "      <td>True</td>\n",
       "    </tr>\n",
       "  </tbody>\n",
       "</table>\n",
       "</div>"
      ],
      "text/plain": [
       "  PassengerId  Transported\n",
       "0     0013_01        False\n",
       "1     0018_01        False\n",
       "2     0019_01         True\n",
       "3     0021_01         True\n",
       "4     0023_01         True"
      ]
     },
     "execution_count": 54,
     "metadata": {},
     "output_type": "execute_result"
    }
   ],
   "source": [
    "sub=pd.DataFrame({'Transported':y_pred.astype(bool)},index=df_test.index)\n",
    "sub.reset_index(inplace=True)\n",
    "sub.head()"
   ]
  },
  {
   "cell_type": "code",
   "execution_count": 55,
   "id": "2ccda0b4",
   "metadata": {
    "execution": {
     "iopub.execute_input": "2022-10-31T09:53:53.709863Z",
     "iopub.status.busy": "2022-10-31T09:53:53.709463Z",
     "iopub.status.idle": "2022-10-31T09:53:53.722201Z",
     "shell.execute_reply": "2022-10-31T09:53:53.721361Z"
    },
    "papermill": {
     "duration": 0.040994,
     "end_time": "2022-10-31T09:53:53.724650",
     "exception": false,
     "start_time": "2022-10-31T09:53:53.683656",
     "status": "completed"
    },
    "tags": []
   },
   "outputs": [],
   "source": [
    "sub.to_csv('submission2.csv', index=False)"
   ]
  },
  {
   "cell_type": "code",
   "execution_count": null,
   "id": "d5dc4c2d",
   "metadata": {
    "papermill": {
     "duration": 0.025053,
     "end_time": "2022-10-31T09:53:53.775475",
     "exception": false,
     "start_time": "2022-10-31T09:53:53.750422",
     "status": "completed"
    },
    "tags": []
   },
   "outputs": [],
   "source": []
  }
 ],
 "metadata": {
  "kernelspec": {
   "display_name": "Python 3 (ipykernel)",
   "language": "python",
   "name": "python3"
  },
  "language_info": {
   "codemirror_mode": {
    "name": "ipython",
    "version": 3
   },
   "file_extension": ".py",
   "mimetype": "text/x-python",
   "name": "python",
   "nbconvert_exporter": "python",
   "pygments_lexer": "ipython3",
   "version": "3.9.12"
  },
  "papermill": {
   "default_parameters": {},
   "duration": 244.956091,
   "end_time": "2022-10-31T09:53:54.624291",
   "environment_variables": {},
   "exception": null,
   "input_path": "__notebook__.ipynb",
   "output_path": "__notebook__.ipynb",
   "parameters": {},
   "start_time": "2022-10-31T09:49:49.668200",
   "version": "2.3.4"
  }
 },
 "nbformat": 4,
 "nbformat_minor": 5
}
