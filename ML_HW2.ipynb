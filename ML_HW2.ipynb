{
  "cells": [
    {
      "cell_type": "markdown",
      "id": "99e028d4",
      "metadata": {
        "id": "99e028d4"
      },
      "source": [
        "Task 1 (20 points) For the Titanic challenge (https://www.kaggle.com/c/titanic,we need to guess whether the individuals from the test dataset had survived or not. "
      ]
    },
    {
      "cell_type": "code",
      "execution_count": null,
      "id": "7ed5ce67",
      "metadata": {
        "id": "7ed5ce67"
      },
      "outputs": [],
      "source": [
        "#Data analysis and wrangling\n",
        "import pandas as pd\n",
        "import numpy as np\n",
        "#Data Visualization\n",
        "import graphviz\n",
        "import seaborn as sns\n",
        "from sklearn import tree\n",
        "import matplotlib.pyplot as plt\n",
        "%matplotlib inline\n",
        "from sklearn.feature_selection import RFE\n",
        "from sklearn.feature_selection import chi2\n",
        "from sklearn.tree import DecisionTreeClassifier\n",
        "from sklearn.feature_selection import SelectKBest\n",
        "from sklearn.linear_model import LogisticRegression\n",
        "from sklearn.ensemble import RandomForestClassifier\n",
        "from sklearn.metrics import f1_score\n",
        "from sklearn.model_selection import cross_val_score\n",
        "from sklearn.model_selection import train_test_split\n",
        "\n",
        "from statsmodels.stats.outliers_influence import variance_inflation_factor"
      ]
    },
    {
      "cell_type": "markdown",
      "source": [],
      "metadata": {
        "id": "UtIlXw1wLIVz"
      },
      "id": "UtIlXw1wLIVz"
    },
    {
      "cell_type": "markdown",
      "id": "684fbbed",
      "metadata": {
        "id": "684fbbed"
      },
      "source": [
        "### 1. Preprocess your Titanic training data "
      ]
    },
    {
      "cell_type": "code",
      "execution_count": null,
      "id": "6a70a30d",
      "metadata": {
        "id": "6a70a30d"
      },
      "outputs": [],
      "source": [
        "# Load train and test datasets\n",
        "\n",
        "train_dataframe = pd.read_csv('/content/sample_data/titanic_dataset/train (1).csv')\n",
        "test_dataframe = pd.read_csv('/content/sample_data/titanic_dataset/test (1).csv')\n",
        "\n"
      ]
    },
    {
      "cell_type": "code",
      "source": [
        "# Print the number of coulums, their ids, the number of non-null elements, and the type for each feature in the training set\n",
        "print(train_dataframe.info())\n",
        "\n",
        "# Print some mathematical values associated with the numerical variables\n",
        "train_dataframe.describe()"
      ],
      "metadata": {
        "colab": {
          "base_uri": "https://localhost:8080/",
          "height": 647
        },
        "id": "SNwM7OE5MRA8",
        "outputId": "32cbfac4-dfac-44b0-9a88-b520c399c058"
      },
      "id": "SNwM7OE5MRA8",
      "execution_count": null,
      "outputs": [
        {
          "output_type": "stream",
          "name": "stdout",
          "text": [
            "<class 'pandas.core.frame.DataFrame'>\n",
            "RangeIndex: 891 entries, 0 to 890\n",
            "Data columns (total 12 columns):\n",
            " #   Column       Non-Null Count  Dtype  \n",
            "---  ------       --------------  -----  \n",
            " 0   PassengerId  891 non-null    int64  \n",
            " 1   Survived     891 non-null    int64  \n",
            " 2   Pclass       891 non-null    int64  \n",
            " 3   Name         891 non-null    object \n",
            " 4   Sex          891 non-null    object \n",
            " 5   Age          714 non-null    float64\n",
            " 6   SibSp        891 non-null    int64  \n",
            " 7   Parch        891 non-null    int64  \n",
            " 8   Ticket       891 non-null    object \n",
            " 9   Fare         891 non-null    float64\n",
            " 10  Cabin        204 non-null    object \n",
            " 11  Embarked     889 non-null    object \n",
            "dtypes: float64(2), int64(5), object(5)\n",
            "memory usage: 83.7+ KB\n",
            "None\n"
          ]
        },
        {
          "output_type": "execute_result",
          "data": {
            "text/plain": [
              "       PassengerId    Survived      Pclass         Age       SibSp  \\\n",
              "count   891.000000  891.000000  891.000000  714.000000  891.000000   \n",
              "mean    446.000000    0.383838    2.308642   29.699118    0.523008   \n",
              "std     257.353842    0.486592    0.836071   14.526497    1.102743   \n",
              "min       1.000000    0.000000    1.000000    0.420000    0.000000   \n",
              "25%     223.500000    0.000000    2.000000   20.125000    0.000000   \n",
              "50%     446.000000    0.000000    3.000000   28.000000    0.000000   \n",
              "75%     668.500000    1.000000    3.000000   38.000000    1.000000   \n",
              "max     891.000000    1.000000    3.000000   80.000000    8.000000   \n",
              "\n",
              "            Parch        Fare  \n",
              "count  891.000000  891.000000  \n",
              "mean     0.381594   32.204208  \n",
              "std      0.806057   49.693429  \n",
              "min      0.000000    0.000000  \n",
              "25%      0.000000    7.910400  \n",
              "50%      0.000000   14.454200  \n",
              "75%      0.000000   31.000000  \n",
              "max      6.000000  512.329200  "
            ],
            "text/html": [
              "\n",
              "  <div id=\"df-42fcc6c0-78e1-4492-af22-3d97851c8c18\">\n",
              "    <div class=\"colab-df-container\">\n",
              "      <div>\n",
              "<style scoped>\n",
              "    .dataframe tbody tr th:only-of-type {\n",
              "        vertical-align: middle;\n",
              "    }\n",
              "\n",
              "    .dataframe tbody tr th {\n",
              "        vertical-align: top;\n",
              "    }\n",
              "\n",
              "    .dataframe thead th {\n",
              "        text-align: right;\n",
              "    }\n",
              "</style>\n",
              "<table border=\"1\" class=\"dataframe\">\n",
              "  <thead>\n",
              "    <tr style=\"text-align: right;\">\n",
              "      <th></th>\n",
              "      <th>PassengerId</th>\n",
              "      <th>Survived</th>\n",
              "      <th>Pclass</th>\n",
              "      <th>Age</th>\n",
              "      <th>SibSp</th>\n",
              "      <th>Parch</th>\n",
              "      <th>Fare</th>\n",
              "    </tr>\n",
              "  </thead>\n",
              "  <tbody>\n",
              "    <tr>\n",
              "      <th>count</th>\n",
              "      <td>891.000000</td>\n",
              "      <td>891.000000</td>\n",
              "      <td>891.000000</td>\n",
              "      <td>714.000000</td>\n",
              "      <td>891.000000</td>\n",
              "      <td>891.000000</td>\n",
              "      <td>891.000000</td>\n",
              "    </tr>\n",
              "    <tr>\n",
              "      <th>mean</th>\n",
              "      <td>446.000000</td>\n",
              "      <td>0.383838</td>\n",
              "      <td>2.308642</td>\n",
              "      <td>29.699118</td>\n",
              "      <td>0.523008</td>\n",
              "      <td>0.381594</td>\n",
              "      <td>32.204208</td>\n",
              "    </tr>\n",
              "    <tr>\n",
              "      <th>std</th>\n",
              "      <td>257.353842</td>\n",
              "      <td>0.486592</td>\n",
              "      <td>0.836071</td>\n",
              "      <td>14.526497</td>\n",
              "      <td>1.102743</td>\n",
              "      <td>0.806057</td>\n",
              "      <td>49.693429</td>\n",
              "    </tr>\n",
              "    <tr>\n",
              "      <th>min</th>\n",
              "      <td>1.000000</td>\n",
              "      <td>0.000000</td>\n",
              "      <td>1.000000</td>\n",
              "      <td>0.420000</td>\n",
              "      <td>0.000000</td>\n",
              "      <td>0.000000</td>\n",
              "      <td>0.000000</td>\n",
              "    </tr>\n",
              "    <tr>\n",
              "      <th>25%</th>\n",
              "      <td>223.500000</td>\n",
              "      <td>0.000000</td>\n",
              "      <td>2.000000</td>\n",
              "      <td>20.125000</td>\n",
              "      <td>0.000000</td>\n",
              "      <td>0.000000</td>\n",
              "      <td>7.910400</td>\n",
              "    </tr>\n",
              "    <tr>\n",
              "      <th>50%</th>\n",
              "      <td>446.000000</td>\n",
              "      <td>0.000000</td>\n",
              "      <td>3.000000</td>\n",
              "      <td>28.000000</td>\n",
              "      <td>0.000000</td>\n",
              "      <td>0.000000</td>\n",
              "      <td>14.454200</td>\n",
              "    </tr>\n",
              "    <tr>\n",
              "      <th>75%</th>\n",
              "      <td>668.500000</td>\n",
              "      <td>1.000000</td>\n",
              "      <td>3.000000</td>\n",
              "      <td>38.000000</td>\n",
              "      <td>1.000000</td>\n",
              "      <td>0.000000</td>\n",
              "      <td>31.000000</td>\n",
              "    </tr>\n",
              "    <tr>\n",
              "      <th>max</th>\n",
              "      <td>891.000000</td>\n",
              "      <td>1.000000</td>\n",
              "      <td>3.000000</td>\n",
              "      <td>80.000000</td>\n",
              "      <td>8.000000</td>\n",
              "      <td>6.000000</td>\n",
              "      <td>512.329200</td>\n",
              "    </tr>\n",
              "  </tbody>\n",
              "</table>\n",
              "</div>\n",
              "      <button class=\"colab-df-convert\" onclick=\"convertToInteractive('df-42fcc6c0-78e1-4492-af22-3d97851c8c18')\"\n",
              "              title=\"Convert this dataframe to an interactive table.\"\n",
              "              style=\"display:none;\">\n",
              "        \n",
              "  <svg xmlns=\"http://www.w3.org/2000/svg\" height=\"24px\"viewBox=\"0 0 24 24\"\n",
              "       width=\"24px\">\n",
              "    <path d=\"M0 0h24v24H0V0z\" fill=\"none\"/>\n",
              "    <path d=\"M18.56 5.44l.94 2.06.94-2.06 2.06-.94-2.06-.94-.94-2.06-.94 2.06-2.06.94zm-11 1L8.5 8.5l.94-2.06 2.06-.94-2.06-.94L8.5 2.5l-.94 2.06-2.06.94zm10 10l.94 2.06.94-2.06 2.06-.94-2.06-.94-.94-2.06-.94 2.06-2.06.94z\"/><path d=\"M17.41 7.96l-1.37-1.37c-.4-.4-.92-.59-1.43-.59-.52 0-1.04.2-1.43.59L10.3 9.45l-7.72 7.72c-.78.78-.78 2.05 0 2.83L4 21.41c.39.39.9.59 1.41.59.51 0 1.02-.2 1.41-.59l7.78-7.78 2.81-2.81c.8-.78.8-2.07 0-2.86zM5.41 20L4 18.59l7.72-7.72 1.47 1.35L5.41 20z\"/>\n",
              "  </svg>\n",
              "      </button>\n",
              "      \n",
              "  <style>\n",
              "    .colab-df-container {\n",
              "      display:flex;\n",
              "      flex-wrap:wrap;\n",
              "      gap: 12px;\n",
              "    }\n",
              "\n",
              "    .colab-df-convert {\n",
              "      background-color: #E8F0FE;\n",
              "      border: none;\n",
              "      border-radius: 50%;\n",
              "      cursor: pointer;\n",
              "      display: none;\n",
              "      fill: #1967D2;\n",
              "      height: 32px;\n",
              "      padding: 0 0 0 0;\n",
              "      width: 32px;\n",
              "    }\n",
              "\n",
              "    .colab-df-convert:hover {\n",
              "      background-color: #E2EBFA;\n",
              "      box-shadow: 0px 1px 2px rgba(60, 64, 67, 0.3), 0px 1px 3px 1px rgba(60, 64, 67, 0.15);\n",
              "      fill: #174EA6;\n",
              "    }\n",
              "\n",
              "    [theme=dark] .colab-df-convert {\n",
              "      background-color: #3B4455;\n",
              "      fill: #D2E3FC;\n",
              "    }\n",
              "\n",
              "    [theme=dark] .colab-df-convert:hover {\n",
              "      background-color: #434B5C;\n",
              "      box-shadow: 0px 1px 3px 1px rgba(0, 0, 0, 0.15);\n",
              "      filter: drop-shadow(0px 1px 2px rgba(0, 0, 0, 0.3));\n",
              "      fill: #FFFFFF;\n",
              "    }\n",
              "  </style>\n",
              "\n",
              "      <script>\n",
              "        const buttonEl =\n",
              "          document.querySelector('#df-42fcc6c0-78e1-4492-af22-3d97851c8c18 button.colab-df-convert');\n",
              "        buttonEl.style.display =\n",
              "          google.colab.kernel.accessAllowed ? 'block' : 'none';\n",
              "\n",
              "        async function convertToInteractive(key) {\n",
              "          const element = document.querySelector('#df-42fcc6c0-78e1-4492-af22-3d97851c8c18');\n",
              "          const dataTable =\n",
              "            await google.colab.kernel.invokeFunction('convertToInteractive',\n",
              "                                                     [key], {});\n",
              "          if (!dataTable) return;\n",
              "\n",
              "          const docLinkHtml = 'Like what you see? Visit the ' +\n",
              "            '<a target=\"_blank\" href=https://colab.research.google.com/notebooks/data_table.ipynb>data table notebook</a>'\n",
              "            + ' to learn more about interactive tables.';\n",
              "          element.innerHTML = '';\n",
              "          dataTable['output_type'] = 'display_data';\n",
              "          await google.colab.output.renderOutput(dataTable, element);\n",
              "          const docLink = document.createElement('div');\n",
              "          docLink.innerHTML = docLinkHtml;\n",
              "          element.appendChild(docLink);\n",
              "        }\n",
              "      </script>\n",
              "    </div>\n",
              "  </div>\n",
              "  "
            ]
          },
          "metadata": {},
          "execution_count": 21
        }
      ]
    },
    {
      "cell_type": "code",
      "source": [
        "train_dataframe.head()"
      ],
      "metadata": {
        "colab": {
          "base_uri": "https://localhost:8080/",
          "height": 206
        },
        "id": "y5Pma1OySiiO",
        "outputId": "7365b6f4-531d-489c-b24b-de91e960a61d"
      },
      "id": "y5Pma1OySiiO",
      "execution_count": null,
      "outputs": [
        {
          "output_type": "execute_result",
          "data": {
            "text/plain": [
              "   PassengerId  Survived  Pclass  \\\n",
              "0            1         0       3   \n",
              "1            2         1       1   \n",
              "2            3         1       3   \n",
              "3            4         1       1   \n",
              "4            5         0       3   \n",
              "\n",
              "                                                Name     Sex   Age  SibSp  \\\n",
              "0                            Braund, Mr. Owen Harris    male  22.0      1   \n",
              "1  Cumings, Mrs. John Bradley (Florence Briggs Th...  female  38.0      1   \n",
              "2                             Heikkinen, Miss. Laina  female  26.0      0   \n",
              "3       Futrelle, Mrs. Jacques Heath (Lily May Peel)  female  35.0      1   \n",
              "4                           Allen, Mr. William Henry    male  35.0      0   \n",
              "\n",
              "   Parch            Ticket     Fare Cabin Embarked  \n",
              "0      0         A/5 21171   7.2500   NaN        S  \n",
              "1      0          PC 17599  71.2833   C85        C  \n",
              "2      0  STON/O2. 3101282   7.9250   NaN        S  \n",
              "3      0            113803  53.1000  C123        S  \n",
              "4      0            373450   8.0500   NaN        S  "
            ],
            "text/html": [
              "\n",
              "  <div id=\"df-ef02293d-433b-43c5-b402-bf5107a356e0\">\n",
              "    <div class=\"colab-df-container\">\n",
              "      <div>\n",
              "<style scoped>\n",
              "    .dataframe tbody tr th:only-of-type {\n",
              "        vertical-align: middle;\n",
              "    }\n",
              "\n",
              "    .dataframe tbody tr th {\n",
              "        vertical-align: top;\n",
              "    }\n",
              "\n",
              "    .dataframe thead th {\n",
              "        text-align: right;\n",
              "    }\n",
              "</style>\n",
              "<table border=\"1\" class=\"dataframe\">\n",
              "  <thead>\n",
              "    <tr style=\"text-align: right;\">\n",
              "      <th></th>\n",
              "      <th>PassengerId</th>\n",
              "      <th>Survived</th>\n",
              "      <th>Pclass</th>\n",
              "      <th>Name</th>\n",
              "      <th>Sex</th>\n",
              "      <th>Age</th>\n",
              "      <th>SibSp</th>\n",
              "      <th>Parch</th>\n",
              "      <th>Ticket</th>\n",
              "      <th>Fare</th>\n",
              "      <th>Cabin</th>\n",
              "      <th>Embarked</th>\n",
              "    </tr>\n",
              "  </thead>\n",
              "  <tbody>\n",
              "    <tr>\n",
              "      <th>0</th>\n",
              "      <td>1</td>\n",
              "      <td>0</td>\n",
              "      <td>3</td>\n",
              "      <td>Braund, Mr. Owen Harris</td>\n",
              "      <td>male</td>\n",
              "      <td>22.0</td>\n",
              "      <td>1</td>\n",
              "      <td>0</td>\n",
              "      <td>A/5 21171</td>\n",
              "      <td>7.2500</td>\n",
              "      <td>NaN</td>\n",
              "      <td>S</td>\n",
              "    </tr>\n",
              "    <tr>\n",
              "      <th>1</th>\n",
              "      <td>2</td>\n",
              "      <td>1</td>\n",
              "      <td>1</td>\n",
              "      <td>Cumings, Mrs. John Bradley (Florence Briggs Th...</td>\n",
              "      <td>female</td>\n",
              "      <td>38.0</td>\n",
              "      <td>1</td>\n",
              "      <td>0</td>\n",
              "      <td>PC 17599</td>\n",
              "      <td>71.2833</td>\n",
              "      <td>C85</td>\n",
              "      <td>C</td>\n",
              "    </tr>\n",
              "    <tr>\n",
              "      <th>2</th>\n",
              "      <td>3</td>\n",
              "      <td>1</td>\n",
              "      <td>3</td>\n",
              "      <td>Heikkinen, Miss. Laina</td>\n",
              "      <td>female</td>\n",
              "      <td>26.0</td>\n",
              "      <td>0</td>\n",
              "      <td>0</td>\n",
              "      <td>STON/O2. 3101282</td>\n",
              "      <td>7.9250</td>\n",
              "      <td>NaN</td>\n",
              "      <td>S</td>\n",
              "    </tr>\n",
              "    <tr>\n",
              "      <th>3</th>\n",
              "      <td>4</td>\n",
              "      <td>1</td>\n",
              "      <td>1</td>\n",
              "      <td>Futrelle, Mrs. Jacques Heath (Lily May Peel)</td>\n",
              "      <td>female</td>\n",
              "      <td>35.0</td>\n",
              "      <td>1</td>\n",
              "      <td>0</td>\n",
              "      <td>113803</td>\n",
              "      <td>53.1000</td>\n",
              "      <td>C123</td>\n",
              "      <td>S</td>\n",
              "    </tr>\n",
              "    <tr>\n",
              "      <th>4</th>\n",
              "      <td>5</td>\n",
              "      <td>0</td>\n",
              "      <td>3</td>\n",
              "      <td>Allen, Mr. William Henry</td>\n",
              "      <td>male</td>\n",
              "      <td>35.0</td>\n",
              "      <td>0</td>\n",
              "      <td>0</td>\n",
              "      <td>373450</td>\n",
              "      <td>8.0500</td>\n",
              "      <td>NaN</td>\n",
              "      <td>S</td>\n",
              "    </tr>\n",
              "  </tbody>\n",
              "</table>\n",
              "</div>\n",
              "      <button class=\"colab-df-convert\" onclick=\"convertToInteractive('df-ef02293d-433b-43c5-b402-bf5107a356e0')\"\n",
              "              title=\"Convert this dataframe to an interactive table.\"\n",
              "              style=\"display:none;\">\n",
              "        \n",
              "  <svg xmlns=\"http://www.w3.org/2000/svg\" height=\"24px\"viewBox=\"0 0 24 24\"\n",
              "       width=\"24px\">\n",
              "    <path d=\"M0 0h24v24H0V0z\" fill=\"none\"/>\n",
              "    <path d=\"M18.56 5.44l.94 2.06.94-2.06 2.06-.94-2.06-.94-.94-2.06-.94 2.06-2.06.94zm-11 1L8.5 8.5l.94-2.06 2.06-.94-2.06-.94L8.5 2.5l-.94 2.06-2.06.94zm10 10l.94 2.06.94-2.06 2.06-.94-2.06-.94-.94-2.06-.94 2.06-2.06.94z\"/><path d=\"M17.41 7.96l-1.37-1.37c-.4-.4-.92-.59-1.43-.59-.52 0-1.04.2-1.43.59L10.3 9.45l-7.72 7.72c-.78.78-.78 2.05 0 2.83L4 21.41c.39.39.9.59 1.41.59.51 0 1.02-.2 1.41-.59l7.78-7.78 2.81-2.81c.8-.78.8-2.07 0-2.86zM5.41 20L4 18.59l7.72-7.72 1.47 1.35L5.41 20z\"/>\n",
              "  </svg>\n",
              "      </button>\n",
              "      \n",
              "  <style>\n",
              "    .colab-df-container {\n",
              "      display:flex;\n",
              "      flex-wrap:wrap;\n",
              "      gap: 12px;\n",
              "    }\n",
              "\n",
              "    .colab-df-convert {\n",
              "      background-color: #E8F0FE;\n",
              "      border: none;\n",
              "      border-radius: 50%;\n",
              "      cursor: pointer;\n",
              "      display: none;\n",
              "      fill: #1967D2;\n",
              "      height: 32px;\n",
              "      padding: 0 0 0 0;\n",
              "      width: 32px;\n",
              "    }\n",
              "\n",
              "    .colab-df-convert:hover {\n",
              "      background-color: #E2EBFA;\n",
              "      box-shadow: 0px 1px 2px rgba(60, 64, 67, 0.3), 0px 1px 3px 1px rgba(60, 64, 67, 0.15);\n",
              "      fill: #174EA6;\n",
              "    }\n",
              "\n",
              "    [theme=dark] .colab-df-convert {\n",
              "      background-color: #3B4455;\n",
              "      fill: #D2E3FC;\n",
              "    }\n",
              "\n",
              "    [theme=dark] .colab-df-convert:hover {\n",
              "      background-color: #434B5C;\n",
              "      box-shadow: 0px 1px 3px 1px rgba(0, 0, 0, 0.15);\n",
              "      filter: drop-shadow(0px 1px 2px rgba(0, 0, 0, 0.3));\n",
              "      fill: #FFFFFF;\n",
              "    }\n",
              "  </style>\n",
              "\n",
              "      <script>\n",
              "        const buttonEl =\n",
              "          document.querySelector('#df-ef02293d-433b-43c5-b402-bf5107a356e0 button.colab-df-convert');\n",
              "        buttonEl.style.display =\n",
              "          google.colab.kernel.accessAllowed ? 'block' : 'none';\n",
              "\n",
              "        async function convertToInteractive(key) {\n",
              "          const element = document.querySelector('#df-ef02293d-433b-43c5-b402-bf5107a356e0');\n",
              "          const dataTable =\n",
              "            await google.colab.kernel.invokeFunction('convertToInteractive',\n",
              "                                                     [key], {});\n",
              "          if (!dataTable) return;\n",
              "\n",
              "          const docLinkHtml = 'Like what you see? Visit the ' +\n",
              "            '<a target=\"_blank\" href=https://colab.research.google.com/notebooks/data_table.ipynb>data table notebook</a>'\n",
              "            + ' to learn more about interactive tables.';\n",
              "          element.innerHTML = '';\n",
              "          dataTable['output_type'] = 'display_data';\n",
              "          await google.colab.output.renderOutput(dataTable, element);\n",
              "          const docLink = document.createElement('div');\n",
              "          docLink.innerHTML = docLinkHtml;\n",
              "          element.appendChild(docLink);\n",
              "        }\n",
              "      </script>\n",
              "    </div>\n",
              "  </div>\n",
              "  "
            ]
          },
          "metadata": {},
          "execution_count": 22
        }
      ]
    },
    {
      "cell_type": "code",
      "source": [
        "# Checking options for Pclass feature to determine how many splits it can have\n",
        "print (train_dataframe[\"Pclass\"].value_counts())\n",
        "\n",
        "# Checking options for SibSp feature to determine how many splits it can have\n",
        "print (train_dataframe[\"SibSp\"].value_counts())\n",
        "\n",
        "# Checking options for Parch feature to determine how many splits it can have\n",
        "print (train_dataframe[\"Parch\"].value_counts())\n",
        "\n",
        "# Checking options for Cabin feature to determine how many splits it can have\n",
        "print (train_dataframe[\"Cabin\"].value_counts())\n",
        "\n",
        "# Checking options for Embarked feature for filling in the null values afterwards in the training set\n",
        "print(train_dataframe[\"Embarked\"].value_counts())"
      ],
      "metadata": {
        "colab": {
          "base_uri": "https://localhost:8080/"
        },
        "id": "XLgwPjJ5S06h",
        "outputId": "3c369ceb-dc4f-4341-8aa7-4b7628f3cf01"
      },
      "id": "XLgwPjJ5S06h",
      "execution_count": null,
      "outputs": [
        {
          "output_type": "stream",
          "name": "stdout",
          "text": [
            "3    491\n",
            "1    216\n",
            "2    184\n",
            "Name: Pclass, dtype: int64\n",
            "0    608\n",
            "1    209\n",
            "2     28\n",
            "4     18\n",
            "3     16\n",
            "8      7\n",
            "5      5\n",
            "Name: SibSp, dtype: int64\n",
            "0    678\n",
            "1    118\n",
            "2     80\n",
            "5      5\n",
            "3      5\n",
            "4      4\n",
            "6      1\n",
            "Name: Parch, dtype: int64\n",
            "B96 B98        4\n",
            "G6             4\n",
            "C23 C25 C27    4\n",
            "C22 C26        3\n",
            "F33            3\n",
            "              ..\n",
            "E34            1\n",
            "C7             1\n",
            "C54            1\n",
            "E36            1\n",
            "C148           1\n",
            "Name: Cabin, Length: 147, dtype: int64\n",
            "S    644\n",
            "C    168\n",
            "Q     77\n",
            "Name: Embarked, dtype: int64\n"
          ]
        }
      ]
    },
    {
      "cell_type": "code",
      "source": [
        "#print the information on test data frame\n",
        "print(test_dataframe.info())"
      ],
      "metadata": {
        "colab": {
          "base_uri": "https://localhost:8080/"
        },
        "id": "2ew8nVAZTD3e",
        "outputId": "e19dcb64-c354-4343-cd1c-debb2aa2c579"
      },
      "id": "2ew8nVAZTD3e",
      "execution_count": null,
      "outputs": [
        {
          "output_type": "stream",
          "name": "stdout",
          "text": [
            "<class 'pandas.core.frame.DataFrame'>\n",
            "RangeIndex: 418 entries, 0 to 417\n",
            "Data columns (total 11 columns):\n",
            " #   Column       Non-Null Count  Dtype  \n",
            "---  ------       --------------  -----  \n",
            " 0   PassengerId  418 non-null    int64  \n",
            " 1   Pclass       418 non-null    int64  \n",
            " 2   Name         418 non-null    object \n",
            " 3   Sex          418 non-null    object \n",
            " 4   Age          332 non-null    float64\n",
            " 5   SibSp        418 non-null    int64  \n",
            " 6   Parch        418 non-null    int64  \n",
            " 7   Ticket       418 non-null    object \n",
            " 8   Fare         417 non-null    float64\n",
            " 9   Cabin        91 non-null     object \n",
            " 10  Embarked     418 non-null    object \n",
            "dtypes: float64(2), int64(4), object(5)\n",
            "memory usage: 36.0+ KB\n",
            "None\n"
          ]
        }
      ]
    },
    {
      "cell_type": "code",
      "source": [
        "# Seperate labels from data\n",
        "training_data_X = train_dataframe.drop(\"Survived\", axis='columns')\n",
        "training_data_Y = train_dataframe[\"Survived\"]\n",
        "\n",
        "# Check to make sure labels were seperated properly\n",
        "# print(training_data_X.info())\n",
        "# print(training_data_Y)\n",
        "\n",
        "# Handle the missing age feature values\n",
        "training_data_X[\"Age\"] = training_data_X[\"Age\"].fillna(training_data_X[\"Age\"].mean())\n",
        "test_dataframe[\"Age\"] = test_dataframe[\"Age\"].fillna(test_dataframe[\"Age\"].mean())\n",
        "\n",
        "# Cabin is ignored since it will be dropped due to the massive amount of missing data as well as having so many possible splits\n",
        "\n",
        "# Handle the sex feature value to be 0 or 1 for easier understanding\n",
        "training_data_X[\"Sex\"] = training_data_X[\"Sex\"].map({\"male\": 0, \"female\": 1})\n",
        "test_dataframe[\"Sex\"] = test_dataframe[\"Sex\"].map({\"male\": 0, \"female\": 1})\n",
        "\n",
        "# Handle the missing embarked feature values\n",
        "training_data_X[\"Embarked\"] = training_data_X[\"Embarked\"].fillna(training_data_X[\"Embarked\"][0])\n",
        "training_data_X[\"Embarked\"] = training_data_X[\"Embarked\"].map({\"S\": 0, \"C\": 1, \"Q\": 2})\n",
        "# Handle the missing fare feature value in test data\n",
        "test_dataframe = test_dataframe[\"Fare\"].fillna(test_dataframe[\"Fare\"].mean())"
      ],
      "metadata": {
        "id": "7G3kWvASUOcp"
      },
      "id": "7G3kWvASUOcp",
      "execution_count": null,
      "outputs": []
    },
    {
      "cell_type": "code",
      "source": [
        "# Dropping excluded features from training data\n",
        "training_data_X = training_data_X.drop([\"PassengerId\", \"Name\", \"Ticket\", \"Cabin\", \"Embarked\"], axis=\"columns\")\n",
        "\n",
        "# Checking features dropped properly\n",
        "print(training_data_X.info())"
      ],
      "metadata": {
        "colab": {
          "base_uri": "https://localhost:8080/"
        },
        "id": "BCEge5s1X13L",
        "outputId": "23a4e0ca-d134-42a5-8b67-7446ee3edcef"
      },
      "id": "BCEge5s1X13L",
      "execution_count": null,
      "outputs": [
        {
          "output_type": "stream",
          "name": "stdout",
          "text": [
            "<class 'pandas.core.frame.DataFrame'>\n",
            "RangeIndex: 891 entries, 0 to 890\n",
            "Data columns (total 6 columns):\n",
            " #   Column  Non-Null Count  Dtype  \n",
            "---  ------  --------------  -----  \n",
            " 0   Pclass  891 non-null    int64  \n",
            " 1   Sex     891 non-null    int64  \n",
            " 2   Age     891 non-null    float64\n",
            " 3   SibSp   891 non-null    int64  \n",
            " 4   Parch   891 non-null    int64  \n",
            " 5   Fare    891 non-null    float64\n",
            "dtypes: float64(2), int64(4)\n",
            "memory usage: 41.9 KB\n",
            "None\n"
          ]
        }
      ]
    },
    {
      "cell_type": "code",
      "source": [],
      "metadata": {
        "id": "WnZlfTXpcmiJ"
      },
      "id": "WnZlfTXpcmiJ",
      "execution_count": null,
      "outputs": []
    },
    {
      "cell_type": "markdown",
      "source": [
        "**2.CReate/Plot Decisison Tree Model**\n",
        "\n",
        "Using the sklearn library and the graphviz , I am going to create a decision tree classifier, fit it to the training data, and plot the resulting tree"
      ],
      "metadata": {
        "id": "-z0SO--WYBeF"
      },
      "id": "-z0SO--WYBeF"
    },
    {
      "cell_type": "code",
      "source": [
        "# Import sklearn.tree and graphviz\n",
        "from sklearn import tree\n",
        "import graphviz\n",
        "\n",
        "# Get list of feature names\n",
        "features_list = list(training_data_X.columns)\n",
        "\n",
        "# Set up parameters for DecisionTreeClassifier for easier tweeking\n",
        "dt_tree_params = {'criterion': 'gini', 'max_depth': 3, 'min_samples_leaf': 50, 'min_samples_split': 50}\n",
        "\n",
        "# Build the decision tree model\n",
        "dt_model = tree.DecisionTreeClassifier(**dt_tree_params)\n",
        "\n",
        "# Fit the decision tree model to the training data\n",
        "dt_model.fit(training_data_X, training_data_Y)\n",
        "\n",
        "# Visualize/Plot the graph of the decision tree using graphviz\n",
        "visualized_dt_tree = tree.export_graphviz(dt_model, out_file=None, filled=True, rounded=True, special_characters=True, feature_names = features_list)\n",
        "dt_graph = graphviz.Source(visualized_dt_tree)\n",
        "dt_graph"
      ],
      "metadata": {
        "colab": {
          "base_uri": "https://localhost:8080/",
          "height": 519
        },
        "id": "v6opl9-OYek8",
        "outputId": "aea17361-3c64-4957-d6cd-88ab9d0ec7f1"
      },
      "id": "v6opl9-OYek8",
      "execution_count": null,
      "outputs": [
        {
          "output_type": "execute_result",
          "data": {
            "text/plain": [
              "<graphviz.files.Source at 0x7fc654813e50>"
            ],
            "image/svg+xml": "<?xml version=\"1.0\" encoding=\"UTF-8\" standalone=\"no\"?>\n<!DOCTYPE svg PUBLIC \"-//W3C//DTD SVG 1.1//EN\"\n \"http://www.w3.org/Graphics/SVG/1.1/DTD/svg11.dtd\">\n<!-- Generated by graphviz version 2.40.1 (20161225.0304)\n -->\n<!-- Title: Tree Pages: 1 -->\n<svg width=\"1058pt\" height=\"373pt\"\n viewBox=\"0.00 0.00 1058.00 373.00\" xmlns=\"http://www.w3.org/2000/svg\" xmlns:xlink=\"http://www.w3.org/1999/xlink\">\n<g id=\"graph0\" class=\"graph\" transform=\"scale(1 1) rotate(0) translate(4 369)\">\n<title>Tree</title>\n<polygon fill=\"#ffffff\" stroke=\"transparent\" points=\"-4,4 -4,-369 1054,-369 1054,4 -4,4\"/>\n<!-- 0 -->\n<g id=\"node1\" class=\"node\">\n<title>0</title>\n<path fill=\"#f5cfb4\" stroke=\"#000000\" d=\"M579,-365C579,-365 471,-365 471,-365 465,-365 459,-359 459,-353 459,-353 459,-309 459,-309 459,-303 465,-297 471,-297 471,-297 579,-297 579,-297 585,-297 591,-303 591,-309 591,-309 591,-353 591,-353 591,-359 585,-365 579,-365\"/>\n<text text-anchor=\"start\" x=\"494.5\" y=\"-349.8\" font-family=\"Helvetica,sans-Serif\" font-size=\"14.00\" fill=\"#000000\">Sex ≤ 0.5</text>\n<text text-anchor=\"start\" x=\"487\" y=\"-334.8\" font-family=\"Helvetica,sans-Serif\" font-size=\"14.00\" fill=\"#000000\">gini = 0.473</text>\n<text text-anchor=\"start\" x=\"477\" y=\"-319.8\" font-family=\"Helvetica,sans-Serif\" font-size=\"14.00\" fill=\"#000000\">samples = 891</text>\n<text text-anchor=\"start\" x=\"467\" y=\"-304.8\" font-family=\"Helvetica,sans-Serif\" font-size=\"14.00\" fill=\"#000000\">value = [549, 342]</text>\n</g>\n<!-- 1 -->\n<g id=\"node2\" class=\"node\">\n<title>1</title>\n<path fill=\"#eb9e67\" stroke=\"#000000\" d=\"M449,-261C449,-261 341,-261 341,-261 335,-261 329,-255 329,-249 329,-249 329,-205 329,-205 329,-199 335,-193 341,-193 341,-193 449,-193 449,-193 455,-193 461,-199 461,-205 461,-205 461,-249 461,-249 461,-255 455,-261 449,-261\"/>\n<text text-anchor=\"start\" x=\"349.5\" y=\"-245.8\" font-family=\"Helvetica,sans-Serif\" font-size=\"14.00\" fill=\"#000000\">Fare ≤ 26.269</text>\n<text text-anchor=\"start\" x=\"357\" y=\"-230.8\" font-family=\"Helvetica,sans-Serif\" font-size=\"14.00\" fill=\"#000000\">gini = 0.306</text>\n<text text-anchor=\"start\" x=\"347\" y=\"-215.8\" font-family=\"Helvetica,sans-Serif\" font-size=\"14.00\" fill=\"#000000\">samples = 577</text>\n<text text-anchor=\"start\" x=\"337\" y=\"-200.8\" font-family=\"Helvetica,sans-Serif\" font-size=\"14.00\" fill=\"#000000\">value = [468, 109]</text>\n</g>\n<!-- 0&#45;&gt;1 -->\n<g id=\"edge1\" class=\"edge\">\n<title>0&#45;&gt;1</title>\n<path fill=\"none\" stroke=\"#000000\" d=\"M482.4331,-296.9465C470.6488,-287.519 457.7432,-277.1946 445.5519,-267.4415\"/>\n<polygon fill=\"#000000\" stroke=\"#000000\" points=\"447.6577,-264.6439 437.6625,-261.13 443.2848,-270.11 447.6577,-264.6439\"/>\n<text text-anchor=\"middle\" x=\"440.4233\" y=\"-282.2771\" font-family=\"Helvetica,sans-Serif\" font-size=\"14.00\" fill=\"#000000\">True</text>\n</g>\n<!-- 8 -->\n<g id=\"node9\" class=\"node\">\n<title>8</title>\n<path fill=\"#7ebfee\" stroke=\"#000000\" d=\"M711,-261C711,-261 611,-261 611,-261 605,-261 599,-255 599,-249 599,-249 599,-205 599,-205 599,-199 605,-193 611,-193 611,-193 711,-193 711,-193 717,-193 723,-199 723,-205 723,-205 723,-249 723,-249 723,-255 717,-261 711,-261\"/>\n<text text-anchor=\"start\" x=\"621.5\" y=\"-245.8\" font-family=\"Helvetica,sans-Serif\" font-size=\"14.00\" fill=\"#000000\">Pclass ≤ 2.5</text>\n<text text-anchor=\"start\" x=\"623\" y=\"-230.8\" font-family=\"Helvetica,sans-Serif\" font-size=\"14.00\" fill=\"#000000\">gini = 0.383</text>\n<text text-anchor=\"start\" x=\"613\" y=\"-215.8\" font-family=\"Helvetica,sans-Serif\" font-size=\"14.00\" fill=\"#000000\">samples = 314</text>\n<text text-anchor=\"start\" x=\"607\" y=\"-200.8\" font-family=\"Helvetica,sans-Serif\" font-size=\"14.00\" fill=\"#000000\">value = [81, 233]</text>\n</g>\n<!-- 0&#45;&gt;8 -->\n<g id=\"edge8\" class=\"edge\">\n<title>0&#45;&gt;8</title>\n<path fill=\"none\" stroke=\"#000000\" d=\"M569.5315,-296.9465C581.8597,-287.519 595.3609,-277.1946 608.115,-267.4415\"/>\n<polygon fill=\"#000000\" stroke=\"#000000\" points=\"610.551,-269.9848 616.3685,-261.13 606.2988,-264.4243 610.551,-269.9848\"/>\n<text text-anchor=\"middle\" x=\"613.0644\" y=\"-282.2107\" font-family=\"Helvetica,sans-Serif\" font-size=\"14.00\" fill=\"#000000\">False</text>\n</g>\n<!-- 2 -->\n<g id=\"node3\" class=\"node\">\n<title>2</title>\n<path fill=\"#e99457\" stroke=\"#000000\" d=\"M246,-157C246,-157 146,-157 146,-157 140,-157 134,-151 134,-145 134,-145 134,-101 134,-101 134,-95 140,-89 146,-89 146,-89 246,-89 246,-89 252,-89 258,-95 258,-101 258,-101 258,-145 258,-145 258,-151 252,-157 246,-157\"/>\n<text text-anchor=\"start\" x=\"156.5\" y=\"-141.8\" font-family=\"Helvetica,sans-Serif\" font-size=\"14.00\" fill=\"#000000\">Age ≤ 20.25</text>\n<text text-anchor=\"start\" x=\"158\" y=\"-126.8\" font-family=\"Helvetica,sans-Serif\" font-size=\"14.00\" fill=\"#000000\">gini = 0.226</text>\n<text text-anchor=\"start\" x=\"148\" y=\"-111.8\" font-family=\"Helvetica,sans-Serif\" font-size=\"14.00\" fill=\"#000000\">samples = 415</text>\n<text text-anchor=\"start\" x=\"142\" y=\"-96.8\" font-family=\"Helvetica,sans-Serif\" font-size=\"14.00\" fill=\"#000000\">value = [361, 54]</text>\n</g>\n<!-- 1&#45;&gt;2 -->\n<g id=\"edge2\" class=\"edge\">\n<title>1&#45;&gt;2</title>\n<path fill=\"none\" stroke=\"#000000\" d=\"M329.84,-192.9465C309.7955,-182.471 287.6318,-170.888 267.2037,-160.212\"/>\n<polygon fill=\"#000000\" stroke=\"#000000\" points=\"268.745,-157.0684 258.2612,-155.5385 265.5028,-163.2723 268.745,-157.0684\"/>\n</g>\n<!-- 5 -->\n<g id=\"node6\" class=\"node\">\n<title>5</title>\n<path fill=\"#f2c29f\" stroke=\"#000000\" d=\"M445,-157C445,-157 345,-157 345,-157 339,-157 333,-151 333,-145 333,-145 333,-101 333,-101 333,-95 339,-89 345,-89 345,-89 445,-89 445,-89 451,-89 457,-95 457,-101 457,-101 457,-145 457,-145 457,-151 451,-157 445,-157\"/>\n<text text-anchor=\"start\" x=\"355.5\" y=\"-141.8\" font-family=\"Helvetica,sans-Serif\" font-size=\"14.00\" fill=\"#000000\">Pclass ≤ 1.5</text>\n<text text-anchor=\"start\" x=\"357\" y=\"-126.8\" font-family=\"Helvetica,sans-Serif\" font-size=\"14.00\" fill=\"#000000\">gini = 0.448</text>\n<text text-anchor=\"start\" x=\"347\" y=\"-111.8\" font-family=\"Helvetica,sans-Serif\" font-size=\"14.00\" fill=\"#000000\">samples = 162</text>\n<text text-anchor=\"start\" x=\"341\" y=\"-96.8\" font-family=\"Helvetica,sans-Serif\" font-size=\"14.00\" fill=\"#000000\">value = [107, 55]</text>\n</g>\n<!-- 1&#45;&gt;5 -->\n<g id=\"edge5\" class=\"edge\">\n<title>1&#45;&gt;5</title>\n<path fill=\"none\" stroke=\"#000000\" d=\"M395,-192.9465C395,-184.776 395,-175.9318 395,-167.3697\"/>\n<polygon fill=\"#000000\" stroke=\"#000000\" points=\"398.5001,-167.13 395,-157.13 391.5001,-167.13 398.5001,-167.13\"/>\n</g>\n<!-- 3 -->\n<g id=\"node4\" class=\"node\">\n<title>3</title>\n<path fill=\"#efb388\" stroke=\"#000000\" d=\"M104,-53C104,-53 12,-53 12,-53 6,-53 0,-47 0,-41 0,-41 0,-12 0,-12 0,-6 6,0 12,0 12,0 104,0 104,0 110,0 116,-6 116,-12 116,-12 116,-41 116,-41 116,-47 110,-53 104,-53\"/>\n<text text-anchor=\"start\" x=\"20\" y=\"-37.8\" font-family=\"Helvetica,sans-Serif\" font-size=\"14.00\" fill=\"#000000\">gini = 0.408</text>\n<text text-anchor=\"start\" x=\"14\" y=\"-22.8\" font-family=\"Helvetica,sans-Serif\" font-size=\"14.00\" fill=\"#000000\">samples = 70</text>\n<text text-anchor=\"start\" x=\"8\" y=\"-7.8\" font-family=\"Helvetica,sans-Serif\" font-size=\"14.00\" fill=\"#000000\">value = [50, 20]</text>\n</g>\n<!-- 2&#45;&gt;3 -->\n<g id=\"edge3\" class=\"edge\">\n<title>2&#45;&gt;3</title>\n<path fill=\"none\" stroke=\"#000000\" d=\"M147.3464,-88.9777C133.4657,-79.2713 118.3786,-68.7213 104.6223,-59.1018\"/>\n<polygon fill=\"#000000\" stroke=\"#000000\" points=\"106.4526,-56.1109 96.2517,-53.2485 102.4411,-61.8475 106.4526,-56.1109\"/>\n</g>\n<!-- 4 -->\n<g id=\"node5\" class=\"node\">\n<title>4</title>\n<path fill=\"#e88f4f\" stroke=\"#000000\" d=\"M246,-53C246,-53 146,-53 146,-53 140,-53 134,-47 134,-41 134,-41 134,-12 134,-12 134,-6 140,0 146,0 146,0 246,0 246,0 252,0 258,-6 258,-12 258,-12 258,-41 258,-41 258,-47 252,-53 246,-53\"/>\n<text text-anchor=\"start\" x=\"158\" y=\"-37.8\" font-family=\"Helvetica,sans-Serif\" font-size=\"14.00\" fill=\"#000000\">gini = 0.178</text>\n<text text-anchor=\"start\" x=\"148\" y=\"-22.8\" font-family=\"Helvetica,sans-Serif\" font-size=\"14.00\" fill=\"#000000\">samples = 345</text>\n<text text-anchor=\"start\" x=\"142\" y=\"-7.8\" font-family=\"Helvetica,sans-Serif\" font-size=\"14.00\" fill=\"#000000\">value = [311, 34]</text>\n</g>\n<!-- 2&#45;&gt;4 -->\n<g id=\"edge4\" class=\"edge\">\n<title>2&#45;&gt;4</title>\n<path fill=\"none\" stroke=\"#000000\" d=\"M196,-88.9777C196,-80.7364 196,-71.887 196,-63.5153\"/>\n<polygon fill=\"#000000\" stroke=\"#000000\" points=\"199.5001,-63.2484 196,-53.2485 192.5001,-63.2485 199.5001,-63.2484\"/>\n</g>\n<!-- 6 -->\n<g id=\"node7\" class=\"node\">\n<title>6</title>\n<path fill=\"#f6d6be\" stroke=\"#000000\" d=\"M380,-53C380,-53 288,-53 288,-53 282,-53 276,-47 276,-41 276,-41 276,-12 276,-12 276,-6 282,0 288,0 288,0 380,0 380,0 386,0 392,-6 392,-12 392,-12 392,-41 392,-41 392,-47 386,-53 380,-53\"/>\n<text text-anchor=\"start\" x=\"296\" y=\"-37.8\" font-family=\"Helvetica,sans-Serif\" font-size=\"14.00\" fill=\"#000000\">gini = 0.481</text>\n<text text-anchor=\"start\" x=\"286\" y=\"-22.8\" font-family=\"Helvetica,sans-Serif\" font-size=\"14.00\" fill=\"#000000\">samples = 112</text>\n<text text-anchor=\"start\" x=\"284\" y=\"-7.8\" font-family=\"Helvetica,sans-Serif\" font-size=\"14.00\" fill=\"#000000\">value = [67, 45]</text>\n</g>\n<!-- 5&#45;&gt;6 -->\n<g id=\"edge6\" class=\"edge\">\n<title>5&#45;&gt;6</title>\n<path fill=\"none\" stroke=\"#000000\" d=\"M373.4937,-88.9777C367.9369,-80.187 361.9427,-70.7044 356.3441,-61.8477\"/>\n<polygon fill=\"#000000\" stroke=\"#000000\" points=\"359.2101,-59.8312 350.9084,-53.2485 353.2931,-63.5714 359.2101,-59.8312\"/>\n</g>\n<!-- 7 -->\n<g id=\"node8\" class=\"node\">\n<title>7</title>\n<path fill=\"#eca06a\" stroke=\"#000000\" d=\"M514,-53C514,-53 422,-53 422,-53 416,-53 410,-47 410,-41 410,-41 410,-12 410,-12 410,-6 416,0 422,0 422,0 514,0 514,0 520,0 526,-6 526,-12 526,-12 526,-41 526,-41 526,-47 520,-53 514,-53\"/>\n<text text-anchor=\"start\" x=\"434.5\" y=\"-37.8\" font-family=\"Helvetica,sans-Serif\" font-size=\"14.00\" fill=\"#000000\">gini = 0.32</text>\n<text text-anchor=\"start\" x=\"424\" y=\"-22.8\" font-family=\"Helvetica,sans-Serif\" font-size=\"14.00\" fill=\"#000000\">samples = 50</text>\n<text text-anchor=\"start\" x=\"418\" y=\"-7.8\" font-family=\"Helvetica,sans-Serif\" font-size=\"14.00\" fill=\"#000000\">value = [40, 10]</text>\n</g>\n<!-- 5&#45;&gt;7 -->\n<g id=\"edge7\" class=\"edge\">\n<title>5&#45;&gt;7</title>\n<path fill=\"none\" stroke=\"#000000\" d=\"M420.7371,-88.9777C427.5256,-80.0039 434.8596,-70.3089 441.6784,-61.295\"/>\n<polygon fill=\"#000000\" stroke=\"#000000\" points=\"444.5237,-63.3352 447.7654,-53.2485 438.941,-59.1121 444.5237,-63.3352\"/>\n</g>\n<!-- 9 -->\n<g id=\"node10\" class=\"node\">\n<title>9</title>\n<path fill=\"#44a2e6\" stroke=\"#000000\" d=\"M707,-157C707,-157 615,-157 615,-157 609,-157 603,-151 603,-145 603,-145 603,-101 603,-101 603,-95 609,-89 615,-89 615,-89 707,-89 707,-89 713,-89 719,-95 719,-101 719,-101 719,-145 719,-145 719,-151 713,-157 707,-157\"/>\n<text text-anchor=\"start\" x=\"615.5\" y=\"-141.8\" font-family=\"Helvetica,sans-Serif\" font-size=\"14.00\" fill=\"#000000\">Fare ≤ 28.856</text>\n<text text-anchor=\"start\" x=\"631.5\" y=\"-126.8\" font-family=\"Helvetica,sans-Serif\" font-size=\"14.00\" fill=\"#000000\">gini = 0.1</text>\n<text text-anchor=\"start\" x=\"613\" y=\"-111.8\" font-family=\"Helvetica,sans-Serif\" font-size=\"14.00\" fill=\"#000000\">samples = 170</text>\n<text text-anchor=\"start\" x=\"611\" y=\"-96.8\" font-family=\"Helvetica,sans-Serif\" font-size=\"14.00\" fill=\"#000000\">value = [9, 161]</text>\n</g>\n<!-- 8&#45;&gt;9 -->\n<g id=\"edge9\" class=\"edge\">\n<title>8&#45;&gt;9</title>\n<path fill=\"none\" stroke=\"#000000\" d=\"M661,-192.9465C661,-184.776 661,-175.9318 661,-167.3697\"/>\n<polygon fill=\"#000000\" stroke=\"#000000\" points=\"664.5001,-167.13 661,-157.13 657.5001,-167.13 664.5001,-167.13\"/>\n</g>\n<!-- 12 -->\n<g id=\"node13\" class=\"node\">\n<title>12</title>\n<path fill=\"#ffffff\" stroke=\"#000000\" d=\"M904,-157C904,-157 812,-157 812,-157 806,-157 800,-151 800,-145 800,-145 800,-101 800,-101 800,-95 806,-89 812,-89 812,-89 904,-89 904,-89 910,-89 916,-95 916,-101 916,-101 916,-145 916,-145 916,-151 910,-157 904,-157\"/>\n<text text-anchor=\"start\" x=\"817\" y=\"-141.8\" font-family=\"Helvetica,sans-Serif\" font-size=\"14.00\" fill=\"#000000\">Fare ≤ 8.094</text>\n<text text-anchor=\"start\" x=\"828.5\" y=\"-126.8\" font-family=\"Helvetica,sans-Serif\" font-size=\"14.00\" fill=\"#000000\">gini = 0.5</text>\n<text text-anchor=\"start\" x=\"810\" y=\"-111.8\" font-family=\"Helvetica,sans-Serif\" font-size=\"14.00\" fill=\"#000000\">samples = 144</text>\n<text text-anchor=\"start\" x=\"808\" y=\"-96.8\" font-family=\"Helvetica,sans-Serif\" font-size=\"14.00\" fill=\"#000000\">value = [72, 72]</text>\n</g>\n<!-- 8&#45;&gt;12 -->\n<g id=\"edge12\" class=\"edge\">\n<title>8&#45;&gt;12</title>\n<path fill=\"none\" stroke=\"#000000\" d=\"M723.0616,-194.2365C744.6709,-182.8286 769.0039,-169.9827 790.9958,-158.3728\"/>\n<polygon fill=\"#000000\" stroke=\"#000000\" points=\"792.73,-161.4151 799.9393,-153.6513 789.4619,-155.2248 792.73,-161.4151\"/>\n</g>\n<!-- 10 -->\n<g id=\"node11\" class=\"node\">\n<title>10</title>\n<path fill=\"#4fa8e8\" stroke=\"#000000\" d=\"M639.5,-53C639.5,-53 556.5,-53 556.5,-53 550.5,-53 544.5,-47 544.5,-41 544.5,-41 544.5,-12 544.5,-12 544.5,-6 550.5,0 556.5,0 556.5,0 639.5,0 639.5,0 645.5,0 651.5,-6 651.5,-12 651.5,-12 651.5,-41 651.5,-41 651.5,-47 645.5,-53 639.5,-53\"/>\n<text text-anchor=\"start\" x=\"564.5\" y=\"-37.8\" font-family=\"Helvetica,sans-Serif\" font-size=\"14.00\" fill=\"#000000\">gini = 0.18</text>\n<text text-anchor=\"start\" x=\"554\" y=\"-22.8\" font-family=\"Helvetica,sans-Serif\" font-size=\"14.00\" fill=\"#000000\">samples = 70</text>\n<text text-anchor=\"start\" x=\"552.5\" y=\"-7.8\" font-family=\"Helvetica,sans-Serif\" font-size=\"14.00\" fill=\"#000000\">value = [7, 63]</text>\n</g>\n<!-- 9&#45;&gt;10 -->\n<g id=\"edge10\" class=\"edge\">\n<title>9&#45;&gt;10</title>\n<path fill=\"none\" stroke=\"#000000\" d=\"M638.7886,-88.9777C633.0496,-80.187 626.8588,-70.7044 621.0767,-61.8477\"/>\n<polygon fill=\"#000000\" stroke=\"#000000\" points=\"623.8602,-59.7087 615.4627,-53.2485 617.9987,-63.5354 623.8602,-59.7087\"/>\n</g>\n<!-- 11 -->\n<g id=\"node12\" class=\"node\">\n<title>11</title>\n<path fill=\"#3d9fe6\" stroke=\"#000000\" d=\"M770,-53C770,-53 682,-53 682,-53 676,-53 670,-47 670,-41 670,-41 670,-12 670,-12 670,-6 676,0 682,0 682,0 770,0 770,0 776,0 782,-6 782,-12 782,-12 782,-41 782,-41 782,-47 776,-53 770,-53\"/>\n<text text-anchor=\"start\" x=\"688\" y=\"-37.8\" font-family=\"Helvetica,sans-Serif\" font-size=\"14.00\" fill=\"#000000\">gini = 0.039</text>\n<text text-anchor=\"start\" x=\"678\" y=\"-22.8\" font-family=\"Helvetica,sans-Serif\" font-size=\"14.00\" fill=\"#000000\">samples = 100</text>\n<text text-anchor=\"start\" x=\"680.5\" y=\"-7.8\" font-family=\"Helvetica,sans-Serif\" font-size=\"14.00\" fill=\"#000000\">value = [2, 98]</text>\n</g>\n<!-- 9&#45;&gt;11 -->\n<g id=\"edge11\" class=\"edge\">\n<title>9&#45;&gt;11</title>\n<path fill=\"none\" stroke=\"#000000\" d=\"M683.9166,-88.9777C689.8994,-80.0954 696.3582,-70.5067 702.377,-61.5711\"/>\n<polygon fill=\"#000000\" stroke=\"#000000\" points=\"705.2991,-63.4978 707.9829,-53.2485 699.4933,-59.5871 705.2991,-63.4978\"/>\n</g>\n<!-- 13 -->\n<g id=\"node14\" class=\"node\">\n<title>13</title>\n<path fill=\"#9ccef2\" stroke=\"#000000\" d=\"M904,-53C904,-53 812,-53 812,-53 806,-53 800,-47 800,-41 800,-41 800,-12 800,-12 800,-6 806,0 812,0 812,0 904,0 904,0 910,0 916,-6 916,-12 916,-12 916,-41 916,-41 916,-47 910,-53 904,-53\"/>\n<text text-anchor=\"start\" x=\"820\" y=\"-37.8\" font-family=\"Helvetica,sans-Serif\" font-size=\"14.00\" fill=\"#000000\">gini = 0.444</text>\n<text text-anchor=\"start\" x=\"814\" y=\"-22.8\" font-family=\"Helvetica,sans-Serif\" font-size=\"14.00\" fill=\"#000000\">samples = 51</text>\n<text text-anchor=\"start\" x=\"808\" y=\"-7.8\" font-family=\"Helvetica,sans-Serif\" font-size=\"14.00\" fill=\"#000000\">value = [17, 34]</text>\n</g>\n<!-- 12&#45;&gt;13 -->\n<g id=\"edge13\" class=\"edge\">\n<title>12&#45;&gt;13</title>\n<path fill=\"none\" stroke=\"#000000\" d=\"M858,-88.9777C858,-80.7364 858,-71.887 858,-63.5153\"/>\n<polygon fill=\"#000000\" stroke=\"#000000\" points=\"861.5001,-63.2484 858,-53.2485 854.5001,-63.2485 861.5001,-63.2484\"/>\n</g>\n<!-- 14 -->\n<g id=\"node15\" class=\"node\">\n<title>14</title>\n<path fill=\"#f7d8c2\" stroke=\"#000000\" d=\"M1038,-53C1038,-53 946,-53 946,-53 940,-53 934,-47 934,-41 934,-41 934,-12 934,-12 934,-6 940,0 946,0 946,0 1038,0 1038,0 1044,0 1050,-6 1050,-12 1050,-12 1050,-41 1050,-41 1050,-47 1044,-53 1038,-53\"/>\n<text text-anchor=\"start\" x=\"954\" y=\"-37.8\" font-family=\"Helvetica,sans-Serif\" font-size=\"14.00\" fill=\"#000000\">gini = 0.483</text>\n<text text-anchor=\"start\" x=\"948\" y=\"-22.8\" font-family=\"Helvetica,sans-Serif\" font-size=\"14.00\" fill=\"#000000\">samples = 93</text>\n<text text-anchor=\"start\" x=\"942\" y=\"-7.8\" font-family=\"Helvetica,sans-Serif\" font-size=\"14.00\" fill=\"#000000\">value = [55, 38]</text>\n</g>\n<!-- 12&#45;&gt;14 -->\n<g id=\"edge14\" class=\"edge\">\n<title>12&#45;&gt;14</title>\n<path fill=\"none\" stroke=\"#000000\" d=\"M905.2434,-88.9777C918.7217,-79.2713 933.3715,-68.7213 946.7291,-59.1018\"/>\n<polygon fill=\"#000000\" stroke=\"#000000\" points=\"948.7876,-61.9325 954.857,-53.2485 944.6969,-56.2522 948.7876,-61.9325\"/>\n</g>\n</g>\n</svg>\n"
          },
          "metadata": {},
          "execution_count": 27
        }
      ]
    },
    {
      "cell_type": "markdown",
      "source": [
        "**Five fold cross validation for decision tree**"
      ],
      "metadata": {
        "id": "pDZEK9G4fRRq"
      },
      "id": "pDZEK9G4fRRq"
    },
    {
      "cell_type": "code",
      "source": [
        "#Import cross_val_score from sklearn to perfrom five fold cross validation\n",
        "from sklearn.model_selection import cross_val_score\n",
        "\n",
        "five_fold_cross_dt = cross_val_score(dt_model, training_data_X, training_data_Y, cv=5)\n",
        "print(\"Five Fold Cross: \", five_fold_cross_dt)\n",
        "print(\"Average of Five Fold Cross: \", np.average(five_fold_cross_dt))\n",
        "\n",
        "dt_important_features = dt_model.feature_importances_\n",
        "plt.bar(features_list, dt_important_features)\n",
        "plt.title(\"Feature Importance: Decision Tree\")\n",
        "plt.show()"
      ],
      "metadata": {
        "colab": {
          "base_uri": "https://localhost:8080/",
          "height": 316
        },
        "id": "b20irkcHZHhR",
        "outputId": "783ea771-6d1c-498d-f6cb-dd3a10489429"
      },
      "id": "b20irkcHZHhR",
      "execution_count": null,
      "outputs": [
        {
          "output_type": "stream",
          "name": "stdout",
          "text": [
            "Five Fold Cross:  [0.82681564 0.78651685 0.79775281 0.79775281 0.82022472]\n",
            "Average of Five Fold Cross:  0.8058125666938671\n"
          ]
        },
        {
          "output_type": "display_data",
          "data": {
            "text/plain": [
              "<Figure size 432x288 with 1 Axes>"
            ],
            "image/png": "[encoded data removed]"
          },
          "metadata": {
            "needs_background": "light"
          }
        }
      ]
    },
    {
      "cell_type": "markdown",
      "source": [
        "**4.Create/plot Random Forest Model**"
      ],
      "metadata": {
        "id": "WVbZW5lQZhlr"
      },
      "id": "WVbZW5lQZhlr"
    },
    {
      "cell_type": "code",
      "source": [
        "# Import_RandomForestClassifier_from_sklearn\n",
        "from sklearn.ensemble import RandomForestClassifier\n",
        "\n",
        "# Set up parameters for RandomForestClassifier for easier tweeking\n",
        "rf_tree_params = {'criterion': 'gini', 'max_depth': 5, 'min_samples_leaf': 20, 'min_samples_split': 20, 'n_estimators': 10}\n",
        "\n",
        "# Build_Random_Forest_Model\n",
        "rf_model = RandomForestClassifier(**rf_tree_params)\n",
        "\n",
        "# Fit Random Forest Model to training data\n",
        "rf_model.fit(training_data_X, training_data_Y)\n",
        "\n",
        "# Get first estimator from random forest for plot\n",
        "estimator = rf_model.estimators_[0]\n",
        "\n",
        "# Visualize/Plot the graph of the random forest using graphviz\n",
        "visualized_rf_tree = tree.export_graphviz(estimator, out_file=None, filled=True, rounded=True, special_characters=True, feature_names = features_list)\n",
        "rf_graph = graphviz.Source(visualized_rf_tree)\n",
        "rf_graph"
      ],
      "metadata": {
        "colab": {
          "base_uri": "https://localhost:8080/",
          "height": 816
        },
        "id": "bk6xAIiTZsCO",
        "outputId": "7a50927f-bc21-41b5-b7f0-a0759a7b5612"
      },
      "id": "bk6xAIiTZsCO",
      "execution_count": null,
      "outputs": [
        {
          "output_type": "execute_result",
          "data": {
            "text/plain": [
              "<graphviz.files.Source at 0x7fc65422a0d0>"
            ],
            "image/svg+xml": "<?xml version=\"1.0\" encoding=\"UTF-8\" standalone=\"no\"?>\n<!DOCTYPE svg PUBLIC \"-//W3C//DTD SVG 1.1//EN\"\n \"http://www.w3.org/Graphics/SVG/1.1/DTD/svg11.dtd\">\n<!-- Generated by graphviz version 2.40.1 (20161225.0304)\n -->\n<!-- Title: Tree Pages: 1 -->\n<svg width=\"1319pt\" height=\"581pt\"\n viewBox=\"0.00 0.00 1318.50 581.00\" xmlns=\"http://www.w3.org/2000/svg\" xmlns:xlink=\"http://www.w3.org/1999/xlink\">\n<g id=\"graph0\" class=\"graph\" transform=\"scale(1 1) rotate(0) translate(4 577)\">\n<title>Tree</title>\n<polygon fill=\"#ffffff\" stroke=\"transparent\" points=\"-4,4 -4,-577 1314.5,-577 1314.5,4 -4,4\"/>\n<!-- 0 -->\n<g id=\"node1\" class=\"node\">\n<title>0</title>\n<path fill=\"#f4caac\" stroke=\"#000000\" d=\"M904.5,-573C904.5,-573 796.5,-573 796.5,-573 790.5,-573 784.5,-567 784.5,-561 784.5,-561 784.5,-517 784.5,-517 784.5,-511 790.5,-505 796.5,-505 796.5,-505 904.5,-505 904.5,-505 910.5,-505 916.5,-511 916.5,-517 916.5,-517 916.5,-561 916.5,-561 916.5,-567 910.5,-573 904.5,-573\"/>\n<text text-anchor=\"start\" x=\"820\" y=\"-557.8\" font-family=\"Helvetica,sans-Serif\" font-size=\"14.00\" fill=\"#000000\">Sex ≤ 0.5</text>\n<text text-anchor=\"start\" x=\"812.5\" y=\"-542.8\" font-family=\"Helvetica,sans-Serif\" font-size=\"14.00\" fill=\"#000000\">gini = 0.465</text>\n<text text-anchor=\"start\" x=\"802.5\" y=\"-527.8\" font-family=\"Helvetica,sans-Serif\" font-size=\"14.00\" fill=\"#000000\">samples = 552</text>\n<text text-anchor=\"start\" x=\"792.5\" y=\"-512.8\" font-family=\"Helvetica,sans-Serif\" font-size=\"14.00\" fill=\"#000000\">value = [564, 327]</text>\n</g>\n<!-- 1 -->\n<g id=\"node2\" class=\"node\">\n<title>1</title>\n<path fill=\"#ea9a60\" stroke=\"#000000\" d=\"M705.5,-469C705.5,-469 605.5,-469 605.5,-469 599.5,-469 593.5,-463 593.5,-457 593.5,-457 593.5,-413 593.5,-413 593.5,-407 599.5,-401 605.5,-401 605.5,-401 705.5,-401 705.5,-401 711.5,-401 717.5,-407 717.5,-413 717.5,-413 717.5,-457 717.5,-457 717.5,-463 711.5,-469 705.5,-469\"/>\n<text text-anchor=\"start\" x=\"616\" y=\"-453.8\" font-family=\"Helvetica,sans-Serif\" font-size=\"14.00\" fill=\"#000000\">Pclass ≤ 2.5</text>\n<text text-anchor=\"start\" x=\"617.5\" y=\"-438.8\" font-family=\"Helvetica,sans-Serif\" font-size=\"14.00\" fill=\"#000000\">gini = 0.273</text>\n<text text-anchor=\"start\" x=\"607.5\" y=\"-423.8\" font-family=\"Helvetica,sans-Serif\" font-size=\"14.00\" fill=\"#000000\">samples = 352</text>\n<text text-anchor=\"start\" x=\"601.5\" y=\"-408.8\" font-family=\"Helvetica,sans-Serif\" font-size=\"14.00\" fill=\"#000000\">value = [473, 92]</text>\n</g>\n<!-- 0&#45;&gt;1 -->\n<g id=\"edge1\" class=\"edge\">\n<title>0&#45;&gt;1</title>\n<path fill=\"none\" stroke=\"#000000\" d=\"M786.6497,-504.9465C767.3852,-494.6721 746.123,-483.3323 726.4271,-472.8278\"/>\n<polygon fill=\"#000000\" stroke=\"#000000\" points=\"727.9713,-469.6847 717.5007,-468.067 724.6771,-475.8612 727.9713,-469.6847\"/>\n<text text-anchor=\"middle\" x=\"724.7797\" y=\"-488.2839\" font-family=\"Helvetica,sans-Serif\" font-size=\"14.00\" fill=\"#000000\">True</text>\n</g>\n<!-- 18 -->\n<g id=\"node19\" class=\"node\">\n<title>18</title>\n<path fill=\"#86c3ef\" stroke=\"#000000\" d=\"M971.5,-469C971.5,-469 871.5,-469 871.5,-469 865.5,-469 859.5,-463 859.5,-457 859.5,-457 859.5,-413 859.5,-413 859.5,-407 865.5,-401 871.5,-401 871.5,-401 971.5,-401 971.5,-401 977.5,-401 983.5,-407 983.5,-413 983.5,-413 983.5,-457 983.5,-457 983.5,-463 977.5,-469 971.5,-469\"/>\n<text text-anchor=\"start\" x=\"884.5\" y=\"-453.8\" font-family=\"Helvetica,sans-Serif\" font-size=\"14.00\" fill=\"#000000\">Fare ≤ 48.2</text>\n<text text-anchor=\"start\" x=\"883.5\" y=\"-438.8\" font-family=\"Helvetica,sans-Serif\" font-size=\"14.00\" fill=\"#000000\">gini = 0.402</text>\n<text text-anchor=\"start\" x=\"873.5\" y=\"-423.8\" font-family=\"Helvetica,sans-Serif\" font-size=\"14.00\" fill=\"#000000\">samples = 200</text>\n<text text-anchor=\"start\" x=\"867.5\" y=\"-408.8\" font-family=\"Helvetica,sans-Serif\" font-size=\"14.00\" fill=\"#000000\">value = [91, 235]</text>\n</g>\n<!-- 0&#45;&gt;18 -->\n<g id=\"edge18\" class=\"edge\">\n<title>0&#45;&gt;18</title>\n<path fill=\"none\" stroke=\"#000000\" d=\"M873.7481,-504.9465C879.755,-496.1475 886.2955,-486.5672 892.5543,-477.3993\"/>\n<polygon fill=\"#000000\" stroke=\"#000000\" points=\"895.452,-479.3623 898.1997,-469.13 889.6707,-475.4155 895.452,-479.3623\"/>\n<text text-anchor=\"middle\" x=\"902.8324\" y=\"-489.997\" font-family=\"Helvetica,sans-Serif\" font-size=\"14.00\" fill=\"#000000\">False</text>\n</g>\n<!-- 2 -->\n<g id=\"node3\" class=\"node\">\n<title>2</title>\n<path fill=\"#eda977\" stroke=\"#000000\" d=\"M498.5,-365C498.5,-365 398.5,-365 398.5,-365 392.5,-365 386.5,-359 386.5,-353 386.5,-353 386.5,-309 386.5,-309 386.5,-303 392.5,-297 398.5,-297 398.5,-297 498.5,-297 498.5,-297 504.5,-297 510.5,-303 510.5,-309 510.5,-309 510.5,-353 510.5,-353 510.5,-359 504.5,-365 498.5,-365\"/>\n<text text-anchor=\"start\" x=\"411.5\" y=\"-349.8\" font-family=\"Helvetica,sans-Serif\" font-size=\"14.00\" fill=\"#000000\">Parch ≤ 0.5</text>\n<text text-anchor=\"start\" x=\"410.5\" y=\"-334.8\" font-family=\"Helvetica,sans-Serif\" font-size=\"14.00\" fill=\"#000000\">gini = 0.364</text>\n<text text-anchor=\"start\" x=\"400.5\" y=\"-319.8\" font-family=\"Helvetica,sans-Serif\" font-size=\"14.00\" fill=\"#000000\">samples = 146</text>\n<text text-anchor=\"start\" x=\"394.5\" y=\"-304.8\" font-family=\"Helvetica,sans-Serif\" font-size=\"14.00\" fill=\"#000000\">value = [184, 58]</text>\n</g>\n<!-- 1&#45;&gt;2 -->\n<g id=\"edge2\" class=\"edge\">\n<title>1&#45;&gt;2</title>\n<path fill=\"none\" stroke=\"#000000\" d=\"M593.3932,-403.7966C570.1617,-392.1247 543.599,-378.7792 519.6161,-366.7298\"/>\n<polygon fill=\"#000000\" stroke=\"#000000\" points=\"521.0699,-363.5434 510.563,-362.1814 517.9273,-369.7983 521.0699,-363.5434\"/>\n</g>\n<!-- 11 -->\n<g id=\"node12\" class=\"node\">\n<title>11</title>\n<path fill=\"#e89050\" stroke=\"#000000\" d=\"M705.5,-365C705.5,-365 605.5,-365 605.5,-365 599.5,-365 593.5,-359 593.5,-353 593.5,-353 593.5,-309 593.5,-309 593.5,-303 599.5,-297 605.5,-297 605.5,-297 705.5,-297 705.5,-297 711.5,-297 717.5,-303 717.5,-309 717.5,-309 717.5,-353 717.5,-353 717.5,-359 711.5,-365 705.5,-365\"/>\n<text text-anchor=\"start\" x=\"620.5\" y=\"-349.8\" font-family=\"Helvetica,sans-Serif\" font-size=\"14.00\" fill=\"#000000\">Age ≤ 20.5</text>\n<text text-anchor=\"start\" x=\"617.5\" y=\"-334.8\" font-family=\"Helvetica,sans-Serif\" font-size=\"14.00\" fill=\"#000000\">gini = 0.188</text>\n<text text-anchor=\"start\" x=\"607.5\" y=\"-319.8\" font-family=\"Helvetica,sans-Serif\" font-size=\"14.00\" fill=\"#000000\">samples = 206</text>\n<text text-anchor=\"start\" x=\"601.5\" y=\"-304.8\" font-family=\"Helvetica,sans-Serif\" font-size=\"14.00\" fill=\"#000000\">value = [289, 34]</text>\n</g>\n<!-- 1&#45;&gt;11 -->\n<g id=\"edge11\" class=\"edge\">\n<title>1&#45;&gt;11</title>\n<path fill=\"none\" stroke=\"#000000\" d=\"M655.5,-400.9465C655.5,-392.776 655.5,-383.9318 655.5,-375.3697\"/>\n<polygon fill=\"#000000\" stroke=\"#000000\" points=\"659.0001,-375.13 655.5,-365.13 652.0001,-375.13 659.0001,-375.13\"/>\n</g>\n<!-- 3 -->\n<g id=\"node4\" class=\"node\">\n<title>3</title>\n<path fill=\"#eca06a\" stroke=\"#000000\" d=\"M360.5,-261C360.5,-261 260.5,-261 260.5,-261 254.5,-261 248.5,-255 248.5,-249 248.5,-249 248.5,-205 248.5,-205 248.5,-199 254.5,-193 260.5,-193 260.5,-193 360.5,-193 360.5,-193 366.5,-193 372.5,-199 372.5,-205 372.5,-205 372.5,-249 372.5,-249 372.5,-255 366.5,-261 360.5,-261\"/>\n<text text-anchor=\"start\" x=\"275.5\" y=\"-245.8\" font-family=\"Helvetica,sans-Serif\" font-size=\"14.00\" fill=\"#000000\">Age ≤ 30.5</text>\n<text text-anchor=\"start\" x=\"277\" y=\"-230.8\" font-family=\"Helvetica,sans-Serif\" font-size=\"14.00\" fill=\"#000000\">gini = 0.32</text>\n<text text-anchor=\"start\" x=\"262.5\" y=\"-215.8\" font-family=\"Helvetica,sans-Serif\" font-size=\"14.00\" fill=\"#000000\">samples = 119</text>\n<text text-anchor=\"start\" x=\"256.5\" y=\"-200.8\" font-family=\"Helvetica,sans-Serif\" font-size=\"14.00\" fill=\"#000000\">value = [160, 40]</text>\n</g>\n<!-- 2&#45;&gt;3 -->\n<g id=\"edge3\" class=\"edge\">\n<title>2&#45;&gt;3</title>\n<path fill=\"none\" stroke=\"#000000\" d=\"M403.3136,-296.9465C390.685,-287.4293 376.8433,-276.9978 363.7932,-267.163\"/>\n<polygon fill=\"#000000\" stroke=\"#000000\" points=\"365.8805,-264.3534 355.7879,-261.13 361.6675,-269.9437 365.8805,-264.3534\"/>\n</g>\n<!-- 10 -->\n<g id=\"node11\" class=\"node\">\n<title>10</title>\n<path fill=\"#f8e0ce\" stroke=\"#000000\" d=\"M494.5,-253.5C494.5,-253.5 402.5,-253.5 402.5,-253.5 396.5,-253.5 390.5,-247.5 390.5,-241.5 390.5,-241.5 390.5,-212.5 390.5,-212.5 390.5,-206.5 396.5,-200.5 402.5,-200.5 402.5,-200.5 494.5,-200.5 494.5,-200.5 500.5,-200.5 506.5,-206.5 506.5,-212.5 506.5,-212.5 506.5,-241.5 506.5,-241.5 506.5,-247.5 500.5,-253.5 494.5,-253.5\"/>\n<text text-anchor=\"start\" x=\"415\" y=\"-238.3\" font-family=\"Helvetica,sans-Serif\" font-size=\"14.00\" fill=\"#000000\">gini = 0.49</text>\n<text text-anchor=\"start\" x=\"404.5\" y=\"-223.3\" font-family=\"Helvetica,sans-Serif\" font-size=\"14.00\" fill=\"#000000\">samples = 27</text>\n<text text-anchor=\"start\" x=\"398.5\" y=\"-208.3\" font-family=\"Helvetica,sans-Serif\" font-size=\"14.00\" fill=\"#000000\">value = [24, 18]</text>\n</g>\n<!-- 2&#45;&gt;10 -->\n<g id=\"edge10\" class=\"edge\">\n<title>2&#45;&gt;10</title>\n<path fill=\"none\" stroke=\"#000000\" d=\"M448.5,-296.9465C448.5,-286.2621 448.5,-274.4254 448.5,-263.5742\"/>\n<polygon fill=\"#000000\" stroke=\"#000000\" points=\"452.0001,-263.5421 448.5,-253.5422 445.0001,-263.5422 452.0001,-263.5421\"/>\n</g>\n<!-- 4 -->\n<g id=\"node5\" class=\"node\">\n<title>4</title>\n<path fill=\"#e99355\" stroke=\"#000000\" d=\"M223.5,-157C223.5,-157 131.5,-157 131.5,-157 125.5,-157 119.5,-151 119.5,-145 119.5,-145 119.5,-101 119.5,-101 119.5,-95 125.5,-89 131.5,-89 131.5,-89 223.5,-89 223.5,-89 229.5,-89 235.5,-95 235.5,-101 235.5,-101 235.5,-145 235.5,-145 235.5,-151 229.5,-157 223.5,-157\"/>\n<text text-anchor=\"start\" x=\"138\" y=\"-141.8\" font-family=\"Helvetica,sans-Serif\" font-size=\"14.00\" fill=\"#000000\">Age ≤ 29.35</text>\n<text text-anchor=\"start\" x=\"139.5\" y=\"-126.8\" font-family=\"Helvetica,sans-Serif\" font-size=\"14.00\" fill=\"#000000\">gini = 0.215</text>\n<text text-anchor=\"start\" x=\"133.5\" y=\"-111.8\" font-family=\"Helvetica,sans-Serif\" font-size=\"14.00\" fill=\"#000000\">samples = 50</text>\n<text text-anchor=\"start\" x=\"127.5\" y=\"-96.8\" font-family=\"Helvetica,sans-Serif\" font-size=\"14.00\" fill=\"#000000\">value = [79, 11]</text>\n</g>\n<!-- 3&#45;&gt;4 -->\n<g id=\"edge4\" class=\"edge\">\n<title>3&#45;&gt;4</title>\n<path fill=\"none\" stroke=\"#000000\" d=\"M266.9508,-192.9465C254.8946,-183.519 241.6911,-173.1946 229.2184,-163.4415\"/>\n<polygon fill=\"#000000\" stroke=\"#000000\" points=\"231.1806,-160.5328 221.147,-157.13 226.8686,-166.0471 231.1806,-160.5328\"/>\n</g>\n<!-- 7 -->\n<g id=\"node8\" class=\"node\">\n<title>7</title>\n<path fill=\"#eeae80\" stroke=\"#000000\" d=\"M357.5,-157C357.5,-157 265.5,-157 265.5,-157 259.5,-157 253.5,-151 253.5,-145 253.5,-145 253.5,-101 253.5,-101 253.5,-95 259.5,-89 265.5,-89 265.5,-89 357.5,-89 357.5,-89 363.5,-89 369.5,-95 369.5,-101 369.5,-101 369.5,-145 369.5,-145 369.5,-151 363.5,-157 357.5,-157\"/>\n<text text-anchor=\"start\" x=\"274\" y=\"-141.8\" font-family=\"Helvetica,sans-Serif\" font-size=\"14.00\" fill=\"#000000\">SibSp ≤ 0.5</text>\n<text text-anchor=\"start\" x=\"273.5\" y=\"-126.8\" font-family=\"Helvetica,sans-Serif\" font-size=\"14.00\" fill=\"#000000\">gini = 0.388</text>\n<text text-anchor=\"start\" x=\"267.5\" y=\"-111.8\" font-family=\"Helvetica,sans-Serif\" font-size=\"14.00\" fill=\"#000000\">samples = 69</text>\n<text text-anchor=\"start\" x=\"261.5\" y=\"-96.8\" font-family=\"Helvetica,sans-Serif\" font-size=\"14.00\" fill=\"#000000\">value = [81, 29]</text>\n</g>\n<!-- 3&#45;&gt;7 -->\n<g id=\"edge7\" class=\"edge\">\n<title>3&#45;&gt;7</title>\n<path fill=\"none\" stroke=\"#000000\" d=\"M310.8274,-192.9465C310.906,-184.776 310.991,-175.9318 311.0734,-167.3697\"/>\n<polygon fill=\"#000000\" stroke=\"#000000\" points=\"314.5754,-167.1632 311.1718,-157.13 307.5757,-167.0958 314.5754,-167.1632\"/>\n</g>\n<!-- 5 -->\n<g id=\"node6\" class=\"node\">\n<title>5</title>\n<path fill=\"#e88e4d\" stroke=\"#000000\" d=\"M95,-53C95,-53 12,-53 12,-53 6,-53 0,-47 0,-41 0,-41 0,-12 0,-12 0,-6 6,0 12,0 12,0 95,0 95,0 101,0 107,-6 107,-12 107,-12 107,-41 107,-41 107,-47 101,-53 95,-53\"/>\n<text text-anchor=\"start\" x=\"15.5\" y=\"-37.8\" font-family=\"Helvetica,sans-Serif\" font-size=\"14.00\" fill=\"#000000\">gini = 0.168</text>\n<text text-anchor=\"start\" x=\"9.5\" y=\"-22.8\" font-family=\"Helvetica,sans-Serif\" font-size=\"14.00\" fill=\"#000000\">samples = 28</text>\n<text text-anchor=\"start\" x=\"8\" y=\"-7.8\" font-family=\"Helvetica,sans-Serif\" font-size=\"14.00\" fill=\"#000000\">value = [49, 5]</text>\n</g>\n<!-- 4&#45;&gt;5 -->\n<g id=\"edge5\" class=\"edge\">\n<title>4&#45;&gt;5</title>\n<path fill=\"none\" stroke=\"#000000\" d=\"M133.7822,-88.9777C121.5451,-79.4545 108.2645,-69.1191 96.0934,-59.6473\"/>\n<polygon fill=\"#000000\" stroke=\"#000000\" points=\"97.9125,-56.628 87.8711,-53.2485 93.6134,-62.1523 97.9125,-56.628\"/>\n</g>\n<!-- 6 -->\n<g id=\"node7\" class=\"node\">\n<title>6</title>\n<path fill=\"#ea9a61\" stroke=\"#000000\" d=\"M220,-53C220,-53 137,-53 137,-53 131,-53 125,-47 125,-41 125,-41 125,-12 125,-12 125,-6 131,0 137,0 137,0 220,0 220,0 226,0 232,-6 232,-12 232,-12 232,-41 232,-41 232,-47 226,-53 220,-53\"/>\n<text text-anchor=\"start\" x=\"140.5\" y=\"-37.8\" font-family=\"Helvetica,sans-Serif\" font-size=\"14.00\" fill=\"#000000\">gini = 0.278</text>\n<text text-anchor=\"start\" x=\"134.5\" y=\"-22.8\" font-family=\"Helvetica,sans-Serif\" font-size=\"14.00\" fill=\"#000000\">samples = 22</text>\n<text text-anchor=\"start\" x=\"133\" y=\"-7.8\" font-family=\"Helvetica,sans-Serif\" font-size=\"14.00\" fill=\"#000000\">value = [30, 6]</text>\n</g>\n<!-- 4&#45;&gt;6 -->\n<g id=\"edge6\" class=\"edge\">\n<title>4&#45;&gt;6</title>\n<path fill=\"none\" stroke=\"#000000\" d=\"M177.8526,-88.9777C177.938,-80.7364 178.0297,-71.887 178.1164,-63.5153\"/>\n<polygon fill=\"#000000\" stroke=\"#000000\" points=\"181.6189,-63.2842 178.2228,-53.2485 174.6193,-63.2116 181.6189,-63.2842\"/>\n</g>\n<!-- 8 -->\n<g id=\"node9\" class=\"node\">\n<title>8</title>\n<path fill=\"#eca572\" stroke=\"#000000\" d=\"M356.5,-53C356.5,-53 264.5,-53 264.5,-53 258.5,-53 252.5,-47 252.5,-41 252.5,-41 252.5,-12 252.5,-12 252.5,-6 258.5,0 264.5,0 264.5,0 356.5,0 356.5,0 362.5,0 368.5,-6 368.5,-12 368.5,-12 368.5,-41 368.5,-41 368.5,-47 362.5,-53 356.5,-53\"/>\n<text text-anchor=\"start\" x=\"272.5\" y=\"-37.8\" font-family=\"Helvetica,sans-Serif\" font-size=\"14.00\" fill=\"#000000\">gini = 0.347</text>\n<text text-anchor=\"start\" x=\"266.5\" y=\"-22.8\" font-family=\"Helvetica,sans-Serif\" font-size=\"14.00\" fill=\"#000000\">samples = 49</text>\n<text text-anchor=\"start\" x=\"260.5\" y=\"-7.8\" font-family=\"Helvetica,sans-Serif\" font-size=\"14.00\" fill=\"#000000\">value = [59, 17]</text>\n</g>\n<!-- 7&#45;&gt;8 -->\n<g id=\"edge8\" class=\"edge\">\n<title>7&#45;&gt;8</title>\n<path fill=\"none\" stroke=\"#000000\" d=\"M311.1474,-88.9777C311.062,-80.7364 310.9703,-71.887 310.8836,-63.5153\"/>\n<polygon fill=\"#000000\" stroke=\"#000000\" points=\"314.3807,-63.2116 310.7772,-53.2485 307.3811,-63.2842 314.3807,-63.2116\"/>\n</g>\n<!-- 9 -->\n<g id=\"node10\" class=\"node\">\n<title>9</title>\n<path fill=\"#f3c6a5\" stroke=\"#000000\" d=\"M490.5,-53C490.5,-53 398.5,-53 398.5,-53 392.5,-53 386.5,-47 386.5,-41 386.5,-41 386.5,-12 386.5,-12 386.5,-6 392.5,0 398.5,0 398.5,0 490.5,0 490.5,0 496.5,0 502.5,-6 502.5,-12 502.5,-12 502.5,-41 502.5,-41 502.5,-47 496.5,-53 490.5,-53\"/>\n<text text-anchor=\"start\" x=\"406.5\" y=\"-37.8\" font-family=\"Helvetica,sans-Serif\" font-size=\"14.00\" fill=\"#000000\">gini = 0.457</text>\n<text text-anchor=\"start\" x=\"400.5\" y=\"-22.8\" font-family=\"Helvetica,sans-Serif\" font-size=\"14.00\" fill=\"#000000\">samples = 20</text>\n<text text-anchor=\"start\" x=\"394.5\" y=\"-7.8\" font-family=\"Helvetica,sans-Serif\" font-size=\"14.00\" fill=\"#000000\">value = [22, 12]</text>\n</g>\n<!-- 7&#45;&gt;9 -->\n<g id=\"edge9\" class=\"edge\">\n<title>7&#45;&gt;9</title>\n<path fill=\"none\" stroke=\"#000000\" d=\"M358.3908,-88.9777C371.6423,-79.3629 386.0347,-68.9203 399.1913,-59.3743\"/>\n<polygon fill=\"#000000\" stroke=\"#000000\" points=\"401.5957,-61.9541 407.6342,-53.2485 397.4848,-56.2883 401.5957,-61.9541\"/>\n</g>\n<!-- 12 -->\n<g id=\"node13\" class=\"node\">\n<title>12</title>\n<path fill=\"#eda977\" stroke=\"#000000\" d=\"M628.5,-253.5C628.5,-253.5 536.5,-253.5 536.5,-253.5 530.5,-253.5 524.5,-247.5 524.5,-241.5 524.5,-241.5 524.5,-212.5 524.5,-212.5 524.5,-206.5 530.5,-200.5 536.5,-200.5 536.5,-200.5 628.5,-200.5 628.5,-200.5 634.5,-200.5 640.5,-206.5 640.5,-212.5 640.5,-212.5 640.5,-241.5 640.5,-241.5 640.5,-247.5 634.5,-253.5 628.5,-253.5\"/>\n<text text-anchor=\"start\" x=\"544.5\" y=\"-238.3\" font-family=\"Helvetica,sans-Serif\" font-size=\"14.00\" fill=\"#000000\">gini = 0.364</text>\n<text text-anchor=\"start\" x=\"538.5\" y=\"-223.3\" font-family=\"Helvetica,sans-Serif\" font-size=\"14.00\" fill=\"#000000\">samples = 34</text>\n<text text-anchor=\"start\" x=\"532.5\" y=\"-208.3\" font-family=\"Helvetica,sans-Serif\" font-size=\"14.00\" fill=\"#000000\">value = [35, 11]</text>\n</g>\n<!-- 11&#45;&gt;12 -->\n<g id=\"edge12\" class=\"edge\">\n<title>11&#45;&gt;12</title>\n<path fill=\"none\" stroke=\"#000000\" d=\"M631.5971,-296.9465C623.7108,-285.7113 614.9303,-273.2021 607.0002,-261.9043\"/>\n<polygon fill=\"#000000\" stroke=\"#000000\" points=\"609.7405,-259.7163 601.1306,-253.5422 604.0111,-263.7379 609.7405,-259.7163\"/>\n</g>\n<!-- 13 -->\n<g id=\"node14\" class=\"node\">\n<title>13</title>\n<path fill=\"#e78c4b\" stroke=\"#000000\" d=\"M770.5,-261C770.5,-261 670.5,-261 670.5,-261 664.5,-261 658.5,-255 658.5,-249 658.5,-249 658.5,-205 658.5,-205 658.5,-199 664.5,-193 670.5,-193 670.5,-193 770.5,-193 770.5,-193 776.5,-193 782.5,-199 782.5,-205 782.5,-205 782.5,-249 782.5,-249 782.5,-255 776.5,-261 770.5,-261\"/>\n<text text-anchor=\"start\" x=\"683\" y=\"-245.8\" font-family=\"Helvetica,sans-Serif\" font-size=\"14.00\" fill=\"#000000\">SibSp ≤ 0.5</text>\n<text text-anchor=\"start\" x=\"682.5\" y=\"-230.8\" font-family=\"Helvetica,sans-Serif\" font-size=\"14.00\" fill=\"#000000\">gini = 0.152</text>\n<text text-anchor=\"start\" x=\"672.5\" y=\"-215.8\" font-family=\"Helvetica,sans-Serif\" font-size=\"14.00\" fill=\"#000000\">samples = 172</text>\n<text text-anchor=\"start\" x=\"666.5\" y=\"-200.8\" font-family=\"Helvetica,sans-Serif\" font-size=\"14.00\" fill=\"#000000\">value = [254, 23]</text>\n</g>\n<!-- 11&#45;&gt;13 -->\n<g id=\"edge13\" class=\"edge\">\n<title>11&#45;&gt;13</title>\n<path fill=\"none\" stroke=\"#000000\" d=\"M676.7834,-296.9465C682.2267,-288.2373 688.1484,-278.7626 693.825,-269.6801\"/>\n<polygon fill=\"#000000\" stroke=\"#000000\" points=\"696.8367,-271.465 699.1688,-261.13 690.9007,-267.755 696.8367,-271.465\"/>\n</g>\n<!-- 14 -->\n<g id=\"node15\" class=\"node\">\n<title>14</title>\n<path fill=\"#e88e4e\" stroke=\"#000000\" d=\"M636.5,-157C636.5,-157 536.5,-157 536.5,-157 530.5,-157 524.5,-151 524.5,-145 524.5,-145 524.5,-101 524.5,-101 524.5,-95 530.5,-89 536.5,-89 536.5,-89 636.5,-89 636.5,-89 642.5,-89 648.5,-95 648.5,-101 648.5,-101 648.5,-145 648.5,-145 648.5,-151 642.5,-157 636.5,-157\"/>\n<text text-anchor=\"start\" x=\"545.5\" y=\"-141.8\" font-family=\"Helvetica,sans-Serif\" font-size=\"14.00\" fill=\"#000000\">Fare ≤ 8.081</text>\n<text text-anchor=\"start\" x=\"548.5\" y=\"-126.8\" font-family=\"Helvetica,sans-Serif\" font-size=\"14.00\" fill=\"#000000\">gini = 0.172</text>\n<text text-anchor=\"start\" x=\"538.5\" y=\"-111.8\" font-family=\"Helvetica,sans-Serif\" font-size=\"14.00\" fill=\"#000000\">samples = 143</text>\n<text text-anchor=\"start\" x=\"532.5\" y=\"-96.8\" font-family=\"Helvetica,sans-Serif\" font-size=\"14.00\" fill=\"#000000\">value = [200, 21]</text>\n</g>\n<!-- 13&#45;&gt;14 -->\n<g id=\"edge14\" class=\"edge\">\n<title>13&#45;&gt;14</title>\n<path fill=\"none\" stroke=\"#000000\" d=\"M676.6234,-192.9465C664.4765,-183.519 651.1738,-173.1946 638.6073,-163.4415\"/>\n<polygon fill=\"#000000\" stroke=\"#000000\" points=\"640.521,-160.4963 630.4752,-157.13 636.2291,-166.0262 640.521,-160.4963\"/>\n</g>\n<!-- 17 -->\n<g id=\"node18\" class=\"node\">\n<title>17</title>\n<path fill=\"#e68640\" stroke=\"#000000\" d=\"M762,-149.5C762,-149.5 679,-149.5 679,-149.5 673,-149.5 667,-143.5 667,-137.5 667,-137.5 667,-108.5 667,-108.5 667,-102.5 673,-96.5 679,-96.5 679,-96.5 762,-96.5 762,-96.5 768,-96.5 774,-102.5 774,-108.5 774,-108.5 774,-137.5 774,-137.5 774,-143.5 768,-149.5 762,-149.5\"/>\n<text text-anchor=\"start\" x=\"682.5\" y=\"-134.3\" font-family=\"Helvetica,sans-Serif\" font-size=\"14.00\" fill=\"#000000\">gini = 0.069</text>\n<text text-anchor=\"start\" x=\"676.5\" y=\"-119.3\" font-family=\"Helvetica,sans-Serif\" font-size=\"14.00\" fill=\"#000000\">samples = 29</text>\n<text text-anchor=\"start\" x=\"675\" y=\"-104.3\" font-family=\"Helvetica,sans-Serif\" font-size=\"14.00\" fill=\"#000000\">value = [54, 2]</text>\n</g>\n<!-- 13&#45;&gt;17 -->\n<g id=\"edge17\" class=\"edge\">\n<title>13&#45;&gt;17</title>\n<path fill=\"none\" stroke=\"#000000\" d=\"M720.5,-192.9465C720.5,-182.2621 720.5,-170.4254 720.5,-159.5742\"/>\n<polygon fill=\"#000000\" stroke=\"#000000\" points=\"724.0001,-159.5421 720.5,-149.5422 717.0001,-159.5422 724.0001,-159.5421\"/>\n</g>\n<!-- 15 -->\n<g id=\"node16\" class=\"node\">\n<title>15</title>\n<path fill=\"#e78b48\" stroke=\"#000000\" d=\"M634.5,-53C634.5,-53 534.5,-53 534.5,-53 528.5,-53 522.5,-47 522.5,-41 522.5,-41 522.5,-12 522.5,-12 522.5,-6 528.5,0 534.5,0 534.5,0 634.5,0 634.5,0 640.5,0 646.5,-6 646.5,-12 646.5,-12 646.5,-41 646.5,-41 646.5,-47 640.5,-53 634.5,-53\"/>\n<text text-anchor=\"start\" x=\"546.5\" y=\"-37.8\" font-family=\"Helvetica,sans-Serif\" font-size=\"14.00\" fill=\"#000000\">gini = 0.131</text>\n<text text-anchor=\"start\" x=\"536.5\" y=\"-22.8\" font-family=\"Helvetica,sans-Serif\" font-size=\"14.00\" fill=\"#000000\">samples = 114</text>\n<text text-anchor=\"start\" x=\"530.5\" y=\"-7.8\" font-family=\"Helvetica,sans-Serif\" font-size=\"14.00\" fill=\"#000000\">value = [158, 12]</text>\n</g>\n<!-- 14&#45;&gt;15 -->\n<g id=\"edge15\" class=\"edge\">\n<title>14&#45;&gt;15</title>\n<path fill=\"none\" stroke=\"#000000\" d=\"M585.7949,-88.9777C585.6241,-80.7364 585.4407,-71.887 585.2672,-63.5153\"/>\n<polygon fill=\"#000000\" stroke=\"#000000\" points=\"588.7609,-63.1738 585.0544,-53.2485 581.7624,-63.3189 588.7609,-63.1738\"/>\n</g>\n<!-- 16 -->\n<g id=\"node17\" class=\"node\">\n<title>16</title>\n<path fill=\"#eb9c63\" stroke=\"#000000\" d=\"M760,-53C760,-53 677,-53 677,-53 671,-53 665,-47 665,-41 665,-41 665,-12 665,-12 665,-6 671,0 677,0 677,0 760,0 760,0 766,0 772,-6 772,-12 772,-12 772,-41 772,-41 772,-47 766,-53 760,-53\"/>\n<text text-anchor=\"start\" x=\"680.5\" y=\"-37.8\" font-family=\"Helvetica,sans-Serif\" font-size=\"14.00\" fill=\"#000000\">gini = 0.291</text>\n<text text-anchor=\"start\" x=\"674.5\" y=\"-22.8\" font-family=\"Helvetica,sans-Serif\" font-size=\"14.00\" fill=\"#000000\">samples = 29</text>\n<text text-anchor=\"start\" x=\"673\" y=\"-7.8\" font-family=\"Helvetica,sans-Serif\" font-size=\"14.00\" fill=\"#000000\">value = [42, 9]</text>\n</g>\n<!-- 14&#45;&gt;16 -->\n<g id=\"edge16\" class=\"edge\">\n<title>14&#45;&gt;16</title>\n<path fill=\"none\" stroke=\"#000000\" d=\"M633.0383,-88.9777C646.1901,-79.3629 660.4743,-68.9203 673.532,-59.3743\"/>\n<polygon fill=\"#000000\" stroke=\"#000000\" points=\"675.9042,-61.9757 681.9114,-53.2485 671.773,-56.3247 675.9042,-61.9757\"/>\n</g>\n<!-- 19 -->\n<g id=\"node20\" class=\"node\">\n<title>19</title>\n<path fill=\"#aad5f4\" stroke=\"#000000\" d=\"M971.5,-365C971.5,-365 871.5,-365 871.5,-365 865.5,-365 859.5,-359 859.5,-353 859.5,-353 859.5,-309 859.5,-309 859.5,-303 865.5,-297 871.5,-297 871.5,-297 971.5,-297 971.5,-297 977.5,-297 983.5,-303 983.5,-309 983.5,-309 983.5,-353 983.5,-353 983.5,-359 977.5,-365 971.5,-365\"/>\n<text text-anchor=\"start\" x=\"884.5\" y=\"-349.8\" font-family=\"Helvetica,sans-Serif\" font-size=\"14.00\" fill=\"#000000\">Parch ≤ 0.5</text>\n<text text-anchor=\"start\" x=\"883.5\" y=\"-334.8\" font-family=\"Helvetica,sans-Serif\" font-size=\"14.00\" fill=\"#000000\">gini = 0.463</text>\n<text text-anchor=\"start\" x=\"873.5\" y=\"-319.8\" font-family=\"Helvetica,sans-Serif\" font-size=\"14.00\" fill=\"#000000\">samples = 150</text>\n<text text-anchor=\"start\" x=\"867.5\" y=\"-304.8\" font-family=\"Helvetica,sans-Serif\" font-size=\"14.00\" fill=\"#000000\">value = [89, 156]</text>\n</g>\n<!-- 18&#45;&gt;19 -->\n<g id=\"edge19\" class=\"edge\">\n<title>18&#45;&gt;19</title>\n<path fill=\"none\" stroke=\"#000000\" d=\"M921.5,-400.9465C921.5,-392.776 921.5,-383.9318 921.5,-375.3697\"/>\n<polygon fill=\"#000000\" stroke=\"#000000\" points=\"925.0001,-375.13 921.5,-365.13 918.0001,-375.13 925.0001,-375.13\"/>\n</g>\n<!-- 28 -->\n<g id=\"node29\" class=\"node\">\n<title>28</title>\n<path fill=\"#3e9fe6\" stroke=\"#000000\" d=\"M1097,-357.5C1097,-357.5 1014,-357.5 1014,-357.5 1008,-357.5 1002,-351.5 1002,-345.5 1002,-345.5 1002,-316.5 1002,-316.5 1002,-310.5 1008,-304.5 1014,-304.5 1014,-304.5 1097,-304.5 1097,-304.5 1103,-304.5 1109,-310.5 1109,-316.5 1109,-316.5 1109,-345.5 1109,-345.5 1109,-351.5 1103,-357.5 1097,-357.5\"/>\n<text text-anchor=\"start\" x=\"1017.5\" y=\"-342.3\" font-family=\"Helvetica,sans-Serif\" font-size=\"14.00\" fill=\"#000000\">gini = 0.048</text>\n<text text-anchor=\"start\" x=\"1011.5\" y=\"-327.3\" font-family=\"Helvetica,sans-Serif\" font-size=\"14.00\" fill=\"#000000\">samples = 50</text>\n<text text-anchor=\"start\" x=\"1010\" y=\"-312.3\" font-family=\"Helvetica,sans-Serif\" font-size=\"14.00\" fill=\"#000000\">value = [2, 79]</text>\n</g>\n<!-- 18&#45;&gt;28 -->\n<g id=\"edge28\" class=\"edge\">\n<title>18&#45;&gt;28</title>\n<path fill=\"none\" stroke=\"#000000\" d=\"M965.3766,-400.9465C980.7043,-389.0504 997.8723,-375.726 1013.0791,-363.9237\"/>\n<polygon fill=\"#000000\" stroke=\"#000000\" points=\"1015.5475,-366.4384 1021.3014,-357.5422 1011.2556,-360.9085 1015.5475,-366.4384\"/>\n</g>\n<!-- 20 -->\n<g id=\"node21\" class=\"node\">\n<title>20</title>\n<path fill=\"#91c9f1\" stroke=\"#000000\" d=\"M971.5,-261C971.5,-261 871.5,-261 871.5,-261 865.5,-261 859.5,-255 859.5,-249 859.5,-249 859.5,-205 859.5,-205 859.5,-199 865.5,-193 871.5,-193 871.5,-193 971.5,-193 971.5,-193 977.5,-193 983.5,-199 983.5,-205 983.5,-205 983.5,-249 983.5,-249 983.5,-255 977.5,-261 971.5,-261\"/>\n<text text-anchor=\"start\" x=\"884\" y=\"-245.8\" font-family=\"Helvetica,sans-Serif\" font-size=\"14.00\" fill=\"#000000\">SibSp ≤ 0.5</text>\n<text text-anchor=\"start\" x=\"883.5\" y=\"-230.8\" font-family=\"Helvetica,sans-Serif\" font-size=\"14.00\" fill=\"#000000\">gini = 0.426</text>\n<text text-anchor=\"start\" x=\"877.5\" y=\"-215.8\" font-family=\"Helvetica,sans-Serif\" font-size=\"14.00\" fill=\"#000000\">samples = 93</text>\n<text text-anchor=\"start\" x=\"867.5\" y=\"-200.8\" font-family=\"Helvetica,sans-Serif\" font-size=\"14.00\" fill=\"#000000\">value = [48, 108]</text>\n</g>\n<!-- 19&#45;&gt;20 -->\n<g id=\"edge20\" class=\"edge\">\n<title>19&#45;&gt;20</title>\n<path fill=\"none\" stroke=\"#000000\" d=\"M921.5,-296.9465C921.5,-288.776 921.5,-279.9318 921.5,-271.3697\"/>\n<polygon fill=\"#000000\" stroke=\"#000000\" points=\"925.0001,-271.13 921.5,-261.13 918.0001,-271.13 925.0001,-271.13\"/>\n</g>\n<!-- 25 -->\n<g id=\"node26\" class=\"node\">\n<title>25</title>\n<path fill=\"#e2f1fb\" stroke=\"#000000\" d=\"M1164.5,-261C1164.5,-261 1072.5,-261 1072.5,-261 1066.5,-261 1060.5,-255 1060.5,-249 1060.5,-249 1060.5,-205 1060.5,-205 1060.5,-199 1066.5,-193 1072.5,-193 1072.5,-193 1164.5,-193 1164.5,-193 1170.5,-193 1176.5,-199 1176.5,-205 1176.5,-205 1176.5,-249 1176.5,-249 1176.5,-255 1170.5,-261 1164.5,-261\"/>\n<text text-anchor=\"start\" x=\"1081\" y=\"-245.8\" font-family=\"Helvetica,sans-Serif\" font-size=\"14.00\" fill=\"#000000\">SibSp ≤ 0.5</text>\n<text text-anchor=\"start\" x=\"1080.5\" y=\"-230.8\" font-family=\"Helvetica,sans-Serif\" font-size=\"14.00\" fill=\"#000000\">gini = 0.497</text>\n<text text-anchor=\"start\" x=\"1074.5\" y=\"-215.8\" font-family=\"Helvetica,sans-Serif\" font-size=\"14.00\" fill=\"#000000\">samples = 57</text>\n<text text-anchor=\"start\" x=\"1068.5\" y=\"-200.8\" font-family=\"Helvetica,sans-Serif\" font-size=\"14.00\" fill=\"#000000\">value = [41, 48]</text>\n</g>\n<!-- 19&#45;&gt;25 -->\n<g id=\"edge25\" class=\"edge\">\n<title>19&#45;&gt;25</title>\n<path fill=\"none\" stroke=\"#000000\" d=\"M983.5616,-298.2365C1005.1709,-286.8286 1029.5039,-273.9827 1051.4958,-262.3728\"/>\n<polygon fill=\"#000000\" stroke=\"#000000\" points=\"1053.23,-265.4151 1060.4393,-257.6513 1049.9619,-259.2248 1053.23,-265.4151\"/>\n</g>\n<!-- 21 -->\n<g id=\"node22\" class=\"node\">\n<title>21</title>\n<path fill=\"#85c2ef\" stroke=\"#000000\" d=\"M896.5,-157C896.5,-157 804.5,-157 804.5,-157 798.5,-157 792.5,-151 792.5,-145 792.5,-145 792.5,-101 792.5,-101 792.5,-95 798.5,-89 804.5,-89 804.5,-89 896.5,-89 896.5,-89 902.5,-89 908.5,-95 908.5,-101 908.5,-101 908.5,-145 908.5,-145 908.5,-151 902.5,-157 896.5,-157\"/>\n<text text-anchor=\"start\" x=\"815.5\" y=\"-141.8\" font-family=\"Helvetica,sans-Serif\" font-size=\"14.00\" fill=\"#000000\">Age ≤ 25.0</text>\n<text text-anchor=\"start\" x=\"821\" y=\"-126.8\" font-family=\"Helvetica,sans-Serif\" font-size=\"14.00\" fill=\"#000000\">gini = 0.4</text>\n<text text-anchor=\"start\" x=\"806.5\" y=\"-111.8\" font-family=\"Helvetica,sans-Serif\" font-size=\"14.00\" fill=\"#000000\">samples = 64</text>\n<text text-anchor=\"start\" x=\"800.5\" y=\"-96.8\" font-family=\"Helvetica,sans-Serif\" font-size=\"14.00\" fill=\"#000000\">value = [29, 76]</text>\n</g>\n<!-- 20&#45;&gt;21 -->\n<g id=\"edge21\" class=\"edge\">\n<title>20&#45;&gt;21</title>\n<path fill=\"none\" stroke=\"#000000\" d=\"M898.2519,-192.9465C892.245,-184.1475 885.7045,-174.5672 879.4457,-165.3993\"/>\n<polygon fill=\"#000000\" stroke=\"#000000\" points=\"882.3293,-163.4155 873.8003,-157.13 876.548,-167.3623 882.3293,-163.4155\"/>\n</g>\n<!-- 24 -->\n<g id=\"node25\" class=\"node\">\n<title>24</title>\n<path fill=\"#afd7f4\" stroke=\"#000000\" d=\"M1030.5,-149.5C1030.5,-149.5 938.5,-149.5 938.5,-149.5 932.5,-149.5 926.5,-143.5 926.5,-137.5 926.5,-137.5 926.5,-108.5 926.5,-108.5 926.5,-102.5 932.5,-96.5 938.5,-96.5 938.5,-96.5 1030.5,-96.5 1030.5,-96.5 1036.5,-96.5 1042.5,-102.5 1042.5,-108.5 1042.5,-108.5 1042.5,-137.5 1042.5,-137.5 1042.5,-143.5 1036.5,-149.5 1030.5,-149.5\"/>\n<text text-anchor=\"start\" x=\"946.5\" y=\"-134.3\" font-family=\"Helvetica,sans-Serif\" font-size=\"14.00\" fill=\"#000000\">gini = 0.468</text>\n<text text-anchor=\"start\" x=\"940.5\" y=\"-119.3\" font-family=\"Helvetica,sans-Serif\" font-size=\"14.00\" fill=\"#000000\">samples = 29</text>\n<text text-anchor=\"start\" x=\"934.5\" y=\"-104.3\" font-family=\"Helvetica,sans-Serif\" font-size=\"14.00\" fill=\"#000000\">value = [19, 32]</text>\n</g>\n<!-- 20&#45;&gt;24 -->\n<g id=\"edge24\" class=\"edge\">\n<title>20&#45;&gt;24</title>\n<path fill=\"none\" stroke=\"#000000\" d=\"M942.1286,-192.9465C948.8678,-181.8215 956.3637,-169.4473 963.1545,-158.237\"/>\n<polygon fill=\"#000000\" stroke=\"#000000\" points=\"966.2339,-159.9087 968.4216,-149.5422 960.2467,-156.2818 966.2339,-159.9087\"/>\n</g>\n<!-- 22 -->\n<g id=\"node23\" class=\"node\">\n<title>22</title>\n<path fill=\"#a0d0f3\" stroke=\"#000000\" d=\"M895.5,-53C895.5,-53 803.5,-53 803.5,-53 797.5,-53 791.5,-47 791.5,-41 791.5,-41 791.5,-12 791.5,-12 791.5,-6 797.5,0 803.5,0 803.5,0 895.5,0 895.5,0 901.5,0 907.5,-6 907.5,-12 907.5,-12 907.5,-41 907.5,-41 907.5,-47 901.5,-53 895.5,-53\"/>\n<text text-anchor=\"start\" x=\"816\" y=\"-37.8\" font-family=\"Helvetica,sans-Serif\" font-size=\"14.00\" fill=\"#000000\">gini = 0.45</text>\n<text text-anchor=\"start\" x=\"805.5\" y=\"-22.8\" font-family=\"Helvetica,sans-Serif\" font-size=\"14.00\" fill=\"#000000\">samples = 22</text>\n<text text-anchor=\"start\" x=\"799.5\" y=\"-7.8\" font-family=\"Helvetica,sans-Serif\" font-size=\"14.00\" fill=\"#000000\">value = [13, 25]</text>\n</g>\n<!-- 21&#45;&gt;22 -->\n<g id=\"edge22\" class=\"edge\">\n<title>21&#45;&gt;22</title>\n<path fill=\"none\" stroke=\"#000000\" d=\"M850.1474,-88.9777C850.062,-80.7364 849.9703,-71.887 849.8836,-63.5153\"/>\n<polygon fill=\"#000000\" stroke=\"#000000\" points=\"853.3807,-63.2116 849.7772,-53.2485 846.3811,-63.2842 853.3807,-63.2116\"/>\n</g>\n<!-- 23 -->\n<g id=\"node24\" class=\"node\">\n<title>23</title>\n<path fill=\"#77bced\" stroke=\"#000000\" d=\"M1029.5,-53C1029.5,-53 937.5,-53 937.5,-53 931.5,-53 925.5,-47 925.5,-41 925.5,-41 925.5,-12 925.5,-12 925.5,-6 931.5,0 937.5,0 937.5,0 1029.5,0 1029.5,0 1035.5,0 1041.5,-6 1041.5,-12 1041.5,-12 1041.5,-41 1041.5,-41 1041.5,-47 1035.5,-53 1029.5,-53\"/>\n<text text-anchor=\"start\" x=\"945.5\" y=\"-37.8\" font-family=\"Helvetica,sans-Serif\" font-size=\"14.00\" fill=\"#000000\">gini = 0.364</text>\n<text text-anchor=\"start\" x=\"939.5\" y=\"-22.8\" font-family=\"Helvetica,sans-Serif\" font-size=\"14.00\" fill=\"#000000\">samples = 42</text>\n<text text-anchor=\"start\" x=\"933.5\" y=\"-7.8\" font-family=\"Helvetica,sans-Serif\" font-size=\"14.00\" fill=\"#000000\">value = [16, 51]</text>\n</g>\n<!-- 21&#45;&gt;23 -->\n<g id=\"edge23\" class=\"edge\">\n<title>21&#45;&gt;23</title>\n<path fill=\"none\" stroke=\"#000000\" d=\"M897.3908,-88.9777C910.6423,-79.3629 925.0347,-68.9203 938.1913,-59.3743\"/>\n<polygon fill=\"#000000\" stroke=\"#000000\" points=\"940.5957,-61.9541 946.6342,-53.2485 936.4848,-56.2883 940.5957,-61.9541\"/>\n</g>\n<!-- 26 -->\n<g id=\"node27\" class=\"node\">\n<title>26</title>\n<path fill=\"#93caf1\" stroke=\"#000000\" d=\"M1164.5,-149.5C1164.5,-149.5 1072.5,-149.5 1072.5,-149.5 1066.5,-149.5 1060.5,-143.5 1060.5,-137.5 1060.5,-137.5 1060.5,-108.5 1060.5,-108.5 1060.5,-102.5 1066.5,-96.5 1072.5,-96.5 1072.5,-96.5 1164.5,-96.5 1164.5,-96.5 1170.5,-96.5 1176.5,-102.5 1176.5,-108.5 1176.5,-108.5 1176.5,-137.5 1176.5,-137.5 1176.5,-143.5 1170.5,-149.5 1164.5,-149.5\"/>\n<text text-anchor=\"start\" x=\"1085\" y=\"-134.3\" font-family=\"Helvetica,sans-Serif\" font-size=\"14.00\" fill=\"#000000\">gini = 0.43</text>\n<text text-anchor=\"start\" x=\"1074.5\" y=\"-119.3\" font-family=\"Helvetica,sans-Serif\" font-size=\"14.00\" fill=\"#000000\">samples = 22</text>\n<text text-anchor=\"start\" x=\"1068.5\" y=\"-104.3\" font-family=\"Helvetica,sans-Serif\" font-size=\"14.00\" fill=\"#000000\">value = [10, 22]</text>\n</g>\n<!-- 25&#45;&gt;26 -->\n<g id=\"edge26\" class=\"edge\">\n<title>25&#45;&gt;26</title>\n<path fill=\"none\" stroke=\"#000000\" d=\"M1118.5,-192.9465C1118.5,-182.2621 1118.5,-170.4254 1118.5,-159.5742\"/>\n<polygon fill=\"#000000\" stroke=\"#000000\" points=\"1122.0001,-159.5421 1118.5,-149.5422 1115.0001,-159.5422 1122.0001,-159.5421\"/>\n</g>\n<!-- 27 -->\n<g id=\"node28\" class=\"node\">\n<title>27</title>\n<path fill=\"#fbebdf\" stroke=\"#000000\" d=\"M1298.5,-149.5C1298.5,-149.5 1206.5,-149.5 1206.5,-149.5 1200.5,-149.5 1194.5,-143.5 1194.5,-137.5 1194.5,-137.5 1194.5,-108.5 1194.5,-108.5 1194.5,-102.5 1200.5,-96.5 1206.5,-96.5 1206.5,-96.5 1298.5,-96.5 1298.5,-96.5 1304.5,-96.5 1310.5,-102.5 1310.5,-108.5 1310.5,-108.5 1310.5,-137.5 1310.5,-137.5 1310.5,-143.5 1304.5,-149.5 1298.5,-149.5\"/>\n<text text-anchor=\"start\" x=\"1214.5\" y=\"-134.3\" font-family=\"Helvetica,sans-Serif\" font-size=\"14.00\" fill=\"#000000\">gini = 0.496</text>\n<text text-anchor=\"start\" x=\"1208.5\" y=\"-119.3\" font-family=\"Helvetica,sans-Serif\" font-size=\"14.00\" fill=\"#000000\">samples = 35</text>\n<text text-anchor=\"start\" x=\"1202.5\" y=\"-104.3\" font-family=\"Helvetica,sans-Serif\" font-size=\"14.00\" fill=\"#000000\">value = [31, 26]</text>\n</g>\n<!-- 25&#45;&gt;27 -->\n<g id=\"edge27\" class=\"edge\">\n<title>25&#45;&gt;27</title>\n<path fill=\"none\" stroke=\"#000000\" d=\"M1162.3766,-192.9465C1177.7043,-181.0504 1194.8723,-167.726 1210.0791,-155.9237\"/>\n<polygon fill=\"#000000\" stroke=\"#000000\" points=\"1212.5475,-158.4384 1218.3014,-149.5422 1208.2556,-152.9085 1212.5475,-158.4384\"/>\n</g>\n</g>\n</svg>\n"
          },
          "metadata": {},
          "execution_count": 30
        }
      ]
    },
    {
      "cell_type": "markdown",
      "source": [
        "**4.Five Fold cross validation for Random Forest**"
      ],
      "metadata": {
        "id": "WZcsl3CPaQmg"
      },
      "id": "WZcsl3CPaQmg"
    },
    {
      "cell_type": "code",
      "source": [
        "# Perform_five_fold_cross_validation_and_find_average\n",
        "five_fold_cross_rf = cross_val_score(rf_model, training_data_X, training_data_Y, cv=5)\n",
        "print(\"Five Fold Cross: \", five_fold_cross_rf)\n",
        "print(\"Average of Five Fold Cross: \", np.average(five_fold_cross_rf))\n",
        "\n",
        "# For_tweeking_purposes_find_feature_importance_to_possible_adjust_feature_selection\n",
        "rf_important_features = rf_model.feature_importances_\n",
        "#print(rf_important_features)\n",
        "plt.bar(features_list, rf_important_features)\n",
        "plt.title(\"Feature Importance: Random Forest\")\n",
        "plt.show()"
      ],
      "metadata": {
        "colab": {
          "base_uri": "https://localhost:8080/",
          "height": 316
        },
        "id": "saCjpFnhaXZo",
        "outputId": "b9ed2210-4007-4767-ec74-ca61ea81f1ac"
      },
      "id": "saCjpFnhaXZo",
      "execution_count": null,
      "outputs": [
        {
          "output_type": "stream",
          "name": "stdout",
          "text": [
            "Five Fold Cross:  [0.74301676 0.79775281 0.83146067 0.78089888 0.80898876]\n",
            "Average of Five Fold Cross:  0.7924235766744084\n"
          ]
        },
        {
          "output_type": "display_data",
          "data": {
            "text/plain": [
              "<Figure size 432x288 with 1 Axes>"
            ],
            "image/png": "[encoded data removed]"
          },
          "metadata": {
            "needs_background": "light"
          }
        }
      ]
    },
    {
      "cell_type": "markdown",
      "source": [
        "**5.Comparsion/Analysis Between Decision Tree and Random Forest**\n",
        "\n",
        "According to the program's results, a decision tree classifier appears to be more stable than the random forest classifier, but the random forest classifier has the potential to be superior. Each modification in the decision tree's variables during cross validations resulted in a change in the tree that persisted over numerous runs with the same variables. On the other hand, random forest has a range of values it can obtain through cross validation even when the variables are left intact; occasionally, it has been more than the decision tree's value, but it has typically been lower.\n",
        "\n",
        "The real potential of these two models will need to be tested further, however as a point of reference, the best average validation scores during testing were:\n",
        "\n",
        "\n",
        "*   Decision Tree: 0.8058125666938671\n",
        "*  Random Forest: 0.8092021844203126\n",
        "\n",
        "\n"
      ],
      "metadata": {
        "id": "uBaEq6gCaq2w"
      },
      "id": "uBaEq6gCaq2w"
    },
    {
      "cell_type": "markdown",
      "id": "77e01574",
      "metadata": {
        "id": "77e01574"
      },
      "source": [
        "## Task 6: "
      ]
    },
    {
      "cell_type": "markdown",
      "id": "3bbfb51a",
      "metadata": {
        "id": "3bbfb51a"
      },
      "source": [
        "**Construct a support vector machine that computes the kernel function. Use four values of +1 and -1 for both inputs and outputs: (20 points)**"
      ]
    },
    {
      "cell_type": "markdown",
      "id": "dde31d79",
      "metadata": {
        "id": "dde31d79"
      },
      "source": [
        "        [−1, −1] (negative)\n",
        "        \n",
        "        [−1, +1] (positive)\n",
        "        \n",
        "        [+1, −1] (positive)\n",
        "        \n",
        "        [+1, +1] (negative).\n",
        "\n",
        "- Map the input [x1, x2] into a space consisting of x1 and x1x2. Draw the four input points in this space, and the maximal margin separator. What is the margin? 【 To be consistent with our lecture notes, margin is defined as the distance from the middle way/hyperplane to either support vectors. 】"
      ]
    },
    {
      "cell_type": "code",
      "execution_count": 36,
      "id": "efa78cf4",
      "metadata": {
        "id": "efa78cf4",
        "outputId": "d3671a18-1afd-4bf3-a49c-ac4c441421bc",
        "colab": {
          "base_uri": "https://localhost:8080/",
          "height": 287
        }
      },
      "outputs": [
        {
          "output_type": "execute_result",
          "data": {
            "text/plain": [
              "Text(0.5, 1.0, 'Scatter plot of data to be classified')"
            ]
          },
          "metadata": {},
          "execution_count": 36
        },
        {
          "output_type": "display_data",
          "data": {
            "text/plain": [
              "<Figure size 432x288 with 1 Axes>"
            ],
            "image/png": "[encoded data removed]"
          },
          "metadata": {
            "needs_background": "light"
          }
        }
      ],
      "source": [
        "## Plotting data\n",
        "\n",
        "x = np.array([[-1,-1],\n",
        "              [-1,1],\n",
        "              [1,-1],\n",
        "              [1,1]])\n",
        "\n",
        "fig = plt.figure()\n",
        "ax = fig.add_subplot(1, 1, 1)\n",
        "\n",
        "# Move left y-axis and bottim x-axis to centre, passing through (0,0)\n",
        "\n",
        "ax.spines['left'].set_position('center')\n",
        "ax.spines['bottom'].set_position('center')\n",
        "\n",
        "# Eliminate upper and right axes\n",
        "\n",
        "ax.spines['right'].set_color('none')\n",
        "ax.spines['top'].set_color('none')\n",
        "\n",
        "# Show ticks in the left and lower axes only\n",
        "\n",
        "ax.xaxis.set_ticks_position('bottom')\n",
        "ax.yaxis.set_ticks_position('left')\n",
        "\n",
        "plt.scatter(x[:,0],x[:,1],c=['g','b','b','g'])\n",
        "plt.text(-1.2,-1.05,'_', fontsize=20)\n",
        "plt.text(1.05,-1.1,'+', fontsize=20)\n",
        "plt.text(1.05,1.3,'_', fontsize=20)\n",
        "plt.text(-1.05,1.1,'+', fontsize=20)\n",
        "plt.text(2,0.15,'$x_1$', fontsize=15)\n",
        "plt.text(0.1,1.9,'$x_2$', fontsize=15)\n",
        "plt.xlim(-2,2)\n",
        "plt.ylim(-2,2)\n",
        "plt.title('Scatter plot of data to be classified')"
      ]
    },
    {
      "cell_type": "markdown",
      "id": "8c634973",
      "metadata": {
        "id": "8c634973"
      },
      "source": [
        "### Transforming input [x1, x2] into a space consisting of x1 and x1x2."
      ]
    },
    {
      "cell_type": "code",
      "execution_count": 34,
      "id": "2346c0fa",
      "metadata": {
        "id": "2346c0fa",
        "outputId": "d5643389-2f88-4fb4-cd0f-bbe292542569",
        "colab": {
          "base_uri": "https://localhost:8080/"
        }
      },
      "outputs": [
        {
          "output_type": "execute_result",
          "data": {
            "text/plain": [
              "array([[-1,  1],\n",
              "       [-1, -1],\n",
              "       [ 1, -1],\n",
              "       [ 1,  1]])"
            ]
          },
          "metadata": {},
          "execution_count": 34
        }
      ],
      "source": [
        "x1x2 = np.prod(x,axis=1)\n",
        "x_new = np.array([x[:,0], x1x2]).T\n",
        "x_new"
      ]
    },
    {
      "cell_type": "code",
      "execution_count": 37,
      "id": "c70ac508",
      "metadata": {
        "id": "c70ac508",
        "outputId": "5fcc0f83-252f-47fd-fb9f-3515c47093ee",
        "colab": {
          "base_uri": "https://localhost:8080/",
          "height": 287
        }
      },
      "outputs": [
        {
          "output_type": "execute_result",
          "data": {
            "text/plain": [
              "Text(0.5, 1.0, 'Scatter plot of transformed data')"
            ]
          },
          "metadata": {},
          "execution_count": 37
        },
        {
          "output_type": "display_data",
          "data": {
            "text/plain": [
              "<Figure size 432x288 with 1 Axes>"
            ],
            "image/png": "[encoded data removed]"
          },
          "metadata": {
            "needs_background": "light"
          }
        }
      ],
      "source": [
        "fig = plt.figure()\n",
        "ax = fig.add_subplot(1, 1, 1)\n",
        "\n",
        "# Move left y-axis and bottim x-axis to centre, passing through (0,0)\n",
        "ax.spines['left'].set_position('center')\n",
        "ax.spines['bottom'].set_position('center')\n",
        "\n",
        "# Eliminate upper and right axes\n",
        "ax.spines['right'].set_color('none')\n",
        "ax.spines['top'].set_color('none')\n",
        "\n",
        "# Show ticks in the left and lower axes only\n",
        "ax.xaxis.set_ticks_position('bottom')\n",
        "ax.yaxis.set_ticks_position('left')\n",
        "a = np.arange(-2,2.2,0.1)\n",
        "\n",
        "plt.scatter(x_new[:,0],x_new[:,1],c=['b','g','g','b'])\n",
        "plt.plot(a,np.zeros_like(a),'b--')\n",
        "plt.text(-1.25,-1.15,'+', fontsize=20)\n",
        "plt.text(1.05,-1.1,'+', fontsize=20)\n",
        "plt.text(1.05,1.3,'_', fontsize=20)\n",
        "plt.text(-1.15,1.3,'_', fontsize=20)\n",
        "plt.text(1.5,-0.5,r'Maximum margin separator $x_1x_2 = 0$')\n",
        "plt.text(2,0.15,'$x_1$', fontsize=15)\n",
        "plt.text(0.1,1.9,'$x_1x_2$', fontsize=15)\n",
        "plt.xlim(-2,2)\n",
        "plt.ylim(-2,2)\n",
        "plt.title('Scatter plot of transformed data')"
      ]
    }
  ],
  "metadata": {
    "kernelspec": {
      "display_name": "Python 3 (ipykernel)",
      "language": "python",
      "name": "python3"
    },
    "language_info": {
      "codemirror_mode": {
        "name": "ipython",
        "version": 3
      },
      "file_extension": ".py",
      "mimetype": "text/x-python",
      "name": "python",
      "nbconvert_exporter": "python",
      "pygments_lexer": "ipython3",
      "version": "3.9.13"
    },
    "colab": {
      "provenance": []
    }
  },
  "nbformat": 4,
  "nbformat_minor": 5
}